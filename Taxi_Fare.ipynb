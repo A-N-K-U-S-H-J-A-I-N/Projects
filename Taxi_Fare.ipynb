{
  "cells": [
    {
      "cell_type": "code",
      "execution_count": null,
      "metadata": {
        "id": "4x0_F6MT2qO1"
      },
      "outputs": [],
      "source": [
        "import pandas as pd\n",
        "import numpy as np\n",
        "import seaborn as sns\n",
        "import matplotlib.pyplot as plt\n",
        "from sklearn.model_selection import train_test_split\n",
        "from sklearn.linear_model import LinearRegression\n",
        "from sklearn.neighbors import KNeighborsRegressor\n",
        "from sklearn.ensemble import GradientBoostingRegressor\n",
        "from sklearn.metrics import accuracy_score\n",
        "\n"
      ]
    },
    {
      "cell_type": "code",
      "execution_count": null,
      "metadata": {
        "id": "DibLfY552wDp"
      },
      "outputs": [],
      "source": [
        "df=pd.read_csv(\"https://raw.githubusercontent.com/Premalatha-success/Datasets/main/TaxiFare.csv\")"
      ]
    },
    {
      "cell_type": "code",
      "execution_count": null,
      "metadata": {
        "colab": {
          "base_uri": "https://localhost:8080/",
          "height": 206
        },
        "id": "urSoAL6z2yyB",
        "outputId": "a5d6df2f-fcf5-4816-f948-79d2393e8df4"
      },
      "outputs": [
        {
          "output_type": "execute_result",
          "data": {
            "text/plain": [
              "  unique_id  amount      date_time_of_pickup  longitude_of_pickup  \\\n",
              "0   26:21.0     4.5  2009-06-15 17:26:21 UTC           -73.844311   \n",
              "1   52:16.0    16.9  2010-01-05 16:52:16 UTC           -74.016048   \n",
              "2   35:00.0     5.7  2011-08-18 00:35:00 UTC           -73.982738   \n",
              "3   30:42.0     7.7  2012-04-21 04:30:42 UTC           -73.987130   \n",
              "4   51:00.0     5.3  2010-03-09 07:51:00 UTC           -73.968095   \n",
              "\n",
              "   latitude_of_pickup  longitude_of_dropoff  latitude_of_dropoff  \\\n",
              "0           40.721319            -73.841610            40.712278   \n",
              "1           40.711303            -73.979268            40.782004   \n",
              "2           40.761270            -73.991242            40.750562   \n",
              "3           40.733143            -73.991567            40.758092   \n",
              "4           40.768008            -73.956655            40.783762   \n",
              "\n",
              "   no_of_passenger  \n",
              "0                1  \n",
              "1                1  \n",
              "2                2  \n",
              "3                1  \n",
              "4                1  "
            ],
            "text/html": [
              "\n",
              "  <div id=\"df-a69e37c0-5650-4697-87fe-604a4b02a228\">\n",
              "    <div class=\"colab-df-container\">\n",
              "      <div>\n",
              "<style scoped>\n",
              "    .dataframe tbody tr th:only-of-type {\n",
              "        vertical-align: middle;\n",
              "    }\n",
              "\n",
              "    .dataframe tbody tr th {\n",
              "        vertical-align: top;\n",
              "    }\n",
              "\n",
              "    .dataframe thead th {\n",
              "        text-align: right;\n",
              "    }\n",
              "</style>\n",
              "<table border=\"1\" class=\"dataframe\">\n",
              "  <thead>\n",
              "    <tr style=\"text-align: right;\">\n",
              "      <th></th>\n",
              "      <th>unique_id</th>\n",
              "      <th>amount</th>\n",
              "      <th>date_time_of_pickup</th>\n",
              "      <th>longitude_of_pickup</th>\n",
              "      <th>latitude_of_pickup</th>\n",
              "      <th>longitude_of_dropoff</th>\n",
              "      <th>latitude_of_dropoff</th>\n",
              "      <th>no_of_passenger</th>\n",
              "    </tr>\n",
              "  </thead>\n",
              "  <tbody>\n",
              "    <tr>\n",
              "      <th>0</th>\n",
              "      <td>26:21.0</td>\n",
              "      <td>4.5</td>\n",
              "      <td>2009-06-15 17:26:21 UTC</td>\n",
              "      <td>-73.844311</td>\n",
              "      <td>40.721319</td>\n",
              "      <td>-73.841610</td>\n",
              "      <td>40.712278</td>\n",
              "      <td>1</td>\n",
              "    </tr>\n",
              "    <tr>\n",
              "      <th>1</th>\n",
              "      <td>52:16.0</td>\n",
              "      <td>16.9</td>\n",
              "      <td>2010-01-05 16:52:16 UTC</td>\n",
              "      <td>-74.016048</td>\n",
              "      <td>40.711303</td>\n",
              "      <td>-73.979268</td>\n",
              "      <td>40.782004</td>\n",
              "      <td>1</td>\n",
              "    </tr>\n",
              "    <tr>\n",
              "      <th>2</th>\n",
              "      <td>35:00.0</td>\n",
              "      <td>5.7</td>\n",
              "      <td>2011-08-18 00:35:00 UTC</td>\n",
              "      <td>-73.982738</td>\n",
              "      <td>40.761270</td>\n",
              "      <td>-73.991242</td>\n",
              "      <td>40.750562</td>\n",
              "      <td>2</td>\n",
              "    </tr>\n",
              "    <tr>\n",
              "      <th>3</th>\n",
              "      <td>30:42.0</td>\n",
              "      <td>7.7</td>\n",
              "      <td>2012-04-21 04:30:42 UTC</td>\n",
              "      <td>-73.987130</td>\n",
              "      <td>40.733143</td>\n",
              "      <td>-73.991567</td>\n",
              "      <td>40.758092</td>\n",
              "      <td>1</td>\n",
              "    </tr>\n",
              "    <tr>\n",
              "      <th>4</th>\n",
              "      <td>51:00.0</td>\n",
              "      <td>5.3</td>\n",
              "      <td>2010-03-09 07:51:00 UTC</td>\n",
              "      <td>-73.968095</td>\n",
              "      <td>40.768008</td>\n",
              "      <td>-73.956655</td>\n",
              "      <td>40.783762</td>\n",
              "      <td>1</td>\n",
              "    </tr>\n",
              "  </tbody>\n",
              "</table>\n",
              "</div>\n",
              "      <button class=\"colab-df-convert\" onclick=\"convertToInteractive('df-a69e37c0-5650-4697-87fe-604a4b02a228')\"\n",
              "              title=\"Convert this dataframe to an interactive table.\"\n",
              "              style=\"display:none;\">\n",
              "        \n",
              "  <svg xmlns=\"http://www.w3.org/2000/svg\" height=\"24px\"viewBox=\"0 0 24 24\"\n",
              "       width=\"24px\">\n",
              "    <path d=\"M0 0h24v24H0V0z\" fill=\"none\"/>\n",
              "    <path d=\"M18.56 5.44l.94 2.06.94-2.06 2.06-.94-2.06-.94-.94-2.06-.94 2.06-2.06.94zm-11 1L8.5 8.5l.94-2.06 2.06-.94-2.06-.94L8.5 2.5l-.94 2.06-2.06.94zm10 10l.94 2.06.94-2.06 2.06-.94-2.06-.94-.94-2.06-.94 2.06-2.06.94z\"/><path d=\"M17.41 7.96l-1.37-1.37c-.4-.4-.92-.59-1.43-.59-.52 0-1.04.2-1.43.59L10.3 9.45l-7.72 7.72c-.78.78-.78 2.05 0 2.83L4 21.41c.39.39.9.59 1.41.59.51 0 1.02-.2 1.41-.59l7.78-7.78 2.81-2.81c.8-.78.8-2.07 0-2.86zM5.41 20L4 18.59l7.72-7.72 1.47 1.35L5.41 20z\"/>\n",
              "  </svg>\n",
              "      </button>\n",
              "      \n",
              "  <style>\n",
              "    .colab-df-container {\n",
              "      display:flex;\n",
              "      flex-wrap:wrap;\n",
              "      gap: 12px;\n",
              "    }\n",
              "\n",
              "    .colab-df-convert {\n",
              "      background-color: #E8F0FE;\n",
              "      border: none;\n",
              "      border-radius: 50%;\n",
              "      cursor: pointer;\n",
              "      display: none;\n",
              "      fill: #1967D2;\n",
              "      height: 32px;\n",
              "      padding: 0 0 0 0;\n",
              "      width: 32px;\n",
              "    }\n",
              "\n",
              "    .colab-df-convert:hover {\n",
              "      background-color: #E2EBFA;\n",
              "      box-shadow: 0px 1px 2px rgba(60, 64, 67, 0.3), 0px 1px 3px 1px rgba(60, 64, 67, 0.15);\n",
              "      fill: #174EA6;\n",
              "    }\n",
              "\n",
              "    [theme=dark] .colab-df-convert {\n",
              "      background-color: #3B4455;\n",
              "      fill: #D2E3FC;\n",
              "    }\n",
              "\n",
              "    [theme=dark] .colab-df-convert:hover {\n",
              "      background-color: #434B5C;\n",
              "      box-shadow: 0px 1px 3px 1px rgba(0, 0, 0, 0.15);\n",
              "      filter: drop-shadow(0px 1px 2px rgba(0, 0, 0, 0.3));\n",
              "      fill: #FFFFFF;\n",
              "    }\n",
              "  </style>\n",
              "\n",
              "      <script>\n",
              "        const buttonEl =\n",
              "          document.querySelector('#df-a69e37c0-5650-4697-87fe-604a4b02a228 button.colab-df-convert');\n",
              "        buttonEl.style.display =\n",
              "          google.colab.kernel.accessAllowed ? 'block' : 'none';\n",
              "\n",
              "        async function convertToInteractive(key) {\n",
              "          const element = document.querySelector('#df-a69e37c0-5650-4697-87fe-604a4b02a228');\n",
              "          const dataTable =\n",
              "            await google.colab.kernel.invokeFunction('convertToInteractive',\n",
              "                                                     [key], {});\n",
              "          if (!dataTable) return;\n",
              "\n",
              "          const docLinkHtml = 'Like what you see? Visit the ' +\n",
              "            '<a target=\"_blank\" href=https://colab.research.google.com/notebooks/data_table.ipynb>data table notebook</a>'\n",
              "            + ' to learn more about interactive tables.';\n",
              "          element.innerHTML = '';\n",
              "          dataTable['output_type'] = 'display_data';\n",
              "          await google.colab.output.renderOutput(dataTable, element);\n",
              "          const docLink = document.createElement('div');\n",
              "          docLink.innerHTML = docLinkHtml;\n",
              "          element.appendChild(docLink);\n",
              "        }\n",
              "      </script>\n",
              "    </div>\n",
              "  </div>\n",
              "  "
            ]
          },
          "metadata": {},
          "execution_count": 5
        }
      ],
      "source": [
        "df.head()"
      ]
    },
    {
      "cell_type": "code",
      "execution_count": null,
      "metadata": {
        "colab": {
          "base_uri": "https://localhost:8080/",
          "height": 206
        },
        "id": "nzD032eu2zrY",
        "outputId": "ed025a58-51a8-46ed-973d-507e5f52ed41"
      },
      "outputs": [
        {
          "output_type": "execute_result",
          "data": {
            "text/plain": [
              "      unique_id  amount      date_time_of_pickup  longitude_of_pickup  \\\n",
              "49995   25:15.0    15.0  2013-06-12 23:25:15 UTC           -73.999973   \n",
              "49996   19:18.0     7.5  2015-06-22 17:19:18 UTC           -73.984756   \n",
              "49997   53:00.0     6.9  2011-01-30 04:53:00 UTC           -74.002698   \n",
              "49998   09:00.0     4.5  2012-11-06 07:09:00 UTC           -73.946062   \n",
              "49999   13:14.0    10.9  2010-01-13 08:13:14 UTC           -73.932603   \n",
              "\n",
              "       latitude_of_pickup  longitude_of_dropoff  latitude_of_dropoff  \\\n",
              "49995           40.748531            -74.016899            40.705993   \n",
              "49996           40.768211            -73.987366            40.760597   \n",
              "49997           40.739428            -73.998108            40.759483   \n",
              "49998           40.777567            -73.953450            40.779687   \n",
              "49999           40.763805            -73.932603            40.763805   \n",
              "\n",
              "       no_of_passenger  \n",
              "49995                1  \n",
              "49996                1  \n",
              "49997                1  \n",
              "49998                2  \n",
              "49999                1  "
            ],
            "text/html": [
              "\n",
              "  <div id=\"df-e98aaa02-1bba-4caa-926e-7176fa019d17\">\n",
              "    <div class=\"colab-df-container\">\n",
              "      <div>\n",
              "<style scoped>\n",
              "    .dataframe tbody tr th:only-of-type {\n",
              "        vertical-align: middle;\n",
              "    }\n",
              "\n",
              "    .dataframe tbody tr th {\n",
              "        vertical-align: top;\n",
              "    }\n",
              "\n",
              "    .dataframe thead th {\n",
              "        text-align: right;\n",
              "    }\n",
              "</style>\n",
              "<table border=\"1\" class=\"dataframe\">\n",
              "  <thead>\n",
              "    <tr style=\"text-align: right;\">\n",
              "      <th></th>\n",
              "      <th>unique_id</th>\n",
              "      <th>amount</th>\n",
              "      <th>date_time_of_pickup</th>\n",
              "      <th>longitude_of_pickup</th>\n",
              "      <th>latitude_of_pickup</th>\n",
              "      <th>longitude_of_dropoff</th>\n",
              "      <th>latitude_of_dropoff</th>\n",
              "      <th>no_of_passenger</th>\n",
              "    </tr>\n",
              "  </thead>\n",
              "  <tbody>\n",
              "    <tr>\n",
              "      <th>49995</th>\n",
              "      <td>25:15.0</td>\n",
              "      <td>15.0</td>\n",
              "      <td>2013-06-12 23:25:15 UTC</td>\n",
              "      <td>-73.999973</td>\n",
              "      <td>40.748531</td>\n",
              "      <td>-74.016899</td>\n",
              "      <td>40.705993</td>\n",
              "      <td>1</td>\n",
              "    </tr>\n",
              "    <tr>\n",
              "      <th>49996</th>\n",
              "      <td>19:18.0</td>\n",
              "      <td>7.5</td>\n",
              "      <td>2015-06-22 17:19:18 UTC</td>\n",
              "      <td>-73.984756</td>\n",
              "      <td>40.768211</td>\n",
              "      <td>-73.987366</td>\n",
              "      <td>40.760597</td>\n",
              "      <td>1</td>\n",
              "    </tr>\n",
              "    <tr>\n",
              "      <th>49997</th>\n",
              "      <td>53:00.0</td>\n",
              "      <td>6.9</td>\n",
              "      <td>2011-01-30 04:53:00 UTC</td>\n",
              "      <td>-74.002698</td>\n",
              "      <td>40.739428</td>\n",
              "      <td>-73.998108</td>\n",
              "      <td>40.759483</td>\n",
              "      <td>1</td>\n",
              "    </tr>\n",
              "    <tr>\n",
              "      <th>49998</th>\n",
              "      <td>09:00.0</td>\n",
              "      <td>4.5</td>\n",
              "      <td>2012-11-06 07:09:00 UTC</td>\n",
              "      <td>-73.946062</td>\n",
              "      <td>40.777567</td>\n",
              "      <td>-73.953450</td>\n",
              "      <td>40.779687</td>\n",
              "      <td>2</td>\n",
              "    </tr>\n",
              "    <tr>\n",
              "      <th>49999</th>\n",
              "      <td>13:14.0</td>\n",
              "      <td>10.9</td>\n",
              "      <td>2010-01-13 08:13:14 UTC</td>\n",
              "      <td>-73.932603</td>\n",
              "      <td>40.763805</td>\n",
              "      <td>-73.932603</td>\n",
              "      <td>40.763805</td>\n",
              "      <td>1</td>\n",
              "    </tr>\n",
              "  </tbody>\n",
              "</table>\n",
              "</div>\n",
              "      <button class=\"colab-df-convert\" onclick=\"convertToInteractive('df-e98aaa02-1bba-4caa-926e-7176fa019d17')\"\n",
              "              title=\"Convert this dataframe to an interactive table.\"\n",
              "              style=\"display:none;\">\n",
              "        \n",
              "  <svg xmlns=\"http://www.w3.org/2000/svg\" height=\"24px\"viewBox=\"0 0 24 24\"\n",
              "       width=\"24px\">\n",
              "    <path d=\"M0 0h24v24H0V0z\" fill=\"none\"/>\n",
              "    <path d=\"M18.56 5.44l.94 2.06.94-2.06 2.06-.94-2.06-.94-.94-2.06-.94 2.06-2.06.94zm-11 1L8.5 8.5l.94-2.06 2.06-.94-2.06-.94L8.5 2.5l-.94 2.06-2.06.94zm10 10l.94 2.06.94-2.06 2.06-.94-2.06-.94-.94-2.06-.94 2.06-2.06.94z\"/><path d=\"M17.41 7.96l-1.37-1.37c-.4-.4-.92-.59-1.43-.59-.52 0-1.04.2-1.43.59L10.3 9.45l-7.72 7.72c-.78.78-.78 2.05 0 2.83L4 21.41c.39.39.9.59 1.41.59.51 0 1.02-.2 1.41-.59l7.78-7.78 2.81-2.81c.8-.78.8-2.07 0-2.86zM5.41 20L4 18.59l7.72-7.72 1.47 1.35L5.41 20z\"/>\n",
              "  </svg>\n",
              "      </button>\n",
              "      \n",
              "  <style>\n",
              "    .colab-df-container {\n",
              "      display:flex;\n",
              "      flex-wrap:wrap;\n",
              "      gap: 12px;\n",
              "    }\n",
              "\n",
              "    .colab-df-convert {\n",
              "      background-color: #E8F0FE;\n",
              "      border: none;\n",
              "      border-radius: 50%;\n",
              "      cursor: pointer;\n",
              "      display: none;\n",
              "      fill: #1967D2;\n",
              "      height: 32px;\n",
              "      padding: 0 0 0 0;\n",
              "      width: 32px;\n",
              "    }\n",
              "\n",
              "    .colab-df-convert:hover {\n",
              "      background-color: #E2EBFA;\n",
              "      box-shadow: 0px 1px 2px rgba(60, 64, 67, 0.3), 0px 1px 3px 1px rgba(60, 64, 67, 0.15);\n",
              "      fill: #174EA6;\n",
              "    }\n",
              "\n",
              "    [theme=dark] .colab-df-convert {\n",
              "      background-color: #3B4455;\n",
              "      fill: #D2E3FC;\n",
              "    }\n",
              "\n",
              "    [theme=dark] .colab-df-convert:hover {\n",
              "      background-color: #434B5C;\n",
              "      box-shadow: 0px 1px 3px 1px rgba(0, 0, 0, 0.15);\n",
              "      filter: drop-shadow(0px 1px 2px rgba(0, 0, 0, 0.3));\n",
              "      fill: #FFFFFF;\n",
              "    }\n",
              "  </style>\n",
              "\n",
              "      <script>\n",
              "        const buttonEl =\n",
              "          document.querySelector('#df-e98aaa02-1bba-4caa-926e-7176fa019d17 button.colab-df-convert');\n",
              "        buttonEl.style.display =\n",
              "          google.colab.kernel.accessAllowed ? 'block' : 'none';\n",
              "\n",
              "        async function convertToInteractive(key) {\n",
              "          const element = document.querySelector('#df-e98aaa02-1bba-4caa-926e-7176fa019d17');\n",
              "          const dataTable =\n",
              "            await google.colab.kernel.invokeFunction('convertToInteractive',\n",
              "                                                     [key], {});\n",
              "          if (!dataTable) return;\n",
              "\n",
              "          const docLinkHtml = 'Like what you see? Visit the ' +\n",
              "            '<a target=\"_blank\" href=https://colab.research.google.com/notebooks/data_table.ipynb>data table notebook</a>'\n",
              "            + ' to learn more about interactive tables.';\n",
              "          element.innerHTML = '';\n",
              "          dataTable['output_type'] = 'display_data';\n",
              "          await google.colab.output.renderOutput(dataTable, element);\n",
              "          const docLink = document.createElement('div');\n",
              "          docLink.innerHTML = docLinkHtml;\n",
              "          element.appendChild(docLink);\n",
              "        }\n",
              "      </script>\n",
              "    </div>\n",
              "  </div>\n",
              "  "
            ]
          },
          "metadata": {},
          "execution_count": 6
        }
      ],
      "source": [
        "df.tail()"
      ]
    },
    {
      "cell_type": "code",
      "execution_count": null,
      "metadata": {
        "colab": {
          "base_uri": "https://localhost:8080/"
        },
        "id": "nTpgWCJl3vK3",
        "outputId": "bb86d8e9-ae6c-4b19-f106-ca648d543949"
      },
      "outputs": [
        {
          "output_type": "stream",
          "name": "stdout",
          "text": [
            "<class 'pandas.core.frame.DataFrame'>\n",
            "RangeIndex: 50000 entries, 0 to 49999\n",
            "Data columns (total 8 columns):\n",
            " #   Column                Non-Null Count  Dtype  \n",
            "---  ------                --------------  -----  \n",
            " 0   unique_id             50000 non-null  object \n",
            " 1   amount                50000 non-null  float64\n",
            " 2   date_time_of_pickup   50000 non-null  object \n",
            " 3   longitude_of_pickup   50000 non-null  float64\n",
            " 4   latitude_of_pickup    50000 non-null  float64\n",
            " 5   longitude_of_dropoff  50000 non-null  float64\n",
            " 6   latitude_of_dropoff   50000 non-null  float64\n",
            " 7   no_of_passenger       50000 non-null  int64  \n",
            "dtypes: float64(5), int64(1), object(2)\n",
            "memory usage: 3.1+ MB\n"
          ]
        }
      ],
      "source": [
        "df.info()"
      ]
    },
    {
      "cell_type": "code",
      "execution_count": null,
      "metadata": {
        "colab": {
          "base_uri": "https://localhost:8080/"
        },
        "id": "Vvd7XYow4pQA",
        "outputId": "b3da8225-6657-45a8-ac18-9873b198f7be"
      },
      "outputs": [
        {
          "output_type": "execute_result",
          "data": {
            "text/plain": [
              "unique_id               0\n",
              "amount                  0\n",
              "date_time_of_pickup     0\n",
              "longitude_of_pickup     0\n",
              "latitude_of_pickup      0\n",
              "longitude_of_dropoff    0\n",
              "latitude_of_dropoff     0\n",
              "no_of_passenger         0\n",
              "dtype: int64"
            ]
          },
          "metadata": {},
          "execution_count": 8
        }
      ],
      "source": [
        "df.isnull().sum()"
      ]
    },
    {
      "cell_type": "code",
      "execution_count": null,
      "metadata": {
        "colab": {
          "base_uri": "https://localhost:8080/",
          "height": 300
        },
        "id": "dEdnTR5A4yPv",
        "outputId": "f312e2fc-839d-4eb7-a42f-6c414c2c01cd"
      },
      "outputs": [
        {
          "output_type": "execute_result",
          "data": {
            "text/plain": [
              "             amount  longitude_of_pickup  latitude_of_pickup  \\\n",
              "count  50000.000000         50000.000000        50000.000000   \n",
              "mean      11.364171           -72.509756           39.933759   \n",
              "std        9.685557            10.393860            6.224857   \n",
              "min       -5.000000           -75.423848          -74.006893   \n",
              "25%        6.000000           -73.992062           40.734880   \n",
              "50%        8.500000           -73.981840           40.752678   \n",
              "75%       12.500000           -73.967148           40.767360   \n",
              "max      200.000000            40.783472          401.083332   \n",
              "\n",
              "       longitude_of_dropoff  latitude_of_dropoff  no_of_passenger  \n",
              "count          50000.000000         50000.000000     50000.000000  \n",
              "mean             -72.504616            39.926251         1.667840  \n",
              "std               10.407570             6.014737         1.289195  \n",
              "min              -84.654241           -74.006377         0.000000  \n",
              "25%              -73.991152            40.734372         1.000000  \n",
              "50%              -73.980082            40.753372         1.000000  \n",
              "75%              -73.963584            40.768167         2.000000  \n",
              "max               40.851027            43.415190         6.000000  "
            ],
            "text/html": [
              "\n",
              "  <div id=\"df-6723a109-5dde-432e-8963-110413771b95\">\n",
              "    <div class=\"colab-df-container\">\n",
              "      <div>\n",
              "<style scoped>\n",
              "    .dataframe tbody tr th:only-of-type {\n",
              "        vertical-align: middle;\n",
              "    }\n",
              "\n",
              "    .dataframe tbody tr th {\n",
              "        vertical-align: top;\n",
              "    }\n",
              "\n",
              "    .dataframe thead th {\n",
              "        text-align: right;\n",
              "    }\n",
              "</style>\n",
              "<table border=\"1\" class=\"dataframe\">\n",
              "  <thead>\n",
              "    <tr style=\"text-align: right;\">\n",
              "      <th></th>\n",
              "      <th>amount</th>\n",
              "      <th>longitude_of_pickup</th>\n",
              "      <th>latitude_of_pickup</th>\n",
              "      <th>longitude_of_dropoff</th>\n",
              "      <th>latitude_of_dropoff</th>\n",
              "      <th>no_of_passenger</th>\n",
              "    </tr>\n",
              "  </thead>\n",
              "  <tbody>\n",
              "    <tr>\n",
              "      <th>count</th>\n",
              "      <td>50000.000000</td>\n",
              "      <td>50000.000000</td>\n",
              "      <td>50000.000000</td>\n",
              "      <td>50000.000000</td>\n",
              "      <td>50000.000000</td>\n",
              "      <td>50000.000000</td>\n",
              "    </tr>\n",
              "    <tr>\n",
              "      <th>mean</th>\n",
              "      <td>11.364171</td>\n",
              "      <td>-72.509756</td>\n",
              "      <td>39.933759</td>\n",
              "      <td>-72.504616</td>\n",
              "      <td>39.926251</td>\n",
              "      <td>1.667840</td>\n",
              "    </tr>\n",
              "    <tr>\n",
              "      <th>std</th>\n",
              "      <td>9.685557</td>\n",
              "      <td>10.393860</td>\n",
              "      <td>6.224857</td>\n",
              "      <td>10.407570</td>\n",
              "      <td>6.014737</td>\n",
              "      <td>1.289195</td>\n",
              "    </tr>\n",
              "    <tr>\n",
              "      <th>min</th>\n",
              "      <td>-5.000000</td>\n",
              "      <td>-75.423848</td>\n",
              "      <td>-74.006893</td>\n",
              "      <td>-84.654241</td>\n",
              "      <td>-74.006377</td>\n",
              "      <td>0.000000</td>\n",
              "    </tr>\n",
              "    <tr>\n",
              "      <th>25%</th>\n",
              "      <td>6.000000</td>\n",
              "      <td>-73.992062</td>\n",
              "      <td>40.734880</td>\n",
              "      <td>-73.991152</td>\n",
              "      <td>40.734372</td>\n",
              "      <td>1.000000</td>\n",
              "    </tr>\n",
              "    <tr>\n",
              "      <th>50%</th>\n",
              "      <td>8.500000</td>\n",
              "      <td>-73.981840</td>\n",
              "      <td>40.752678</td>\n",
              "      <td>-73.980082</td>\n",
              "      <td>40.753372</td>\n",
              "      <td>1.000000</td>\n",
              "    </tr>\n",
              "    <tr>\n",
              "      <th>75%</th>\n",
              "      <td>12.500000</td>\n",
              "      <td>-73.967148</td>\n",
              "      <td>40.767360</td>\n",
              "      <td>-73.963584</td>\n",
              "      <td>40.768167</td>\n",
              "      <td>2.000000</td>\n",
              "    </tr>\n",
              "    <tr>\n",
              "      <th>max</th>\n",
              "      <td>200.000000</td>\n",
              "      <td>40.783472</td>\n",
              "      <td>401.083332</td>\n",
              "      <td>40.851027</td>\n",
              "      <td>43.415190</td>\n",
              "      <td>6.000000</td>\n",
              "    </tr>\n",
              "  </tbody>\n",
              "</table>\n",
              "</div>\n",
              "      <button class=\"colab-df-convert\" onclick=\"convertToInteractive('df-6723a109-5dde-432e-8963-110413771b95')\"\n",
              "              title=\"Convert this dataframe to an interactive table.\"\n",
              "              style=\"display:none;\">\n",
              "        \n",
              "  <svg xmlns=\"http://www.w3.org/2000/svg\" height=\"24px\"viewBox=\"0 0 24 24\"\n",
              "       width=\"24px\">\n",
              "    <path d=\"M0 0h24v24H0V0z\" fill=\"none\"/>\n",
              "    <path d=\"M18.56 5.44l.94 2.06.94-2.06 2.06-.94-2.06-.94-.94-2.06-.94 2.06-2.06.94zm-11 1L8.5 8.5l.94-2.06 2.06-.94-2.06-.94L8.5 2.5l-.94 2.06-2.06.94zm10 10l.94 2.06.94-2.06 2.06-.94-2.06-.94-.94-2.06-.94 2.06-2.06.94z\"/><path d=\"M17.41 7.96l-1.37-1.37c-.4-.4-.92-.59-1.43-.59-.52 0-1.04.2-1.43.59L10.3 9.45l-7.72 7.72c-.78.78-.78 2.05 0 2.83L4 21.41c.39.39.9.59 1.41.59.51 0 1.02-.2 1.41-.59l7.78-7.78 2.81-2.81c.8-.78.8-2.07 0-2.86zM5.41 20L4 18.59l7.72-7.72 1.47 1.35L5.41 20z\"/>\n",
              "  </svg>\n",
              "      </button>\n",
              "      \n",
              "  <style>\n",
              "    .colab-df-container {\n",
              "      display:flex;\n",
              "      flex-wrap:wrap;\n",
              "      gap: 12px;\n",
              "    }\n",
              "\n",
              "    .colab-df-convert {\n",
              "      background-color: #E8F0FE;\n",
              "      border: none;\n",
              "      border-radius: 50%;\n",
              "      cursor: pointer;\n",
              "      display: none;\n",
              "      fill: #1967D2;\n",
              "      height: 32px;\n",
              "      padding: 0 0 0 0;\n",
              "      width: 32px;\n",
              "    }\n",
              "\n",
              "    .colab-df-convert:hover {\n",
              "      background-color: #E2EBFA;\n",
              "      box-shadow: 0px 1px 2px rgba(60, 64, 67, 0.3), 0px 1px 3px 1px rgba(60, 64, 67, 0.15);\n",
              "      fill: #174EA6;\n",
              "    }\n",
              "\n",
              "    [theme=dark] .colab-df-convert {\n",
              "      background-color: #3B4455;\n",
              "      fill: #D2E3FC;\n",
              "    }\n",
              "\n",
              "    [theme=dark] .colab-df-convert:hover {\n",
              "      background-color: #434B5C;\n",
              "      box-shadow: 0px 1px 3px 1px rgba(0, 0, 0, 0.15);\n",
              "      filter: drop-shadow(0px 1px 2px rgba(0, 0, 0, 0.3));\n",
              "      fill: #FFFFFF;\n",
              "    }\n",
              "  </style>\n",
              "\n",
              "      <script>\n",
              "        const buttonEl =\n",
              "          document.querySelector('#df-6723a109-5dde-432e-8963-110413771b95 button.colab-df-convert');\n",
              "        buttonEl.style.display =\n",
              "          google.colab.kernel.accessAllowed ? 'block' : 'none';\n",
              "\n",
              "        async function convertToInteractive(key) {\n",
              "          const element = document.querySelector('#df-6723a109-5dde-432e-8963-110413771b95');\n",
              "          const dataTable =\n",
              "            await google.colab.kernel.invokeFunction('convertToInteractive',\n",
              "                                                     [key], {});\n",
              "          if (!dataTable) return;\n",
              "\n",
              "          const docLinkHtml = 'Like what you see? Visit the ' +\n",
              "            '<a target=\"_blank\" href=https://colab.research.google.com/notebooks/data_table.ipynb>data table notebook</a>'\n",
              "            + ' to learn more about interactive tables.';\n",
              "          element.innerHTML = '';\n",
              "          dataTable['output_type'] = 'display_data';\n",
              "          await google.colab.output.renderOutput(dataTable, element);\n",
              "          const docLink = document.createElement('div');\n",
              "          docLink.innerHTML = docLinkHtml;\n",
              "          element.appendChild(docLink);\n",
              "        }\n",
              "      </script>\n",
              "    </div>\n",
              "  </div>\n",
              "  "
            ]
          },
          "metadata": {},
          "execution_count": 9
        }
      ],
      "source": [
        "df.describe()"
      ]
    },
    {
      "cell_type": "code",
      "execution_count": null,
      "metadata": {
        "id": "4TChh0MZ404g"
      },
      "outputs": [],
      "source": [
        "# OUTLIERS DETECTION(\"df\": is a variable for data set)\n",
        "def outlier_detector(ft):\n",
        "  global df\n",
        "  q1= df[ft].quantile(0.25)\n",
        "  q2= df[ft].quantile(0.75)\n",
        "  IQR=q2-q1\n",
        "  lower_bound=q1-1.5*IQR\n",
        "  upper_bound=q2+1.5*IQR\n",
        "  ls = df.index[(df[ft]<lower_bound) | (df[ft]>upper_bound)]\n",
        "  return ls\n",
        "\n"
      ]
    },
    {
      "cell_type": "code",
      "execution_count": null,
      "metadata": {
        "colab": {
          "base_uri": "https://localhost:8080/"
        },
        "id": "BWjIUsxiqJhj",
        "outputId": "faf75065-1f04-4240-fbad-f7893d6642e1"
      },
      "outputs": [
        {
          "output_type": "stream",
          "name": "stdout",
          "text": [
            "index_list :  [31, 32, 35, 54, 56, 77, 105, 112, 118, 132, 134, 147, 166, 171, 188, 194, 198, 204, 220, 232, 256, 286, 301, 305, 309, 314, 315, 320, 329, 330, 333, 344, 345, 347, 398, 399, 404, 426, 429, 437, 443, 449, 459, 460, 471, 475, 489, 499, 510, 511, 537, 538, 539, 552, 554, 582, 588, 622, 639, 649, 664, 665, 671, 690, 704, 709, 717, 726, 736, 737, 758, 765, 774, 787, 790, 791, 798, 801, 803, 809, 812, 832, 844, 846, 850, 857, 914, 927, 928, 962, 966, 979, 993, 997, 1011, 1014, 1022, 1041, 1051, 1056, 1075, 1091, 1102, 1121, 1128, 1137, 1151, 1163, 1176, 1181, 1185, 1194, 1220, 1232, 1244, 1282, 1288, 1299, 1312, 1335, 1348, 1349, 1350, 1368, 1387, 1388, 1401, 1404, 1425, 1427, 1431, 1441, 1445, 1477, 1483, 1486, 1487, 1493, 1494, 1535, 1557, 1568, 1578, 1583, 1587, 1607, 1612, 1619, 1623, 1628, 1643, 1645, 1697, 1709, 1722, 1728, 1739, 1741, 1751, 1762, 1764, 1791, 1796, 1802, 1842, 1849, 1868, 1879, 1885, 1904, 1930, 1940, 1949, 1955, 1974, 1979, 1983, 1995, 2009, 2013, 2016, 2017, 2048, 2050, 2057, 2069, 2089, 2090, 2121, 2122, 2125, 2129, 2135, 2145, 2157, 2166, 2172, 2173, 2176, 2182, 2191, 2194, 2206, 2224, 2243, 2261, 2264, 2270, 2283, 2287, 2299, 2323, 2338, 2344, 2346, 2363, 2366, 2388, 2390, 2392, 2397, 2428, 2432, 2433, 2443, 2454, 2495, 2502, 2525, 2542, 2567, 2576, 2581, 2607, 2614, 2619, 2620, 2635, 2639, 2643, 2645, 2646, 2694, 2742, 2746, 2754, 2759, 2765, 2793, 2794, 2813, 2824, 2834, 2841, 2853, 2914, 2918, 2920, 2923, 2938, 2956, 2999, 3000, 3015, 3017, 3021, 3035, 3058, 3107, 3110, 3113, 3149, 3157, 3183, 3187, 3190, 3194, 3204, 3216, 3217, 3230, 3233, 3266, 3290, 3294, 3300, 3306, 3325, 3339, 3355, 3365, 3368, 3379, 3385, 3397, 3404, 3422, 3459, 3471, 3475, 3492, 3499, 3505, 3520, 3534, 3541, 3545, 3571, 3577, 3594, 3619, 3630, 3645, 3668, 3671, 3674, 3703, 3715, 3719, 3730, 3731, 3748, 3752, 3763, 3787, 3811, 3822, 3856, 3857, 3879, 3884, 3896, 3922, 3927, 3949, 3964, 3993, 4011, 4012, 4013, 4039, 4075, 4086, 4093, 4099, 4118, 4128, 4132, 4141, 4160, 4176, 4198, 4211, 4213, 4214, 4223, 4229, 4253, 4260, 4268, 4277, 4291, 4299, 4304, 4329, 4331, 4335, 4344, 4353, 4356, 4377, 4389, 4393, 4405, 4432, 4433, 4434, 4443, 4463, 4466, 4471, 4476, 4477, 4495, 4497, 4499, 4503, 4506, 4508, 4514, 4517, 4531, 4534, 4565, 4574, 4582, 4588, 4605, 4611, 4619, 4620, 4638, 4648, 4649, 4651, 4654, 4674, 4677, 4692, 4693, 4706, 4708, 4710, 4736, 4752, 4758, 4768, 4781, 4787, 4789, 4802, 4814, 4819, 4823, 4833, 4861, 4867, 4880, 4900, 4923, 4939, 4944, 4974, 4985, 4992, 5015, 5023, 5040, 5044, 5076, 5078, 5112, 5113, 5115, 5119, 5120, 5172, 5179, 5180, 5181, 5188, 5189, 5196, 5212, 5229, 5236, 5241, 5294, 5295, 5297, 5341, 5370, 5378, 5403, 5416, 5417, 5431, 5486, 5487, 5526, 5538, 5543, 5549, 5557, 5566, 5592, 5593, 5594, 5621, 5626, 5629, 5632, 5638, 5641, 5661, 5662, 5663, 5670, 5709, 5712, 5715, 5717, 5732, 5735, 5738, 5779, 5795, 5807, 5820, 5829, 5843, 5868, 5909, 5922, 5926, 5931, 5946, 5958, 5970, 5986, 6013, 6017, 6063, 6087, 6091, 6095, 6102, 6104, 6136, 6143, 6151, 6154, 6155, 6163, 6171, 6178, 6187, 6199, 6207, 6211, 6239, 6240, 6242, 6244, 6247, 6253, 6258, 6261, 6262, 6294, 6299, 6303, 6307, 6308, 6321, 6322, 6326, 6336, 6351, 6360, 6384, 6431, 6438, 6476, 6489, 6493, 6500, 6504, 6505, 6506, 6507, 6508, 6514, 6521, 6526, 6536, 6569, 6602, 6603, 6623, 6630, 6640, 6649, 6650, 6658, 6668, 6676, 6677, 6678, 6693, 6699, 6712, 6751, 6754, 6760, 6774, 6787, 6818, 6820, 6821, 6835, 6855, 6860, 6874, 6887, 6910, 6919, 6924, 6925, 6934, 6943, 6945, 6951, 6952, 6957, 6971, 6972, 6978, 6984, 7005, 7021, 7026, 7029, 7032, 7049, 7059, 7081, 7099, 7102, 7129, 7152, 7154, 7171, 7174, 7185, 7199, 7223, 7242, 7264, 7270, 7276, 7289, 7315, 7342, 7343, 7346, 7368, 7380, 7383, 7399, 7417, 7439, 7452, 7455, 7463, 7468, 7471, 7499, 7503, 7510, 7516, 7531, 7554, 7560, 7564, 7569, 7576, 7580, 7598, 7599, 7606, 7623, 7625, 7635, 7641, 7652, 7676, 7681, 7693, 7703, 7707, 7716, 7721, 7730, 7734, 7738, 7742, 7750, 7757, 7769, 7777, 7785, 7793, 7794, 7801, 7804, 7810, 7851, 7900, 7910, 7922, 7926, 7965, 7966, 7972, 7981, 7983, 7984, 7988, 7999, 8021, 8026, 8034, 8049, 8058, 8083, 8088, 8090, 8093, 8105, 8117, 8126, 8127, 8140, 8141, 8145, 8160, 8163, 8165, 8166, 8173, 8179, 8186, 8195, 8226, 8239, 8259, 8271, 8287, 8290, 8313, 8345, 8347, 8353, 8360, 8363, 8390, 8391, 8396, 8411, 8418, 8423, 8471, 8475, 8502, 8503, 8504, 8509, 8527, 8529, 8532, 8535, 8537, 8546, 8552, 8562, 8564, 8570, 8576, 8583, 8643, 8654, 8657, 8664, 8707, 8718, 8734, 8735, 8756, 8773, 8777, 8793, 8803, 8865, 8876, 8885, 8893, 8924, 8929, 8934, 8938, 8943, 8958, 8972, 8997, 9002, 9012, 9018, 9021, 9028, 9029, 9057, 9058, 9077, 9084, 9091, 9127, 9129, 9141, 9158, 9182, 9184, 9192, 9231, 9246, 9262, 9270, 9294, 9306, 9312, 9316, 9321, 9322, 9342, 9372, 9377, 9427, 9431, 9433, 9441, 9519, 9533, 9541, 9600, 9643, 9651, 9669, 9674, 9691, 9703, 9729, 9731, 9739, 9747, 9760, 9769, 9778, 9791, 9795, 9826, 9836, 9842, 9844, 9854, 9856, 9869, 9890, 9915, 9920, 9922, 9927, 9942, 9946, 9958, 9959, 9967, 9984, 9991, 10000, 10006, 10012, 10013, 10015, 10019, 10023, 10055, 10069, 10077, 10091, 10100, 10105, 10118, 10136, 10139, 10160, 10181, 10184, 10201, 10211, 10222, 10231, 10252, 10258, 10260, 10268, 10275, 10287, 10292, 10293, 10306, 10337, 10359, 10374, 10386, 10398, 10406, 10428, 10431, 10449, 10459, 10485, 10489, 10499, 10506, 10519, 10524, 10527, 10539, 10548, 10555, 10568, 10586, 10603, 10611, 10625, 10643, 10645, 10647, 10652, 10656, 10665, 10670, 10704, 10716, 10717, 10719, 10722, 10729, 10741, 10769, 10839, 10846, 10849, 10871, 10883, 10896, 10898, 10921, 10936, 10957, 10975, 10983, 11004, 11018, 11019, 11039, 11053, 11074, 11116, 11145, 11146, 11148, 11150, 11151, 11161, 11164, 11169, 11204, 11228, 11231, 11248, 11279, 11280, 11293, 11300, 11311, 11321, 11325, 11328, 11339, 11370, 11374, 11381, 11382, 11450, 11452, 11456, 11468, 11484, 11486, 11488, 11493, 11520, 11533, 11544, 11552, 11554, 11556, 11559, 11567, 11595, 11596, 11609, 11622, 11636, 11641, 11650, 11665, 11678, 11686, 11702, 11728, 11734, 11743, 11765, 11769, 11774, 11779, 11788, 11797, 11801, 11807, 11812, 11815, 11821, 11824, 11835, 11844, 11910, 11932, 11946, 11950, 11965, 11969, 11971, 11981, 11999, 12007, 12020, 12031, 12041, 12044, 12045, 12047, 12056, 12063, 12064, 12073, 12075, 12080, 12085, 12103, 12104, 12119, 12132, 12139, 12155, 12175, 12182, 12219, 12239, 12248, 12259, 12268, 12279, 12288, 12294, 12299, 12331, 12339, 12341, 12349, 12354, 12364, 12384, 12395, 12409, 12423, 12433, 12437, 12441, 12442, 12448, 12454, 12464, 12470, 12489, 12490, 12566, 12608, 12614, 12641, 12651, 12655, 12666, 12704, 12717, 12721, 12750, 12772, 12783, 12803, 12806, 12809, 12814, 12818, 12824, 12832, 12858, 12877, 12882, 12915, 12921, 12930, 12941, 12944, 12975, 12979, 12983, 12986, 12998, 13010, 13013, 13017, 13019, 13024, 13037, 13048, 13055, 13066, 13070, 13075, 13079, 13089, 13102, 13114, 13127, 13130, 13151, 13166, 13181, 13188, 13189, 13229, 13232, 13242, 13267, 13280, 13293, 13296, 13317, 13319, 13326, 13351, 13358, 13360, 13367, 13369, 13390, 13398, 13401, 13431, 13436, 13440, 13451, 13453, 13457, 13459, 13461, 13506, 13514, 13535, 13543, 13546, 13566, 13597, 13598, 13602, 13603, 13615, 13622, 13635, 13648, 13654, 13655, 13661, 13673, 13677, 13679, 13706, 13711, 13740, 13741, 13744, 13745, 13782, 13788, 13795, 13804, 13807, 13809, 13820, 13839, 13845, 13874, 13886, 13890, 13895, 13896, 13919, 13920, 13928, 13934, 13957, 13962, 13968, 13979, 13987, 13991, 13994, 14019, 14049, 14052, 14054, 14074, 14080, 14090, 14099, 14102, 14116, 14122, 14140, 14142, 14158, 14185, 14197, 14217, 14223, 14240, 14288, 14312, 14314, 14320, 14328, 14334, 14335, 14340, 14354, 14357, 14359, 14380, 14385, 14390, 14393, 14434, 14442, 14458, 14490, 14505, 14509, 14511, 14516, 14519, 14523, 14524, 14534, 14535, 14555, 14564, 14566, 14569, 14602, 14603, 14622, 14643, 14663, 14686, 14712, 14718, 14755, 14759, 14761, 14775, 14800, 14824, 14848, 14877, 14880, 14881, 14902, 14924, 14927, 14928, 14938, 14945, 14947, 14955, 14961, 14963, 14986, 15003, 15016, 15023, 15029, 15035, 15037, 15044, 15051, 15054, 15070, 15078, 15081, 15082, 15089, 15093, 15099, 15100, 15128, 15161, 15178, 15189, 15197, 15199, 15200, 15207, 15237, 15266, 15295, 15296, 15303, 15304, 15340, 15362, 15366, 15369, 15373, 15385, 15391, 15400, 15410, 15415, 15423, 15428, 15439, 15495, 15501, 15508, 15516, 15517, 15530, 15533, 15534, 15539, 15559, 15590, 15599, 15600, 15632, 15648, 15660, 15685, 15686, 15703, 15707, 15722, 15725, 15743, 15744, 15752, 15770, 15771, 15779, 15783, 15786, 15795, 15808, 15833, 15840, 15850, 15864, 15867, 15871, 15883, 15895, 15900, 15931, 15934, 15941, 15956, 15963, 15966, 15973, 15975, 15979, 15982, 15983, 16013, 16023, 16055, 16056, 16086, 16091, 16092, 16098, 16105, 16124, 16127, 16135, 16166, 16167, 16169, 16173, 16185, 16202, 16207, 16215, 16225, 16240, 16244, 16266, 16287, 16312, 16335, 16345, 16385, 16390, 16396, 16402, 16430, 16434, 16441, 16444, 16450, 16454, 16462, 16473, 16489, 16500, 16504, 16506, 16508, 16527, 16530, 16629, 16637, 16640, 16644, 16670, 16677, 16679, 16683, 16686, 16691, 16700, 16711, 16712, 16773, 16799, 16810, 16811, 16817, 16828, 16847, 16856, 16870, 16891, 16892, 16940, 16950, 16957, 16962, 16977, 16980, 17000, 17008, 17016, 17027, 17039, 17040, 17045, 17065, 17077, 17081, 17082, 17083, 17087, 17103, 17113, 17125, 17133, 17165, 17175, 17181, 17193, 17196, 17200, 17201, 17207, 17237, 17242, 17253, 17269, 17286, 17289, 17300, 17326, 17342, 17353, 17374, 17378, 17389, 17418, 17433, 17444, 17457, 17472, 17491, 17499, 17507, 17509, 17516, 17523, 17529, 17540, 17570, 17571, 17576, 17579, 17591, 17596, 17598, 17608, 17613, 17627, 17644, 17648, 17660, 17667, 17684, 17686, 17693, 17697, 17703, 17709, 17722, 17737, 17752, 17762, 17775, 17776, 17777, 17789, 17805, 17821, 17827, 17832, 17853, 17861, 17866, 17882, 17886, 17898, 17907, 17916, 17925, 17926, 17930, 17955, 17966, 17978, 17988, 17994, 17996, 18033, 18044, 18055, 18058, 18063, 18065, 18067, 18070, 18071, 18121, 18123, 18137, 18150, 18156, 18172, 18182, 18190, 18211, 18226, 18278, 18325, 18334, 18353, 18361, 18362, 18368, 18445, 18458, 18486, 18492, 18528, 18530, 18544, 18561, 18565, 18600, 18626, 18628, 18634, 18656, 18662, 18664, 18685, 18702, 18718, 18722, 18749, 18770, 18795, 18801, 18807, 18809, 18833, 18845, 18850, 18875, 18886, 18890, 18903, 18914, 18930, 18958, 18960, 18968, 18974, 18992, 19002, 19003, 19027, 19028, 19059, 19064, 19086, 19091, 19102, 19103, 19109, 19117, 19119, 19123, 19131, 19132, 19141, 19146, 19149, 19172, 19180, 19184, 19191, 19201, 19207, 19232, 19236, 19247, 19260, 19264, 19278, 19307, 19315, 19332, 19334, 19348, 19355, 19377, 19402, 19424, 19430, 19431, 19445, 19456, 19458, 19472, 19475, 19477, 19478, 19487, 19498, 19499, 19516, 19532, 19539, 19548, 19571, 19574, 19578, 19579, 19595, 19603, 19604, 19617, 19618, 19652, 19673, 19684, 19688, 19689, 19694, 19703, 19705, 19708, 19710, 19727, 19744, 19794, 19804, 19807, 19810, 19820, 19822, 19826, 19836, 19838, 19840, 19847, 19863, 19867, 19906, 19907, 19911, 19922, 19925, 19937, 19938, 19945, 19950, 19951, 19955, 19973, 19992, 19996, 20006, 20012, 20048, 20051, 20060, 20072, 20086, 20091, 20096, 20116, 20129, 20141, 20152, 20174, 20217, 20233, 20246, 20248, 20250, 20267, 20272, 20273, 20277, 20280, 20292, 20301, 20318, 20339, 20343, 20345, 20346, 20352, 20356, 20357, 20362, 20368, 20370, 20386, 20388, 20392, 20395, 20404, 20432, 20448, 20449, 20450, 20451, 20454, 20462, 20475, 20476, 20477, 20485, 20494, 20501, 20519, 20545, 20562, 20564, 20573, 20574, 20575, 20588, 20592, 20596, 20601, 20604, 20609, 20612, 20629, 20637, 20643, 20651, 20663, 20683, 20717, 20726, 20733, 20737, 20746, 20757, 20762, 20765, 20770, 20771, 20780, 20816, 20819, 20822, 20823, 20829, 20840, 20845, 20849, 20870, 20874, 20882, 20886, 20887, 20889, 20913, 20916, 20923, 20928, 20966, 20969, 20975, 20986, 20991, 20994, 21019, 21020, 21042, 21044, 21047, 21052, 21065, 21067, 21090, 21093, 21105, 21106, 21139, 21158, 21167, 21186, 21188, 21190, 21206, 21215, 21233, 21252, 21266, 21278, 21306, 21311, 21312, 21319, 21340, 21353, 21356, 21359, 21391, 21397, 21422, 21433, 21442, 21444, 21449, 21465, 21466, 21467, 21486, 21488, 21520, 21522, 21548, 21575, 21577, 21588, 21592, 21595, 21602, 21610, 21638, 21661, 21682, 21709, 21716, 21741, 21755, 21766, 21793, 21794, 21797, 21803, 21817, 21830, 21837, 21854, 21873, 21874, 21895, 21956, 21959, 21962, 21972, 21987, 22008, 22016, 22041, 22047, 22056, 22085, 22127, 22159, 22172, 22177, 22188, 22199, 22204, 22207, 22233, 22239, 22246, 22249, 22250, 22251, 22254, 22283, 22293, 22296, 22307, 22309, 22317, 22320, 22323, 22329, 22339, 22351, 22402, 22404, 22409, 22420, 22422, 22438, 22450, 22460, 22464, 22476, 22489, 22494, 22495, 22498, 22500, 22508, 22538, 22553, 22561, 22562, 22583, 22584, 22592, 22600, 22630, 22656, 22657, 22666, 22682, 22697, 22737, 22756, 22761, 22771, 22773, 22776, 22798, 22799, 22804, 22813, 22824, 22850, 22867, 22900, 22912, 22928, 22931, 22949, 22965, 22980, 22991, 22994, 23006, 23008, 23045, 23059, 23060, 23071, 23074, 23102, 23128, 23131, 23148, 23150, 23156, 23159, 23188, 23199, 23200, 23202, 23228, 23230, 23260, 23265, 23284, 23305, 23317, 23335, 23338, 23341, 23361, 23368, 23384, 23394, 23401, 23410, 23431, 23437, 23442, 23448, 23480, 23488, 23490, 23491, 23494, 23506, 23507, 23528, 23543, 23553, 23557, 23577, 23583, 23591, 23597, 23603, 23622, 23629, 23642, 23654, 23659, 23662, 23664, 23685, 23711, 23715, 23717, 23780, 23792, 23798, 23813, 23825, 23836, 23842, 23870, 23883, 23905, 23937, 23942, 23967, 23996, 24003, 24007, 24020, 24041, 24062, 24065, 24091, 24093, 24105, 24129, 24140, 24148, 24149, 24154, 24157, 24159, 24173, 24177, 24192, 24194, 24205, 24231, 24242, 24250, 24257, 24269, 24271, 24275, 24292, 24293, 24299, 24313, 24326, 24339, 24354, 24369, 24391, 24393, 24403, 24412, 24414, 24434, 24437, 24451, 24454, 24474, 24486, 24494, 24497, 24503, 24514, 24521, 24528, 24549, 24563, 24572, 24577, 24588, 24598, 24620, 24626, 24628, 24633, 24647, 24657, 24673, 24704, 24706, 24747, 24768, 24770, 24776, 24792, 24805, 24810, 24821, 24824, 24842, 24850, 24853, 24854, 24869, 24900, 24919, 24956, 24966, 24979, 24982, 24992, 25010, 25020, 25043, 25054, 25063, 25065, 25082, 25098, 25109, 25120, 25126, 25128, 25129, 25141, 25146, 25166, 25172, 25178, 25197, 25201, 25218, 25235, 25237, 25241, 25248, 25270, 25275, 25278, 25283, 25286, 25287, 25292, 25301, 25308, 25312, 25318, 25325, 25333, 25344, 25345, 25348, 25363, 25368, 25371, 25384, 25389, 25390, 25400, 25456, 25469, 25472, 25486, 25488, 25516, 25522, 25529, 25532, 25541, 25552, 25556, 25585, 25601, 25602, 25612, 25620, 25628, 25655, 25662, 25723, 25727, 25730, 25734, 25741, 25776, 25798, 25799, 25807, 25808, 25833, 25855, 25861, 25867, 25895, 25913, 25942, 25954, 25966, 25988, 25990, 26007, 26019, 26027, 26035, 26046, 26051, 26063, 26067, 26071, 26075, 26079, 26097, 26110, 26112, 26124, 26136, 26140, 26142, 26144, 26148, 26158, 26168, 26177, 26196, 26207, 26237, 26243, 26249, 26250, 26276, 26296, 26315, 26327, 26336, 26356, 26360, 26394, 26410, 26429, 26435, 26448, 26459, 26469, 26474, 26485, 26515, 26516, 26523, 26528, 26558, 26562, 26563, 26593, 26600, 26601, 26632, 26645, 26650, 26714, 26729, 26733, 26747, 26759, 26784, 26788, 26808, 26818, 26824, 26834, 26840, 26848, 26871, 26883, 26893, 26901, 26911, 26933, 26938, 26946, 26948, 26950, 26966, 26992, 26993, 26998, 27004, 27016, 27020, 27026, 27032, 27060, 27065, 27075, 27102, 27111, 27113, 27148, 27154, 27183, 27194, 27199, 27202, 27212, 27215, 27230, 27246, 27247, 27263, 27285, 27293, 27302, 27305, 27311, 27316, 27364, 27365, 27366, 27372, 27377, 27382, 27387, 27396, 27401, 27418, 27430, 27431, 27469, 27477, 27493, 27544, 27551, 27572, 27577, 27593, 27613, 27622, 27632, 27655, 27660, 27668, 27681, 27695, 27707, 27710, 27732, 27740, 27748, 27774, 27776, 27778, 27810, 27836, 27838, 27842, 27844, 27849, 27850, 27865, 27874, 27918, 27919, 27920, 27921, 27922, 27927, 27931, 27944, 27949, 27955, 27979, 27981, 27982, 27983, 27992, 27995, 27996, 28009, 28015, 28049, 28051, 28074, 28091, 28094, 28119, 28122, 28128, 28163, 28165, 28172, 28181, 28186, 28207, 28211, 28220, 28227, 28270, 28293, 28303, 28305, 28321, 28338, 28358, 28363, 28371, 28373, 28376, 28394, 28433, 28436, 28490, 28493, 28496, 28502, 28509, 28512, 28516, 28539, 28554, 28566, 28583, 28591, 28593, 28594, 28596, 28600, 28601, 28611, 28629, 28637, 28639, 28667, 28671, 28673, 28680, 28690, 28701, 28714, 28715, 28728, 28733, 28737, 28745, 28757, 28763, 28773, 28776, 28790, 28808, 28815, 28821, 28833, 28865, 28867, 28885, 28899, 28904, 28926, 28934, 28944, 28953, 28969, 28977, 28982, 28984, 28987, 29007, 29012, 29027, 29034, 29035, 29039, 29049, 29074, 29080, 29081, 29082, 29106, 29114, 29120, 29123, 29138, 29142, 29143, 29154, 29169, 29172, 29173, 29189, 29201, 29234, 29235, 29242, 29243, 29260, 29261, 29263, 29270, 29275, 29279, 29312, 29318, 29321, 29331, 29345, 29357, 29360, 29385, 29392, 29406, 29420, 29426, 29434, 29440, 29441, 29462, 29513, 29514, 29519, 29521, 29536, 29559, 29561, 29571, 29579, 29589, 29621, 29627, 29633, 29650, 29667, 29676, 29690, 29709, 29716, 29721, 29756, 29773, 29810, 29824, 29835, 29841, 29873, 29895, 29900, 29918, 29927, 29943, 29977, 29987, 30005, 30069, 30078, 30090, 30107, 30124, 30127, 30141, 30144, 30146, 30165, 30181, 30189, 30211, 30225, 30250, 30269, 30272, 30273, 30302, 30306, 30315, 30316, 30325, 30341, 30347, 30364, 30372, 30374, 30381, 30387, 30424, 30426, 30440, 30484, 30487, 30498, 30499, 30516, 30542, 30547, 30563, 30572, 30576, 30578, 30585, 30591, 30604, 30608, 30631, 30635, 30637, 30655, 30692, 30697, 30705, 30716, 30737, 30768, 30796, 30817, 30820, 30824, 30851, 30891, 30898, 30923, 30925, 30930, 30938, 30958, 30966, 30972, 30976, 31001, 31011, 31028, 31030, 31037, 31066, 31079, 31129, 31134, 31147, 31151, 31165, 31188, 31191, 31194, 31219, 31221, 31236, 31237, 31258, 31262, 31278, 31294, 31303, 31358, 31361, 31367, 31373, 31378, 31382, 31384, 31396, 31406, 31421, 31456, 31459, 31474, 31475, 31488, 31490, 31502, 31515, 31521, 31553, 31556, 31573, 31593, 31595, 31606, 31623, 31637, 31639, 31653, 31679, 31703, 31712, 31733, 31734, 31746, 31750, 31756, 31775, 31785, 31802, 31823, 31828, 31830, 31838, 31854, 31861, 31877, 31888, 31910, 31917, 31938, 31955, 31966, 31971, 31983, 31987, 31991, 32003, 32022, 32031, 32037, 32047, 32050, 32060, 32105, 32120, 32169, 32170, 32175, 32203, 32210, 32222, 32237, 32246, 32267, 32271, 32310, 32316, 32329, 32331, 32364, 32367, 32374, 32375, 32382, 32402, 32403, 32411, 32414, 32418, 32431, 32455, 32465, 32467, 32470, 32471, 32479, 32483, 32503, 32509, 32513, 32517, 32562, 32564, 32577, 32616, 32627, 32637, 32658, 32690, 32691, 32692, 32722, 32733, 32754, 32773, 32782, 32783, 32795, 32800, 32802, 32825, 32843, 32860, 32876, 32883, 32899, 32905, 32915, 32926, 32936, 32941, 32958, 32974, 32978, 32999, 33008, 33009, 33025, 33042, 33064, 33067, 33069, 33077, 33095, 33097, 33098, 33099, 33117, 33125, 33127, 33146, 33174, 33183, 33184, 33199, 33204, 33205, 33211, 33218, 33224, 33258, 33267, 33270, 33282, 33298, 33306, 33310, 33336, 33351, 33353, 33372, 33389, 33400, 33422, 33433, 33466, 33483, 33486, 33487, 33494, 33502, 33515, 33548, 33551, 33567, 33568, 33575, 33579, 33585, 33626, 33628, 33629, 33640, 33641, 33652, 33665, 33676, 33678, 33681, 33682, 33697, 33721, 33735, 33738, 33755, 33769, 33785, 33793, 33799, 33811, 33845, 33848, 33861, 33872, 33886, 33887, 33910, 33911, 33931, 33936, 33941, 33963, 33967, 33976, 33977, 33982, 33996, 33998, 33999, 34000, 34061, 34063, 34074, 34099, 34110, 34120, 34122, 34123, 34147, 34150, 34157, 34173, 34181, 34204, 34218, 34220, 34232, 34238, 34240, 34246, 34248, 34254, 34255, 34258, 34267, 34273, 34276, 34282, 34316, 34332, 34334, 34335, 34344, 34348, 34351, 34365, 34370, 34412, 34420, 34425, 34467, 34487, 34488, 34502, 34509, 34510, 34527, 34541, 34542, 34543, 34545, 34550, 34553, 34566, 34594, 34606, 34638, 34639, 34640, 34641, 34642, 34644, 34662, 34665, 34668, 34673, 34687, 34698, 34700, 34703, 34708, 34711, 34721, 34731, 34744, 34747, 34754, 34769, 34771, 34772, 34775, 34784, 34805, 34813, 34814, 34817, 34826, 34852, 34863, 34879, 34885, 34888, 34894, 34911, 34917, 34923, 34925, 34941, 34944, 34963, 34968, 34998, 35021, 35028, 35058, 35063, 35064, 35071, 35081, 35082, 35107, 35122, 35152, 35153, 35154, 35156, 35170, 35176, 35183, 35184, 35189, 35191, 35196, 35217, 35225, 35234, 35254, 35277, 35288, 35291, 35314, 35319, 35325, 35343, 35347, 35352, 35366, 35378, 35386, 35393, 35398, 35401, 35409, 35410, 35418, 35430, 35432, 35437, 35448, 35458, 35474, 35513, 35519, 35539, 35543, 35558, 35560, 35570, 35580, 35581, 35593, 35603, 35607, 35626, 35632, 35638, 35646, 35649, 35653, 35654, 35661, 35662, 35672, 35674, 35677, 35699, 35707, 35715, 35737, 35740, 35744, 35746, 35748, 35754, 35771, 35775, 35778, 35787, 35803, 35809, 35824, 35828, 35856, 35862, 35863, 35869, 35897, 35898, 35900, 35920, 35932, 35967, 35970, 35981, 35996, 36015, 36028, 36045, 36087, 36142, 36160, 36192, 36193, 36194, 36228, 36241, 36245, 36246, 36251, 36253, 36261, 36269, 36273, 36316, 36317, 36351, 36352, 36361, 36370, 36378, 36384, 36387, 36396, 36401, 36403, 36405, 36427, 36441, 36453, 36481, 36484, 36496, 36500, 36508, 36515, 36530, 36531, 36535, 36548, 36554, 36577, 36580, 36581, 36588, 36628, 36633, 36642, 36654, 36659, 36663, 36675, 36680, 36690, 36702, 36703, 36716, 36717, 36718, 36724, 36737, 36757, 36764, 36811, 36812, 36858, 36861, 36865, 36866, 36886, 36895, 36906, 36930, 36934, 36949, 36952, 36976, 36985, 36994, 37006, 37007, 37018, 37019, 37044, 37055, 37058, 37069, 37101, 37115, 37123, 37157, 37201, 37215, 37224, 37238, 37267, 37269, 37275, 37287, 37298, 37310, 37318, 37320, 37323, 37353, 37370, 37380, 37388, 37392, 37432, 37437, 37466, 37467, 37497, 37499, 37501, 37510, 37529, 37534, 37550, 37562, 37567, 37579, 37592, 37606, 37607, 37609, 37623, 37639, 37641, 37655, 37659, 37660, 37661, 37662, 37680, 37681, 37687, 37734, 37749, 37764, 37798, 37803, 37805, 37809, 37817, 37842, 37847, 37858, 37862, 37864, 37873, 37875, 37876, 37887, 37919, 37924, 37932, 37943, 37958, 37961, 37964, 37972, 38004, 38009, 38036, 38038, 38049, 38062, 38074, 38113, 38137, 38144, 38145, 38194, 38198, 38203, 38230, 38238, 38239, 38248, 38271, 38293, 38316, 38333, 38338, 38342, 38343, 38361, 38365, 38369, 38377, 38411, 38423, 38425, 38432, 38441, 38442, 38455, 38473, 38478, 38489, 38490, 38493, 38506, 38510, 38519, 38537, 38584, 38585, 38587, 38604, 38617, 38640, 38667, 38673, 38675, 38680, 38681, 38685, 38694, 38695, 38696, 38707, 38710, 38711, 38713, 38732, 38738, 38753, 38765, 38774, 38785, 38800, 38802, 38803, 38804, 38812, 38818, 38827, 38830, 38839, 38845, 38861, 38870, 38880, 38881, 38888, 38895, 38896, 38902, 38910, 38927, 38955, 39000, 39012, 39022, 39047, 39051, 39055, 39076, 39092, 39097, 39103, 39121, 39122, 39140, 39175, 39184, 39190, 39197, 39199, 39217, 39218, 39221, 39229, 39230, 39254, 39266, 39296, 39301, 39336, 39338, 39339, 39346, 39362, 39373, 39429, 39431, 39437, 39444, 39446, 39452, 39459, 39465, 39502, 39506, 39507, 39511, 39524, 39544, 39551, 39552, 39567, 39587, 39603, 39616, 39627, 39633, 39644, 39649, 39651, 39654, 39667, 39696, 39712, 39732, 39757, 39760, 39794, 39803, 39812, 39816, 39821, 39835, 39868, 39873, 39875, 39879, 39885, 39903, 39907, 39916, 39930, 39940, 39972, 39983, 39985, 40006, 40011, 40021, 40028, 40043, 40045, 40054, 40073, 40095, 40102, 40137, 40154, 40157, 40179, 40204, 40225, 40247, 40263, 40275, 40319, 40334, 40338, 40343, 40349, 40352, 40362, 40364, 40367, 40370, 40384, 40391, 40399, 40418, 40426, 40440, 40442, 40447, 40450, 40474, 40480, 40504, 40505, 40517, 40533, 40542, 40561, 40563, 40566, 40567, 40595, 40605, 40626, 40638, 40645, 40652, 40656, 40686, 40688, 40705, 40709, 40722, 40724, 40731, 40797, 40801, 40802, 40811, 40841, 40853, 40863, 40873, 40877, 40900, 40912, 40913, 40928, 40943, 40946, 40965, 40976, 40984, 41008, 41024, 41029, 41032, 41064, 41075, 41082, 41084, 41085, 41089, 41111, 41118, 41164, 41166, 41179, 41182, 41186, 41220, 41223, 41229, 41230, 41238, 41251, 41274, 41298, 41316, 41323, 41326, 41335, 41351, 41369, 41389, 41395, 41464, 41468, 41492, 41515, 41534, 41547, 41576, 41593, 41603, 41605, 41614, 41619, 41621, 41630, 41650, 41654, 41665, 41683, 41694, 41698, 41702, 41717, 41725, 41729, 41732, 41737, 41743, 41786, 41801, 41816, 41826, 41831, 41839, 41846, 41876, 41891, 41897, 41899, 41906, 41912, 41924, 41926, 41929, 41953, 41984, 41995, 41998, 42021, 42029, 42035, 42036, 42037, 42041, 42048, 42067, 42070, 42075, 42085, 42100, 42105, 42109, 42117, 42123, 42127, 42130, 42140, 42173, 42174, 42187, 42199, 42205, 42253, 42268, 42282, 42284, 42302, 42317, 42321, 42329, 42337, 42363, 42426, 42450, 42509, 42513, 42518, 42522, 42536, 42543, 42556, 42597, 42611, 42618, 42623, 42630, 42636, 42642, 42643, 42651, 42659, 42667, 42682, 42683, 42689, 42694, 42698, 42713, 42715, 42728, 42731, 42736, 42740, 42749, 42756, 42764, 42783, 42801, 42807, 42812, 42815, 42817, 42860, 42862, 42888, 42891, 42894, 42914, 42924, 42933, 42936, 42939, 42942, 42959, 42963, 42969, 42971, 42982, 43004, 43019, 43021, 43031, 43060, 43089, 43098, 43118, 43128, 43131, 43132, 43133, 43134, 43140, 43142, 43154, 43169, 43200, 43213, 43233, 43236, 43245, 43253, 43267, 43276, 43292, 43293, 43300, 43306, 43314, 43316, 43323, 43344, 43346, 43348, 43358, 43373, 43398, 43399, 43400, 43406, 43409, 43410, 43417, 43424, 43427, 43430, 43469, 43470, 43488, 43498, 43501, 43509, 43515, 43522, 43529, 43536, 43538, 43543, 43545, 43557, 43567, 43587, 43635, 43636, 43638, 43639, 43667, 43679, 43685, 43693, 43713, 43742, 43749, 43761, 43766, 43792, 43797, 43806, 43807, 43819, 43826, 43827, 43839, 43844, 43849, 43875, 43881, 43892, 43894, 43910, 43920, 43924, 43941, 43956, 43966, 43967, 43995, 44018, 44022, 44031, 44047, 44056, 44105, 44110, 44114, 44120, 44125, 44129, 44157, 44162, 44188, 44218, 44227, 44244, 44255, 44269, 44277, 44280, 44285, 44289, 44297, 44299, 44301, 44331, 44353, 44354, 44367, 44369, 44376, 44381, 44385, 44421, 44422, 44431, 44435, 44438, 44473, 44480, 44498, 44505, 44513, 44516, 44536, 44539, 44545, 44554, 44558, 44564, 44577, 44584, 44586, 44589, 44592, 44604, 44607, 44616, 44624, 44654, 44657, 44659, 44662, 44675, 44697, 44703, 44717, 44725, 44755, 44767, 44771, 44791, 44809, 44823, 44839, 44845, 44850, 44851, 44858, 44876, 44880, 44883, 44899, 44930, 44933, 44936, 44942, 44961, 44963, 44965, 44970, 44985, 44992, 44999, 45005, 45012, 45028, 45031, 45036, 45072, 45081, 45082, 45096, 45097, 45099, 45100, 45102, 45110, 45135, 45139, 45152, 45162, 45184, 45192, 45221, 45237, 45244, 45275, 45277, 45292, 45295, 45296, 45298, 45309, 45310, 45318, 45324, 45334, 45348, 45367, 45369, 45385, 45403, 45409, 45410, 45414, 45415, 45478, 45487, 45493, 45517, 45530, 45537, 45538, 45539, 45565, 45602, 45605, 45609, 45627, 45684, 45686, 45694, 45698, 45711, 45722, 45753, 45761, 45781, 45794, 45806, 45817, 45833, 45857, 45876, 45899, 45905, 45908, 45911, 45915, 45920, 45928, 45941, 45942, 45984, 45985, 46004, 46017, 46023, 46034, 46042, 46063, 46075, 46095, 46113, 46128, 46140, 46141, 46159, 46170, 46179, 46182, 46183, 46198, 46218, 46255, 46263, 46268, 46272, 46279, 46286, 46292, 46294, 46297, 46303, 46331, 46351, 46353, 46354, 46368, 46370, 46424, 46438, 46457, 46467, 46468, 46474, 46482, 46498, 46516, 46519, 46533, 46537, 46569, 46578, 46587, 46591, 46594, 46600, 46615, 46632, 46637, 46649, 46652, 46659, 46718, 46720, 46737, 46740, 46754, 46758, 46759, 46760, 46765, 46806, 46807, 46808, 46820, 46834, 46849, 46866, 46867, 46877, 46883, 46890, 46897, 46909, 46916, 46917, 46922, 46941, 46950, 46951, 46952, 46955, 46965, 46997, 47000, 47015, 47020, 47033, 47052, 47053, 47058, 47059, 47072, 47084, 47098, 47104, 47115, 47120, 47130, 47132, 47141, 47145, 47149, 47169, 47191, 47196, 47216, 47221, 47238, 47241, 47244, 47246, 47249, 47250, 47266, 47267, 47278, 47280, 47288, 47295, 47306, 47308, 47334, 47357, 47377, 47393, 47421, 47431, 47444, 47462, 47465, 47474, 47498, 47499, 47520, 47521, 47539, 47549, 47553, 47557, 47567, 47573, 47586, 47588, 47592, 47602, 47611, 47629, 47656, 47657, 47664, 47671, 47677, 47678, 47686, 47700, 47701, 47715, 47728, 47748, 47758, 47773, 47791, 47829, 47832, 47847, 47868, 47873, 47876, 47882, 47897, 47952, 47954, 47955, 47967, 47974, 47975, 47993, 48004, 48007, 48010, 48029, 48035, 48036, 48052, 48057, 48093, 48099, 48115, 48126, 48140, 48161, 48166, 48174, 48175, 48184, 48188, 48194, 48288, 48304, 48325, 48360, 48364, 48382, 48386, 48406, 48419, 48421, 48428, 48433, 48477, 48502, 48512, 48550, 48551, 48554, 48556, 48590, 48593, 48602, 48617, 48619, 48634, 48638, 48649, 48669, 48678, 48683, 48716, 48734, 48752, 48758, 48764, 48784, 48798, 48799, 48811, 48895, 48898, 48901, 48903, 48908, 48931, 48955, 48962, 48983, 48986, 48994, 48995, 48996, 49003, 49010, 49016, 49026, 49048, 49054, 49058, 49093, 49099, 49101, 49124, 49125, 49129, 49174, 49211, 49218, 49220, 49230, 49234, 49239, 49244, 49261, 49281, 49297, 49298, 49303, 49312, 49323, 49336, 49337, 49353, 49396, 49399, 49401, 49414, 49423, 49443, 49460, 49493, 49501, 49504, 49509, 49520, 49524, 49525, 49532, 49542, 49562, 49580, 49590, 49607, 49621, 49642, 49649, 49650, 49651, 49660, 49667, 49676, 49691, 49693, 49697, 49712, 49723, 49733, 49734, 49742, 49749, 49760, 49762, 49774, 49778, 49790, 49804, 49817, 49855, 49872, 49874, 49875, 49891, 49900, 49903, 49905, 49907, 49910, 49917, 49920, 49934, 49935, 49946, 49948, 49950, 49961, 49962, 49968, 0, 11, 15, 26, 32, 86, 105, 118, 123, 124, 166, 192, 193, 198, 204, 233, 251, 273, 286, 300, 315, 318, 320, 329, 344, 345, 357, 376, 387, 396, 437, 459, 472, 475, 498, 510, 540, 542, 548, 552, 563, 568, 582, 616, 622, 639, 649, 660, 676, 709, 728, 730, 736, 737, 738, 750, 774, 799, 809, 812, 872, 881, 887, 927, 928, 947, 958, 960, 961, 964, 966, 993, 995, 1011, 1018, 1041, 1047, 1048, 1075, 1089, 1091, 1096, 1127, 1147, 1151, 1163, 1176, 1181, 1188, 1272, 1282, 1288, 1299, 1314, 1316, 1335, 1348, 1350, 1368, 1387, 1397, 1401, 1427, 1441, 1445, 1483, 1487, 1493, 1494, 1533, 1542, 1546, 1557, 1561, 1568, 1595, 1607, 1637, 1645, 1663, 1666, 1668, 1681, 1684, 1704, 1722, 1747, 1751, 1764, 1779, 1783, 1791, 1796, 1798, 1823, 1828, 1846, 1863, 1887, 1906, 1940, 1974, 1979, 2004, 2009, 2011, 2039, 2057, 2069, 2143, 2147, 2169, 2224, 2228, 2243, 2261, 2264, 2270, 2283, 2299, 2323, 2338, 2346, 2363, 2388, 2392, 2397, 2405, 2417, 2447, 2448, 2455, 2476, 2498, 2519, 2521, 2525, 2542, 2567, 2581, 2607, 2611, 2614, 2620, 2635, 2643, 2645, 2694, 2696, 2722, 2742, 2746, 2747, 2794, 2799, 2820, 2824, 2880, 2881, 2885, 2893, 2923, 2960, 2964, 3000, 3008, 3017, 3022, 3058, 3068, 3073, 3075, 3113, 3128, 3167, 3168, 3183, 3187, 3190, 3194, 3204, 3216, 3230, 3266, 3294, 3300, 3302, 3308, 3325, 3355, 3357, 3360, 3361, 3365, 3374, 3385, 3394, 3433, 3435, 3465, 3471, 3475, 3492, 3507, 3537, 3545, 3556, 3571, 3619, 3630, 3646, 3671, 3676, 3710, 3711, 3719, 3738, 3760, 3765, 3773, 3806, 3808, 3822, 3827, 3829, 3830, 3856, 3866, 3889, 3891, 3901, 3908, 3914, 3927, 3968, 3969, 3985, 4004, 4012, 4023, 4039, 4047, 4081, 4086, 4093, 4099, 4118, 4128, 4132, 4136, 4141, 4144, 4176, 4198, 4213, 4214, 4229, 4237, 4253, 4258, 4268, 4291, 4313, 4323, 4329, 4344, 4347, 4383, 4398, 4405, 4430, 4433, 4434, 4455, 4458, 4459, 4461, 4473, 4487, 4495, 4503, 4506, 4513, 4514, 4534, 4539, 4574, 4597, 4600, 4606, 4619, 4649, 4651, 4659, 4693, 4708, 4740, 4758, 4777, 4781, 4783, 4799, 4802, 4819, 4823, 4839, 4858, 4888, 4893, 4900, 4949, 4958, 4960, 4961, 4978, 5004, 5015, 5045, 5053, 5076, 5115, 5119, 5120, 5123, 5133, 5136, 5179, 5191, 5212, 5228, 5236, 5238, 5295, 5341, 5372, 5378, 5399, 5404, 5417, 5452, 5464, 5465, 5474, 5493, 5526, 5541, 5549, 5557, 5561, 5566, 5571, 5586, 5589, 5592, 5626, 5635, 5648, 5663, 5664, 5676, 5702, 5712, 5717, 5734, 5735, 5761, 5771, 5779, 5795, 5796, 5807, 5843, 5868, 5877, 5926, 5931, 5946, 5960, 5965, 5986, 6007, 6013, 6024, 6032, 6043, 6058, 6061, 6063, 6070, 6104, 6136, 6150, 6154, 6177, 6178, 6188, 6199, 6207, 6240, 6244, 6245, 6261, 6268, 6294, 6297, 6299, 6302, 6308, 6312, 6321, 6326, 6336, 6360, 6416, 6431, 6443, 6476, 6486, 6489, 6504, 6507, 6508, 6514, 6521, 6526, 6569, 6582, 6602, 6612, 6617, 6630, 6646, 6649, 6650, 6676, 6677, 6699, 6705, 6744, 6751, 6759, 6761, 6785, 6787, 6820, 6827, 6835, 6867, 6897, 6910, 6919, 6921, 6934, 6978, 7004, 7006, 7009, 7021, 7023, 7029, 7043, 7059, 7078, 7093, 7096, 7154, 7171, 7199, 7223, 7258, 7264, 7270, 7280, 7289, 7293, 7315, 7316, 7360, 7362, 7368, 7371, 7380, 7383, 7385, 7399, 7401, 7410, 7419, 7455, 7458, 7463, 7468, 7471, 7499, 7510, 7525, 7531, 7539, 7560, 7576, 7625, 7635, 7667, 7676, 7684, 7695, 7699, 7703, 7730, 7738, 7742, 7744, 7790, 7810, 7900, 7908, 7910, 7922, 7965, 7972, 7982, 7984, 8005, 8021, 8026, 8049, 8063, 8083, 8088, 8093, 8106, 8109, 8117, 8124, 8126, 8135, 8145, 8160, 8163, 8165, 8173, 8222, 8245, 8259, 8280, 8287, 8304, 8313, 8331, 8347, 8360, 8386, 8391, 8396, 8406, 8442, 8443, 8446, 8471, 8474, 8483, 8502, 8503, 8527, 8529, 8537, 8543, 8562, 8570, 8589, 8596, 8605, 8609, 8629, 8645, 8712, 8718, 8723, 8735, 8738, 8762, 8803, 8834, 8844, 8893, 8916, 8934, 8958, 8982, 8996, 9009, 9028, 9029, 9054, 9057, 9090, 9127, 9129, 9141, 9147, 9158, 9179, 9184, 9210, 9231, 9246, 9260, 9262, 9266, 9270, 9278, 9322, 9342, 9372, 9433, 9474, 9502, 9531, 9533, 9541, 9548, 9569, 9600, 9621, 9627, 9661, 9700, 9727, 9728, 9729, 9739, 9742, 9769, 9773, 9775, 9782, 9785, 9808, 9842, 9845, 9853, 9854, 9856, 9863, 9888, 9890, 9906, 9908, 9922, 9927, 9992, 10003, 10012, 10018, 10019, 10069, 10077, 10085, 10091, 10118, 10160, 10162, 10184, 10215, 10222, 10224, 10230, 10260, 10261, 10262, 10268, 10277, 10278, 10286, 10292, 10306, 10369, 10370, 10387, 10388, 10398, 10399, 10411, 10444, 10449, 10459, 10477, 10491, 10498, 10499, 10524, 10548, 10555, 10568, 10604, 10652, 10682, 10688, 10704, 10720, 10769, 10783, 10839, 10850, 10882, 10883, 10896, 10898, 10921, 10947, 10957, 10964, 10975, 11062, 11074, 11116, 11123, 11137, 11150, 11151, 11184, 11187, 11194, 11206, 11218, 11228, 11248, 11272, 11280, 11293, 11294, 11321, 11325, 11326, 11366, 11423, 11437, 11450, 11454, 11463, 11468, 11486, 11533, 11544, 11557, 11559, 11565, 11567, 11593, 11596, 11609, 11641, 11653, 11655, 11662, 11665, 11678, 11692, 11702, 11711, 11765, 11769, 11788, 11807, 11815, 11824, 11843, 11859, 11907, 11952, 11964, 11965, 11971, 11984, 11993, 12007, 12036, 12041, 12044, 12073, 12085, 12103, 12104, 12155, 12173, 12175, 12176, 12177, 12246, 12248, 12255, 12262, 12268, 12288, 12294, 12296, 12300, 12341, 12343, 12349, 12356, 12364, 12377, 12404, 12441, 12442, 12454, 12478, 12490, 12496, 12498, 12576, 12598, 12608, 12646, 12655, 12666, 12674, 12698, 12704, 12705, 12719, 12721, 12723, 12750, 12756, 12772, 12786, 12803, 12818, 12822, 12832, 12839, 12842, 12875, 12882, 12914, 12915, 12921, 12930, 12934, 12940, 12942, 12953, 12975, 12979, 12998, 13008, 13010, 13013, 13015, 13019, 13037, 13038, 13045, 13050, 13062, 13070, 13075, 13091, 13104, 13114, 13145, 13151, 13161, 13175, 13181, 13213, 13221, 13229, 13232, 13239, 13264, 13271, 13298, 13304, 13340, 13355, 13356, 13365, 13367, 13419, 13420, 13457, 13459, 13461, 13468, 13475, 13486, 13506, 13515, 13544, 13546, 13551, 13568, 13571, 13586, 13598, 13603, 13614, 13622, 13632, 13644, 13654, 13677, 13679, 13698, 13706, 13713, 13736, 13741, 13756, 13758, 13773, 13795, 13798, 13807, 13809, 13820, 13836, 13839, 13856, 13857, 13895, 13912, 13919, 13920, 13929, 13935, 13954, 13957, 13959, 13979, 13983, 13987, 13996, 14002, 14004, 14019, 14049, 14054, 14074, 14080, 14099, 14115, 14116, 14117, 14136, 14140, 14145, 14197, 14200, 14208, 14218, 14229, 14233, 14239, 14259, 14304, 14308, 14312, 14328, 14331, 14335, 14340, 14354, 14357, 14367, 14374, 14380, 14421, 14457, 14458, 14490, 14509, 14516, 14524, 14526, 14564, 14566, 14569, 14602, 14622, 14701, 14737, 14748, 14755, 14759, 14767, 14775, 14800, 14814, 14830, 14848, 14881, 14925, 14927, 14945, 14947, 14955, 15012, 15021, 15023, 15024, 15027, 15032, 15044, 15051, 15054, 15089, 15093, 15105, 15123, 15178, 15199, 15203, 15237, 15252, 15254, 15258, 15266, 15272, 15295, 15366, 15373, 15379, 15381, 15385, 15391, 15399, 15400, 15402, 15418, 15422, 15423, 15490, 15495, 15508, 15517, 15524, 15539, 15551, 15559, 15599, 15600, 15632, 15645, 15648, 15665, 15703, 15707, 15710, 15714, 15725, 15743, 15754, 15764, 15771, 15779, 15783, 15795, 15864, 15881, 15895, 15900, 15906, 15911, 15919, 15920, 15929, 15937, 15966, 15973, 15975, 15983, 16013, 16014, 16023, 16056, 16074, 16086, 16124, 16135, 16176, 16178, 16214, 16244, 16247, 16257, 16266, 16287, 16299, 16345, 16364, 16371, 16378, 16390, 16396, 16402, 16444, 16454, 16489, 16492, 16504, 16512, 16530, 16539, 16553, 16573, 16629, 16637, 16655, 16683, 16689, 16690, 16700, 16719, 16737, 16755, 16762, 16767, 16799, 16808, 16810, 16817, 16828, 16842, 16847, 16856, 16875, 16890, 16900, 16911, 16916, 16917, 16940, 16945, 16957, 16962, 16982, 16993, 17000, 17016, 17027, 17065, 17067, 17081, 17103, 17113, 17131, 17159, 17175, 17181, 17193, 17217, 17232, 17251, 17289, 17300, 17303, 17306, 17316, 17349, 17365, 17394, 17405, 17407, 17413, 17418, 17423, 17444, 17447, 17456, 17457, 17472, 17487, 17516, 17532, 17535, 17540, 17570, 17571, 17572, 17576, 17579, 17591, 17608, 17613, 17627, 17639, 17645, 17660, 17667, 17684, 17727, 17733, 17752, 17775, 17776, 17800, 17825, 17827, 17832, 17862, 17866, 17882, 17898, 17907, 17925, 17966, 17971, 17981, 17988, 17994, 17996, 18003, 18013, 18033, 18038, 18063, 18065, 18070, 18071, 18091, 18102, 18109, 18113, 18121, 18123, 18130, 18137, 18141, 18144, 18156, 18172, 18182, 18187, 18223, 18226, 18278, 18300, 18302, 18322, 18325, 18334, 18353, 18354, 18366, 18372, 18377, 18403, 18476, 18492, 18508, 18511, 18528, 18564, 18570, 18578, 18606, 18634, 18656, 18662, 18685, 18702, 18722, 18729, 18749, 18753, 18754, 18771, 18772, 18795, 18796, 18801, 18835, 18842, 18850, 18890, 18895, 18930, 18933, 18958, 18972, 18974, 18991, 19002, 19045, 19059, 19079, 19086, 19103, 19119, 19123, 19146, 19154, 19166, 19180, 19232, 19280, 19288, 19289, 19315, 19317, 19332, 19348, 19369, 19385, 19387, 19402, 19424, 19426, 19456, 19458, 19475, 19478, 19484, 19487, 19532, 19539, 19561, 19571, 19579, 19595, 19598, 19694, 19703, 19705, 19711, 19737, 19752, 19761, 19774, 19775, 19787, 19800, 19804, 19807, 19810, 19826, 19836, 19840, 19841, 19844, 19846, 19863, 19875, 19908, 19922, 19937, 19957, 19965, 19989, 19990, 19992, 19996, 20015, 20017, 20051, 20060, 20062, 20116, 20142, 20176, 20217, 20218, 20233, 20246, 20273, 20277, 20305, 20315, 20339, 20345, 20355, 20356, 20357, 20370, 20386, 20388, 20404, 20407, 20448, 20450, 20462, 20477, 20483, 20485, 20488, 20491, 20494, 20557, 20559, 20581, 20589, 20591, 20592, 20596, 20602, 20604, 20609, 20629, 20637, 20643, 20663, 20670, 20683, 20689, 20693, 20717, 20726, 20733, 20762, 20765, 20773, 20780, 20822, 20845, 20849, 20869, 20871, 20886, 20906, 20966, 20994, 20996, 21044, 21052, 21090, 21097, 21140, 21158, 21183, 21188, 21206, 21208, 21240, 21248, 21263, 21283, 21288, 21303, 21306, 21308, 21311, 21340, 21353, 21386, 21389, 21422, 21433, 21447, 21454, 21459, 21465, 21476, 21486, 21488, 21500, 21577, 21588, 21592, 21604, 21638, 21645, 21648, 21682, 21718, 21729, 21772, 21777, 21793, 21817, 21829, 21837, 21854, 21884, 21922, 21948, 21955, 21956, 21987, 22000, 22002, 22008, 22009, 22032, 22042, 22055, 22056, 22077, 22127, 22148, 22183, 22188, 22196, 22199, 22204, 22207, 22246, 22247, 22248, 22250, 22251, 22254, 22277, 22283, 22293, 22296, 22315, 22374, 22422, 22429, 22452, 22455, 22464, 22476, 22489, 22494, 22498, 22500, 22560, 22600, 22630, 22656, 22659, 22682, 22704, 22737, 22756, 22771, 22804, 22824, 22827, 22830, 22885, 22912, 22917, 22931, 22949, 22969, 22994, 23045, 23060, 23071, 23089, 23148, 23154, 23156, 23214, 23228, 23303, 23309, 23338, 23361, 23378, 23437, 23458, 23479, 23480, 23490, 23491, 23507, 23522, 23525, 23528, 23553, 23564, 23569, 23601, 23628, 23644, 23659, 23662, 23663, 23672, 23696, 23707, 23715, 23717, 23780, 23783, 23792, 23825, 23836, 23842, 23870, 23874, 23883, 23907, 23923, 23929, 23938, 23942, 24000, 24003, 24017, 24020, 24060, 24061, 24069, 24082, 24093, 24111, 24137, 24138, 24148, 24154, 24157, 24173, 24176, 24194, 24200, 24210, 24228, 24231, 24242, 24257, 24269, 24271, 24313, 24326, 24328, 24339, 24355, 24377, 24391, 24403, 24412, 24451, 24454, 24461, 24473, 24497, 24514, 24519, 24521, 24547, 24549, 24551, 24572, 24577, 24594, 24598, 24602, 24620, 24653, 24658, 24661, 24673, 24693, 24704, 24706, 24764, 24792, 24824, 24830, 24842, 24850, 24873, 24966, 24967, 24970, 25010, 25033, 25039, 25043, 25048, 25087, 25089, 25093, 25096, 25109, 25120, 25128, 25144, 25151, 25188, 25197, 25201, 25235, 25241, 25283, 25287, 25288, 25297, 25301, 25308, 25312, 25323, 25344, 25345, 25363, 25368, 25371, 25400, 25421, 25434, 25467, 25472, 25511, 25516, 25536, 25544, 25559, 25586, 25612, 25660, 25662, 25683, 25697, 25732, 25734, 25776, 25794, 25797, 25798, 25807, 25808, 25814, 25818, 25831, 25835, 25840, 25855, 25861, 25863, 25867, 25938, 25954, 25969, 25972, 25985, 25987, 25990, 25998, 26007, 26013, 26027, 26046, 26060, 26063, 26071, 26089, 26101, 26110, 26112, 26136, 26144, 26160, 26179, 26204, 26205, 26207, 26213, 26233, 26249, 26250, 26260, 26267, 26275, 26290, 26299, 26302, 26356, 26394, 26410, 26422, 26448, 26457, 26462, 26474, 26501, 26511, 26516, 26523, 26539, 26558, 26563, 26566, 26600, 26622, 26632, 26645, 26650, 26754, 26788, 26818, 26840, 26878, 26895, 26900, 26914, 26917, 26920, 26933, 26938, 26948, 26960, 26966, 26990, 26993, 27026, 27032, 27034, 27042, 27065, 27074, 27102, 27113, 27138, 27153, 27158, 27178, 27199, 27204, 27226, 27239, 27247, 27285, 27293, 27305, 27311, 27354, 27365, 27372, 27383, 27386, 27418, 27430, 27444, 27469, 27477, 27489, 27537, 27558, 27593, 27611, 27613, 27622, 27677, 27681, 27695, 27721, 27723, 27763, 27774, 27786, 27805, 27838, 27842, 27844, 27849, 27850, 27859, 27865, 27884, 27887, 27891, 27909, 27918, 27922, 27955, 27966, 27972, 28015, 28034, 28049, 28051, 28057, 28071, 28091, 28094, 28119, 28122, 28126, 28128, 28138, 28163, 28165, 28172, 28186, 28204, 28207, 28211, 28220, 28239, 28256, 28267, 28270, 28274, 28321, 28339, 28359, 28363, 28366, 28371, 28431, 28436, 28440, 28444, 28475, 28492, 28499, 28505, 28511, 28512, 28516, 28520, 28537, 28568, 28583, 28587, 28591, 28593, 28611, 28639, 28673, 28690, 28707, 28714, 28757, 28763, 28765, 28773, 28808, 28815, 28821, 28833, 28839, 28857, 28860, 28874, 28876, 28879, 28914, 28926, 28934, 28969, 28984, 29007, 29012, 29024, 29039, 29049, 29074, 29078, 29080, 29082, 29116, 29120, 29169, 29172, 29173, 29192, 29201, 29219, 29222, 29234, 29235, 29240, 29261, 29263, 29279, 29345, 29351, 29357, 29360, 29363, 29386, 29391, 29392, 29405, 29426, 29433, 29434, 29441, 29462, 29470, 29492, 29513, 29514, 29559, 29562, 29589, 29592, 29622, 29627, 29636, 29650, 29667, 29673, 29687, 29727, 29759, 29773, 29794, 29805, 29810, 29827, 29835, 29863, 29873, 29895, 29927, 29943, 29977, 30005, 30059, 30069, 30070, 30078, 30097, 30115, 30127, 30144, 30146, 30159, 30165, 30187, 30211, 30225, 30243, 30245, 30302, 30306, 30315, 30322, 30340, 30347, 30350, 30381, 30382, 30484, 30487, 30498, 30499, 30505, 30511, 30516, 30523, 30568, 30576, 30581, 30591, 30604, 30631, 30633, 30635, 30637, 30655, 30658, 30692, 30705, 30734, 30746, 30757, 30765, 30785, 30817, 30824, 30851, 30891, 30923, 30924, 30933, 30934, 30966, 30974, 30976, 30979, 31011, 31024, 31030, 31037, 31038, 31050, 31055, 31068, 31091, 31134, 31147, 31188, 31219, 31237, 31258, 31262, 31361, 31367, 31373, 31384, 31388, 31423, 31424, 31429, 31456, 31459, 31460, 31490, 31500, 31521, 31553, 31556, 31562, 31567, 31573, 31587, 31595, 31604, 31621, 31638, 31644, 31653, 31700, 31705, 31710, 31730, 31734, 31750, 31762, 31764, 31765, 31775, 31828, 31830, 31840, 31847, 31854, 31897, 31910, 31918, 31930, 31938, 31955, 31995, 31999, 32012, 32049, 32050, 32058, 32062, 32104, 32120, 32131, 32146, 32169, 32173, 32181, 32198, 32210, 32222, 32227, 32246, 32251, 32253, 32261, 32268, 32271, 32272, 32319, 32324, 32329, 32368, 32374, 32393, 32431, 32455, 32470, 32491, 32509, 32513, 32535, 32548, 32562, 32577, 32592, 32605, 32627, 32628, 32642, 32643, 32658, 32664, 32692, 32733, 32754, 32770, 32780, 32783, 32797, 32802, 32808, 32818, 32820, 32827, 32841, 32843, 32898, 32911, 32920, 32941, 32945, 32958, 32967, 32976, 32978, 33008, 33009, 33018, 33025, 33026, 33035, 33037, 33042, 33064, 33069, 33070, 33077, 33095, 33097, 33099, 33125, 33135, 33161, 33172, 33174, 33185, 33198, 33199, 33218, 33224, 33258, 33265, 33267, 33270, 33273, 33307, 33351, 33354, 33371, 33372, 33389, 33406, 33422, 33481, 33494, 33501, 33503, 33515, 33528, 33535, 33548, 33554, 33568, 33626, 33635, 33641, 33665, 33681, 33691, 33736, 33760, 33763, 33773, 33799, 33801, 33872, 33887, 33889, 33906, 33914, 33926, 33928, 33931, 33942, 33963, 33976, 33989, 33995, 33996, 34000, 34017, 34090, 34094, 34110, 34125, 34164, 34172, 34181, 34204, 34210, 34238, 34267, 34273, 34299, 34332, 34335, 34339, 34340, 34348, 34354, 34381, 34390, 34395, 34419, 34425, 34462, 34470, 34482, 34502, 34540, 34541, 34543, 34545, 34546, 34550, 34553, 34566, 34591, 34595, 34606, 34611, 34629, 34637, 34638, 34641, 34642, 34662, 34664, 34668, 34673, 34678, 34687, 34698, 34700, 34701, 34711, 34719, 34723, 34726, 34737, 34747, 34754, 34763, 34771, 34781, 34784, 34786, 34826, 34860, 34879, 34885, 34911, 34923, 34938, 34941, 34944, 34946, 34949, 34963, 34968, 34981, 34998, 34999, 35019, 35021, 35026, 35058, 35064, 35082, 35145, 35154, 35184, 35191, 35206, 35211, 35213, 35217, 35222, 35224, 35225, 35234, 35249, 35287, 35288, 35291, 35322, 35325, 35328, 35343, 35347, 35378, 35393, 35407, 35418, 35422, 35432, 35437, 35448, 35458, 35489, 35522, 35523, 35571, 35580, 35613, 35626, 35638, 35646, 35657, 35662, 35674, 35685, 35715, 35754, 35755, 35772, 35775, 35788, 35832, 35840, 35856, 35864, 35869, 35872, 35897, 35960, 35962, 35981, 35992, 35996, 35997, 36028, 36042, 36075, 36105, 36152, 36160, 36192, 36193, 36194, 36206, 36208, 36219, 36249, 36250, 36253, 36261, 36309, 36317, 36352, 36378, 36387, 36396, 36405, 36408, 36427, 36441, 36481, 36500, 36507, 36515, 36535, 36547, 36568, 36580, 36581, 36594, 36630, 36633, 36636, 36654, 36659, 36661, 36667, 36680, 36690, 36693, 36702, 36718, 36724, 36749, 36764, 36791, 36800, 36805, 36811, 36834, 36852, 36861, 36865, 36866, 36876, 36895, 36897, 36918, 36930, 36940, 36952, 36960, 36966, 36968, 36974, 36978, 36994, 37004, 37007, 37014, 37018, 37019, 37058, 37084, 37123, 37164, 37170, 37172, 37204, 37267, 37269, 37275, 37287, 37318, 37323, 37370, 37384, 37392, 37423, 37424, 37431, 37432, 37434, 37472, 37478, 37497, 37501, 37562, 37602, 37607, 37610, 37618, 37655, 37662, 37685, 37687, 37738, 37770, 37782, 37784, 37804, 37809, 37817, 37822, 37834, 37842, 37858, 37861, 37864, 37873, 37875, 37876, 37887, 37900, 37938, 37956, 37958, 37962, 37972, 37973, 37981, 37992, 38009, 38016, 38036, 38059, 38113, 38137, 38144, 38145, 38173, 38191, 38194, 38198, 38209, 38219, 38239, 38271, 38300, 38310, 38315, 38323, 38333, 38342, 38355, 38369, 38380, 38401, 38423, 38425, 38441, 38442, 38455, 38490, 38493, 38537, 38543, 38553, 38562, 38585, 38610, 38617, 38622, 38635, 38640, 38652, 38681, 38683, 38694, 38701, 38706, 38730, 38753, 38774, 38783, 38785, 38803, 38815, 38818, 38845, 38880, 38902, 38910, 38929, 38983, 38990, 39011, 39012, 39055, 39057, 39076, 39097, 39103, 39114, 39121, 39133, 39136, 39175, 39197, 39217, 39218, 39221, 39228, 39255, 39296, 39308, 39325, 39336, 39339, 39368, 39391, 39429, 39437, 39488, 39493, 39497, 39502, 39507, 39510, 39544, 39551, 39552, 39560, 39561, 39587, 39599, 39603, 39616, 39627, 39635, 39643, 39644, 39651, 39658, 39667, 39714, 39724, 39731, 39757, 39779, 39803, 39811, 39817, 39819, 39831, 39835, 39871, 39894, 39903, 39987, 40035, 40043, 40056, 40073, 40080, 40095, 40102, 40137, 40180, 40189, 40268, 40342, 40343, 40349, 40352, 40370, 40376, 40425, 40433, 40441, 40442, 40444, 40450, 40466, 40480, 40485, 40506, 40517, 40542, 40554, 40561, 40563, 40567, 40574, 40595, 40605, 40609, 40630, 40638, 40640, 40659, 40673, 40675, 40678, 40686, 40705, 40722, 40731, 40747, 40766, 40769, 40775, 40790, 40801, 40802, 40811, 40858, 40898, 40911, 40913, 40926, 40941, 40943, 40946, 40947, 40950, 40954, 41032, 41049, 41110, 41114, 41118, 41128, 41164, 41177, 41179, 41182, 41210, 41216, 41223, 41229, 41230, 41237, 41251, 41259, 41262, 41280, 41314, 41316, 41323, 41335, 41337, 41355, 41367, 41389, 41399, 41410, 41419, 41432, 41513, 41515, 41528, 41531, 41534, 41546, 41603, 41630, 41649, 41698, 41709, 41732, 41737, 41743, 41753, 41781, 41801, 41809, 41811, 41816, 41826, 41841, 41872, 41876, 41882, 41892, 41897, 41924, 41953, 41969, 41979, 41984, 41997, 42021, 42035, 42036, 42041, 42042, 42048, 42070, 42100, 42105, 42106, 42110, 42127, 42140, 42141, 42185, 42205, 42255, 42268, 42273, 42304, 42321, 42347, 42361, 42363, 42371, 42424, 42426, 42452, 42471, 42509, 42518, 42533, 42536, 42543, 42557, 42561, 42611, 42630, 42632, 42636, 42643, 42650, 42659, 42665, 42667, 42686, 42694, 42699, 42714, 42715, 42731, 42756, 42778, 42785, 42812, 42823, 42835, 42860, 42862, 42867, 42869, 42888, 42891, 42894, 42900, 42905, 42912, 42914, 42924, 42933, 42975, 42986, 42988, 42990, 43004, 43031, 43032, 43043, 43066, 43102, 43126, 43134, 43142, 43169, 43208, 43293, 43302, 43306, 43313, 43353, 43399, 43400, 43406, 43409, 43410, 43414, 43419, 43425, 43427, 43439, 43462, 43470, 43476, 43501, 43509, 43512, 43522, 43529, 43543, 43549, 43555, 43557, 43567, 43574, 43580, 43618, 43619, 43639, 43684, 43685, 43692, 43739, 43747, 43749, 43783, 43797, 43803, 43806, 43807, 43826, 43827, 43844, 43868, 43892, 43910, 43912, 43924, 43945, 43967, 43992, 44006, 44018, 44022, 44045, 44047, 44054, 44075, 44080, 44105, 44120, 44125, 44129, 44149, 44191, 44199, 44202, 44230, 44259, 44264, 44269, 44278, 44280, 44289, 44297, 44353, 44354, 44385, 44404, 44421, 44422, 44431, 44438, 44439, 44466, 44472, 44473, 44498, 44506, 44513, 44515, 44539, 44543, 44545, 44554, 44558, 44575, 44577, 44583, 44589, 44616, 44624, 44637, 44657, 44662, 44666, 44719, 44725, 44741, 44743, 44755, 44757, 44759, 44798, 44809, 44813, 44818, 44823, 44832, 44845, 44850, 44851, 44898, 44904, 44963, 44964, 44975, 44989, 44999, 45026, 45082, 45096, 45135, 45139, 45151, 45152, 45182, 45184, 45195, 45221, 45264, 45277, 45296, 45309, 45310, 45322, 45334, 45340, 45367, 45369, 45392, 45409, 45410, 45448, 45459, 45487, 45531, 45537, 45539, 45551, 45565, 45566, 45595, 45597, 45600, 45609, 45622, 45627, 45658, 45671, 45686, 45712, 45733, 45747, 45759, 45761, 45780, 45806, 45845, 45852, 45858, 45876, 45893, 45905, 45911, 45920, 45942, 45962, 45977, 45983, 45984, 46018, 46019, 46021, 46034, 46042, 46082, 46087, 46095, 46096, 46100, 46113, 46122, 46140, 46141, 46159, 46170, 46183, 46198, 46211, 46223, 46242, 46263, 46268, 46273, 46279, 46286, 46292, 46294, 46300, 46303, 46424, 46429, 46433, 46435, 46457, 46474, 46482, 46519, 46520, 46533, 46534, 46536, 46539, 46563, 46600, 46631, 46654, 46705, 46714, 46720, 46753, 46771, 46778, 46793, 46795, 46807, 46820, 46834, 46845, 46849, 46872, 46873, 46883, 46908, 46916, 46938, 46950, 46951, 46952, 47000, 47002, 47012, 47015, 47019, 47020, 47033, 47045, 47072, 47076, 47123, 47145, 47149, 47174, 47180, 47196, 47201, 47230, 47244, 47249, 47267, 47276, 47278, 47280, 47288, 47306, 47308, 47311, 47333, 47334, 47346, 47349, 47359, 47366, 47387, 47393, 47438, 47443, 47444, 47457, 47460, 47462, 47463, 47465, 47486, 47490, 47498, 47509, 47514, 47520, 47521, 47547, 47551, 47557, 47567, 47582, 47604, 47613, 47656, 47657, 47671, 47674, 47677, 47684, 47700, 47713, 47728, 47744, 47758, 47760, 47827, 47829, 47856, 47865, 47891, 47927, 47936, 47948, 47954, 47975, 47993, 48001, 48003, 48005, 48010, 48036, 48049, 48058, 48099, 48111, 48113, 48126, 48140, 48162, 48175, 48188, 48222, 48241, 48254, 48280, 48287, 48288, 48304, 48382, 48388, 48424, 48433, 48443, 48451, 48454, 48521, 48537, 48550, 48551, 48554, 48556, 48575, 48649, 48677, 48678, 48703, 48722, 48736, 48757, 48774, 48781, 48811, 48835, 48836, 48883, 48903, 48907, 48917, 48922, 48962, 48963, 48980, 48993, 48995, 48998, 49003, 49010, 49058, 49061, 49084, 49109, 49117, 49118, 49124, 49125, 49173, 49174, 49211, 49213, 49215, 49230, 49239, 49247, 49261, 49292, 49303, 49315, 49323, 49336, 49337, 49353, 49376, 49401, 49432, 49460, 49510, 49516, 49520, 49525, 49565, 49580, 49607, 49621, 49625, 49642, 49649, 49650, 49651, 49667, 49697, 49718, 49734, 49742, 49756, 49760, 49774, 49778, 49808, 49811, 49816, 49817, 49845, 49855, 49856, 49872, 49891, 49900, 49903, 49917, 49941, 49946, 49948, 49967, 49968, 49975, 11, 15, 26, 84, 124, 131, 154, 192, 233, 251, 273, 286, 320, 354, 357, 376, 387, 437, 472, 498, 503, 510, 540, 542, 552, 568, 582, 616, 622, 649, 660, 676, 705, 728, 737, 738, 799, 801, 809, 836, 872, 881, 887, 927, 928, 958, 960, 964, 966, 993, 997, 1011, 1075, 1091, 1120, 1127, 1147, 1181, 1206, 1245, 1282, 1314, 1316, 1335, 1350, 1368, 1397, 1415, 1421, 1441, 1483, 1493, 1542, 1550, 1561, 1578, 1595, 1607, 1637, 1645, 1663, 1681, 1684, 1704, 1751, 1764, 1779, 1783, 1796, 1798, 1823, 1828, 1846, 1974, 1979, 1984, 2006, 2009, 2011, 2039, 2047, 2070, 2107, 2143, 2147, 2228, 2243, 2264, 2283, 2323, 2346, 2363, 2392, 2397, 2405, 2414, 2417, 2432, 2447, 2448, 2455, 2478, 2516, 2519, 2521, 2525, 2542, 2614, 2635, 2694, 2696, 2722, 2742, 2746, 2747, 2794, 2799, 2820, 2881, 2885, 2918, 2919, 2936, 2960, 2964, 3000, 3008, 3030, 3058, 3065, 3075, 3128, 3133, 3167, 3168, 3183, 3187, 3194, 3216, 3266, 3308, 3325, 3337, 3357, 3360, 3361, 3374, 3385, 3394, 3433, 3455, 3465, 3507, 3537, 3545, 3571, 3587, 3619, 3620, 3645, 3711, 3760, 3765, 3806, 3808, 3809, 3827, 3830, 3856, 3866, 3889, 3891, 3908, 3914, 3927, 3969, 3989, 4004, 4023, 4047, 4086, 4093, 4118, 4128, 4180, 4196, 4214, 4253, 4268, 4313, 4329, 4344, 4347, 4391, 4405, 4430, 4455, 4458, 4461, 4471, 4473, 4487, 4488, 4495, 4506, 4513, 4574, 4579, 4597, 4600, 4606, 4619, 4659, 4677, 4736, 4740, 4758, 4768, 4777, 4781, 4783, 4799, 4800, 4802, 4858, 4888, 4893, 4900, 4958, 4985, 5015, 5045, 5123, 5136, 5150, 5162, 5212, 5228, 5238, 5295, 5341, 5356, 5360, 5372, 5378, 5399, 5417, 5434, 5464, 5465, 5474, 5475, 5479, 5541, 5561, 5571, 5586, 5589, 5635, 5638, 5648, 5663, 5664, 5676, 5686, 5704, 5711, 5712, 5771, 5779, 5795, 5796, 5807, 5827, 5836, 5843, 5877, 5926, 5931, 5957, 5960, 5965, 5986, 6007, 6014, 6024, 6058, 6061, 6067, 6101, 6135, 6136, 6150, 6177, 6188, 6251, 6297, 6302, 6321, 6326, 6371, 6416, 6431, 6489, 6511, 6521, 6524, 6602, 6603, 6630, 6646, 6677, 6699, 6705, 6744, 6751, 6759, 6761, 6787, 6795, 6835, 6867, 6910, 6919, 6978, 7004, 7009, 7021, 7023, 7043, 7057, 7059, 7078, 7088, 7171, 7234, 7236, 7263, 7270, 7280, 7289, 7293, 7315, 7316, 7360, 7368, 7371, 7372, 7383, 7399, 7410, 7417, 7419, 7458, 7468, 7471, 7499, 7503, 7525, 7531, 7539, 7560, 7596, 7635, 7667, 7684, 7695, 7699, 7703, 7723, 7730, 7742, 7744, 7777, 7825, 7900, 7940, 7966, 7982, 8026, 8049, 8063, 8088, 8093, 8109, 8117, 8135, 8160, 8163, 8173, 8176, 8245, 8259, 8280, 8313, 8331, 8334, 8347, 8360, 8391, 8406, 8442, 8443, 8446, 8453, 8483, 8502, 8543, 8564, 8584, 8589, 8605, 8609, 8629, 8631, 8645, 8707, 8723, 8738, 8762, 8790, 8803, 8844, 8868, 8887, 8916, 8934, 8946, 8955, 8962, 8982, 8996, 9009, 9018, 9021, 9029, 9071, 9090, 9141, 9147, 9163, 9184, 9238, 9246, 9262, 9266, 9270, 9322, 9342, 9386, 9387, 9443, 9474, 9502, 9506, 9533, 9548, 9551, 9588, 9600, 9621, 9661, 9667, 9704, 9728, 9742, 9782, 9785, 9808, 9840, 9853, 9854, 9863, 9869, 9877, 9888, 9906, 9910, 9921, 9927, 9960, 9992, 10019, 10077, 10085, 10091, 10130, 10162, 10184, 10215, 10222, 10261, 10262, 10278, 10292, 10306, 10363, 10387, 10411, 10444, 10449, 10477, 10491, 10498, 10499, 10522, 10548, 10555, 10604, 10668, 10688, 10710, 10769, 10783, 10834, 10898, 10947, 10949, 10957, 10964, 11019, 11021, 11062, 11137, 11145, 11150, 11179, 11187, 11189, 11194, 11206, 11218, 11228, 11280, 11293, 11304, 11326, 11366, 11389, 11395, 11454, 11463, 11468, 11486, 11544, 11557, 11559, 11565, 11593, 11609, 11619, 11645, 11653, 11655, 11662, 11665, 11692, 11708, 11765, 11769, 11788, 11802, 11824, 11834, 11843, 11859, 11907, 11964, 11996, 12007, 12012, 12036, 12041, 12073, 12104, 12173, 12176, 12199, 12224, 12246, 12268, 12296, 12298, 12300, 12341, 12349, 12352, 12364, 12409, 12454, 12478, 12498, 12533, 12598, 12608, 12620, 12655, 12698, 12721, 12750, 12756, 12786, 12818, 12841, 12882, 12914, 12921, 12934, 12940, 12942, 12944, 12953, 12975, 12998, 13008, 13010, 13013, 13015, 13037, 13045, 13050, 13062, 13070, 13091, 13101, 13104, 13114, 13151, 13175, 13181, 13213, 13221, 13232, 13239, 13240, 13264, 13298, 13304, 13340, 13351, 13355, 13358, 13365, 13367, 13390, 13409, 13457, 13459, 13475, 13486, 13506, 13540, 13544, 13546, 13551, 13568, 13580, 13586, 13598, 13603, 13614, 13625, 13677, 13707, 13713, 13736, 13741, 13758, 13795, 13798, 13856, 13857, 13929, 13954, 13959, 13983, 14002, 14004, 14019, 14047, 14054, 14099, 14115, 14116, 14117, 14140, 14145, 14208, 14224, 14229, 14233, 14235, 14239, 14259, 14304, 14308, 14331, 14335, 14340, 14354, 14367, 14421, 14442, 14490, 14495, 14526, 14620, 14688, 14701, 14732, 14737, 14748, 14762, 14800, 14814, 14848, 14925, 14933, 15012, 15024, 15027, 15044, 15051, 15089, 15093, 15178, 15199, 15203, 15252, 15258, 15352, 15366, 15379, 15381, 15385, 15400, 15402, 15418, 15422, 15490, 15495, 15508, 15517, 15551, 15599, 15648, 15665, 15694, 15699, 15703, 15710, 15743, 15764, 15783, 15795, 15809, 15895, 15900, 15906, 15911, 15919, 15920, 15929, 15937, 15973, 15975, 16014, 16023, 16056, 16074, 16135, 16214, 16287, 16378, 16390, 16396, 16402, 16438, 16492, 16504, 16533, 16539, 16553, 16567, 16593, 16629, 16683, 16689, 16690, 16737, 16746, 16755, 16762, 16799, 16808, 16817, 16828, 16836, 16847, 16875, 16888, 16890, 16891, 16900, 16911, 16916, 16917, 16928, 16939, 16945, 16957, 16962, 16982, 16993, 17027, 17039, 17051, 17065, 17067, 17081, 17113, 17131, 17159, 17217, 17232, 17251, 17257, 17289, 17303, 17306, 17318, 17384, 17394, 17405, 17413, 17418, 17444, 17447, 17457, 17535, 17540, 17571, 17572, 17575, 17591, 17639, 17645, 17684, 17703, 17733, 17752, 17775, 17776, 17783, 17800, 17857, 17862, 17866, 17882, 17966, 17971, 17981, 17994, 17996, 18003, 18038, 18063, 18091, 18102, 18123, 18137, 18144, 18150, 18223, 18300, 18322, 18353, 18366, 18372, 18377, 18425, 18461, 18508, 18511, 18564, 18570, 18606, 18634, 18656, 18685, 18722, 18771, 18795, 18796, 18823, 18842, 18890, 18895, 18930, 18933, 18968, 18972, 19002, 19045, 19059, 19072, 19079, 19086, 19141, 19146, 19154, 19166, 19180, 19192, 19280, 19289, 19315, 19332, 19334, 19348, 19369, 19385, 19387, 19458, 19468, 19484, 19532, 19561, 19571, 19578, 19579, 19684, 19711, 19715, 19752, 19761, 19774, 19775, 19787, 19800, 19810, 19840, 19846, 19847, 19863, 19906, 19922, 19945, 19957, 19965, 19989, 19996, 20048, 20051, 20062, 20116, 20129, 20142, 20176, 20183, 20204, 20217, 20218, 20249, 20291, 20305, 20315, 20355, 20356, 20359, 20364, 20370, 20381, 20386, 20407, 20449, 20462, 20477, 20488, 20491, 20494, 20557, 20559, 20589, 20591, 20602, 20609, 20629, 20637, 20643, 20670, 20689, 20717, 20726, 20733, 20741, 20773, 20776, 20845, 20871, 20886, 20906, 20960, 20996, 21044, 21067, 21140, 21158, 21206, 21208, 21240, 21248, 21263, 21283, 21288, 21303, 21306, 21308, 21353, 21386, 21433, 21454, 21500, 21588, 21608, 21633, 21654, 21729, 21772, 21777, 21817, 21829, 21837, 21944, 21948, 21955, 21956, 21966, 21987, 22002, 22056, 22077, 22127, 22148, 22183, 22188, 22196, 22207, 22247, 22248, 22250, 22277, 22283, 22293, 22351, 22374, 22429, 22452, 22455, 22476, 22560, 22630, 22656, 22659, 22682, 22704, 22737, 22756, 22804, 22827, 22830, 22917, 22931, 22969, 22976, 22994, 23045, 23060, 23089, 23154, 23186, 23303, 23309, 23338, 23378, 23411, 23437, 23440, 23458, 23460, 23479, 23553, 23556, 23564, 23569, 23601, 23644, 23655, 23659, 23663, 23672, 23696, 23700, 23731, 23783, 23792, 23836, 23842, 23870, 23892, 23923, 23938, 23942, 24003, 24007, 24017, 24060, 24069, 24082, 24127, 24157, 24173, 24194, 24220, 24228, 24231, 24250, 24271, 24285, 24295, 24313, 24315, 24355, 24377, 24412, 24447, 24451, 24454, 24461, 24504, 24514, 24549, 24551, 24577, 24594, 24602, 24627, 24647, 24653, 24658, 24661, 24693, 24754, 24830, 24842, 24951, 24966, 24967, 25043, 25048, 25087, 25093, 25109, 25144, 25188, 25197, 25282, 25288, 25297, 25301, 25312, 25323, 25344, 25363, 25376, 25421, 25434, 25467, 25472, 25508, 25511, 25536, 25544, 25559, 25566, 25660, 25683, 25687, 25697, 25732, 25776, 25778, 25808, 25831, 25835, 25837, 25863, 25867, 25880, 25909, 25938, 25940, 25969, 25972, 25990, 25998, 26007, 26013, 26023, 26060, 26071, 26101, 26110, 26112, 26142, 26160, 26182, 26204, 26207, 26213, 26267, 26275, 26290, 26302, 26356, 26394, 26419, 26422, 26423, 26480, 26501, 26511, 26516, 26525, 26558, 26566, 26622, 26645, 26747, 26754, 26781, 26788, 26818, 26840, 26878, 26895, 26920, 26933, 26938, 27016, 27026, 27042, 27065, 27074, 27113, 27138, 27144, 27153, 27204, 27207, 27226, 27286, 27305, 27311, 27358, 27365, 27383, 27386, 27418, 27430, 27524, 27537, 27558, 27593, 27681, 27707, 27774, 27786, 27829, 27844, 27850, 27884, 27887, 27909, 27915, 27922, 27930, 27955, 27966, 27972, 28015, 28057, 28071, 28094, 28119, 28122, 28128, 28138, 28165, 28204, 28220, 28256, 28267, 28270, 28274, 28290, 28321, 28339, 28347, 28359, 28366, 28373, 28414, 28415, 28444, 28447, 28475, 28492, 28505, 28512, 28516, 28520, 28537, 28568, 28583, 28593, 28611, 28673, 28690, 28707, 28742, 28763, 28773, 28814, 28833, 28839, 28857, 28860, 28876, 28914, 28984, 29007, 29039, 29078, 29080, 29082, 29116, 29120, 29147, 29169, 29173, 29219, 29222, 29234, 29235, 29351, 29372, 29386, 29391, 29405, 29433, 29470, 29513, 29562, 29592, 29627, 29636, 29654, 29673, 29687, 29759, 29773, 29789, 29827, 29830, 29895, 29969, 30049, 30059, 30066, 30097, 30101, 30115, 30127, 30137, 30144, 30146, 30159, 30187, 30245, 30250, 30285, 30302, 30315, 30325, 30340, 30350, 30382, 30474, 30484, 30487, 30499, 30505, 30568, 30576, 30581, 30591, 30595, 30604, 30631, 30633, 30658, 30659, 30746, 30765, 30785, 30817, 30871, 30891, 30902, 30925, 30933, 30934, 30950, 30954, 30959, 30974, 31011, 31030, 31038, 31050, 31055, 31068, 31094, 31147, 31197, 31209, 31219, 31237, 31258, 31262, 31364, 31367, 31384, 31388, 31396, 31424, 31459, 31460, 31521, 31550, 31553, 31556, 31562, 31567, 31587, 31595, 31634, 31638, 31653, 31700, 31705, 31710, 31728, 31730, 31762, 31764, 31775, 31797, 31827, 31847, 31897, 31910, 31930, 31938, 31942, 31955, 31981, 31995, 32049, 32058, 32120, 32169, 32173, 32181, 32198, 32210, 32246, 32253, 32261, 32271, 32274, 32324, 32331, 32368, 32374, 32394, 32431, 32509, 32513, 32535, 32548, 32562, 32592, 32605, 32608, 32628, 32642, 32664, 32699, 32701, 32733, 32754, 32802, 32808, 32818, 32827, 32841, 32890, 32898, 32905, 32911, 32920, 32945, 32952, 32967, 32976, 32978, 33018, 33026, 33035, 33042, 33064, 33069, 33095, 33097, 33135, 33146, 33161, 33172, 33185, 33220, 33224, 33258, 33265, 33273, 33371, 33372, 33392, 33437, 33503, 33515, 33535, 33554, 33568, 33574, 33628, 33635, 33641, 33665, 33736, 33773, 33789, 33821, 33836, 33861, 33887, 33889, 33914, 33931, 33940, 33963, 33995, 34017, 34094, 34172, 34238, 34267, 34299, 34339, 34354, 34390, 34395, 34425, 34426, 34462, 34470, 34475, 34502, 34541, 34546, 34566, 34591, 34606, 34611, 34638, 34642, 34664, 34678, 34687, 34698, 34701, 34726, 34737, 34747, 34763, 34771, 34826, 34860, 34885, 34902, 34923, 34938, 34946, 34968, 34998, 34999, 35019, 35021, 35082, 35154, 35191, 35206, 35211, 35213, 35222, 35225, 35249, 35268, 35279, 35287, 35288, 35319, 35322, 35343, 35356, 35378, 35407, 35489, 35522, 35523, 35571, 35597, 35617, 35626, 35715, 35751, 35755, 35772, 35775, 35864, 35869, 35872, 35897, 35905, 35953, 35960, 35962, 35981, 35992, 35996, 36020, 36028, 36066, 36075, 36105, 36121, 36152, 36160, 36180, 36192, 36193, 36194, 36206, 36219, 36249, 36253, 36309, 36378, 36386, 36408, 36481, 36507, 36515, 36520, 36535, 36581, 36594, 36602, 36630, 36636, 36654, 36661, 36667, 36680, 36693, 36702, 36706, 36749, 36764, 36785, 36791, 36805, 36811, 36834, 36852, 36866, 36876, 36895, 36897, 36909, 36918, 36930, 36940, 36960, 36968, 36974, 36978, 36994, 37004, 37014, 37019, 37026, 37038, 37058, 37084, 37123, 37164, 37172, 37204, 37275, 37287, 37288, 37297, 37300, 37307, 37321, 37384, 37392, 37422, 37423, 37424, 37472, 37501, 37549, 37562, 37565, 37607, 37610, 37618, 37655, 37750, 37777, 37782, 37784, 37804, 37809, 37817, 37829, 37834, 37842, 37861, 37873, 37875, 37876, 37938, 37956, 38036, 38059, 38113, 38142, 38144, 38145, 38146, 38169, 38173, 38191, 38209, 38271, 38300, 38310, 38315, 38316, 38380, 38401, 38423, 38428, 38439, 38455, 38464, 38490, 38553, 38562, 38585, 38615, 38635, 38640, 38652, 38681, 38683, 38706, 38728, 38774, 38785, 38813, 38815, 38824, 38855, 38902, 38910, 38926, 38929, 38990, 39012, 39055, 39057, 39076, 39114, 39121, 39136, 39187, 39197, 39205, 39217, 39249, 39267, 39296, 39308, 39325, 39339, 39368, 39381, 39391, 39429, 39452, 39493, 39505, 39507, 39510, 39544, 39561, 39572, 39616, 39627, 39635, 39636, 39643, 39644, 39658, 39724, 39725, 39731, 39732, 39803, 39811, 39819, 39831, 39871, 39987, 40006, 40011, 40082, 40095, 40137, 40189, 40340, 40343, 40352, 40393, 40425, 40433, 40441, 40442, 40485, 40506, 40507, 40554, 40561, 40567, 40574, 40587, 40595, 40605, 40609, 40630, 40632, 40673, 40675, 40705, 40790, 40802, 40858, 40896, 40898, 40909, 40911, 40926, 40941, 40954, 41016, 41029, 41096, 41128, 41131, 41164, 41177, 41228, 41230, 41259, 41280, 41301, 41335, 41367, 41389, 41399, 41410, 41432, 41440, 41515, 41528, 41531, 41534, 41546, 41605, 41702, 41709, 41732, 41740, 41753, 41784, 41801, 41809, 41841, 41846, 41864, 41872, 41882, 41924, 41969, 41979, 41997, 42042, 42048, 42070, 42100, 42110, 42127, 42140, 42141, 42186, 42187, 42205, 42228, 42255, 42321, 42347, 42363, 42371, 42424, 42452, 42471, 42509, 42518, 42533, 42536, 42561, 42611, 42621, 42630, 42636, 42642, 42643, 42651, 42665, 42686, 42694, 42714, 42766, 42795, 42802, 42812, 42835, 42862, 42867, 42869, 42900, 42905, 42912, 42924, 42933, 42975, 42982, 42988, 43019, 43030, 43031, 43043, 43066, 43070, 43102, 43126, 43134, 43140, 43169, 43271, 43305, 43399, 43406, 43409, 43410, 43419, 43425, 43427, 43430, 43439, 43512, 43517, 43519, 43567, 43619, 43739, 43747, 43783, 43797, 43803, 43827, 43844, 43892, 43910, 43929, 43945, 43967, 43982, 43987, 44018, 44045, 44054, 44080, 44105, 44120, 44125, 44129, 44149, 44191, 44199, 44202, 44230, 44259, 44264, 44269, 44278, 44289, 44297, 44353, 44385, 44404, 44421, 44422, 44438, 44439, 44444, 44450, 44466, 44472, 44473, 44543, 44554, 44575, 44577, 44616, 44637, 44662, 44666, 44713, 44719, 44741, 44743, 44777, 44790, 44798, 44809, 44818, 44850, 44872, 44897, 44917, 44960, 44971, 44975, 44989, 45026, 45082, 45096, 45104, 45139, 45151, 45152, 45182, 45195, 45221, 45224, 45248, 45264, 45277, 45309, 45322, 45334, 45367, 45369, 45392, 45409, 45421, 45422, 45429, 45459, 45468, 45476, 45493, 45531, 45537, 45541, 45551, 45595, 45597, 45599, 45600, 45630, 45647, 45658, 45671, 45686, 45711, 45733, 45759, 45780, 45845, 45858, 45893, 45966, 45977, 45983, 46018, 46021, 46034, 46042, 46082, 46087, 46095, 46100, 46113, 46122, 46135, 46140, 46159, 46170, 46182, 46198, 46211, 46222, 46223, 46242, 46263, 46279, 46286, 46292, 46294, 46300, 46389, 46404, 46416, 46435, 46457, 46482, 46520, 46534, 46536, 46595, 46600, 46631, 46654, 46667, 46705, 46714, 46753, 46771, 46807, 46873, 46908, 46950, 46951, 46952, 47002, 47012, 47019, 47020, 47045, 47054, 47145, 47150, 47174, 47197, 47201, 47230, 47244, 47267, 47276, 47306, 47308, 47311, 47349, 47359, 47366, 47387, 47438, 47444, 47457, 47465, 47486, 47490, 47498, 47504, 47509, 47514, 47521, 47524, 47582, 47604, 47613, 47671, 47674, 47677, 47684, 47700, 47713, 47728, 47744, 47760, 47780, 47827, 47829, 47856, 47865, 47870, 47891, 47927, 47936, 47942, 47947, 47954, 48001, 48005, 48010, 48049, 48058, 48099, 48115, 48126, 48188, 48195, 48213, 48222, 48241, 48244, 48254, 48280, 48288, 48342, 48388, 48424, 48443, 48451, 48454, 48480, 48504, 48507, 48512, 48521, 48537, 48554, 48622, 48649, 48677, 48703, 48722, 48757, 48835, 48836, 48850, 48883, 48903, 48907, 48917, 48922, 48944, 48963, 48980, 48993, 48995, 49010, 49058, 49063, 49117, 49118, 49124, 49174, 49193, 49206, 49213, 49215, 49230, 49239, 49285, 49292, 49293, 49323, 49336, 49337, 49340, 49401, 49510, 49520, 49525, 49565, 49580, 49621, 49625, 49642, 49650, 49667, 49696, 49734, 49778, 49808, 49816, 49817, 49845, 49856, 49884, 49917, 49948, 49961, 49967, 49968, 0, 11, 15, 26, 56, 105, 123, 124, 132, 147, 178, 192, 220, 232, 233, 251, 273, 300, 301, 314, 318, 320, 330, 357, 376, 387, 396, 398, 399, 429, 443, 449, 471, 489, 498, 499, 510, 511, 538, 540, 542, 548, 552, 554, 557, 563, 568, 616, 649, 660, 670, 671, 674, 690, 704, 717, 726, 728, 737, 738, 745, 798, 799, 801, 832, 846, 850, 857, 872, 881, 887, 958, 960, 964, 966, 993, 997, 1014, 1022, 1036, 1047, 1048, 1051, 1060, 1089, 1097, 1104, 1127, 1137, 1147, 1181, 1207, 1220, 1232, 1260, 1272, 1273, 1296, 1314, 1316, 1335, 1350, 1388, 1397, 1404, 1431, 1441, 1458, 1477, 1483, 1494, 1533, 1542, 1546, 1561, 1587, 1595, 1607, 1619, 1623, 1628, 1637, 1643, 1666, 1668, 1681, 1704, 1709, 1717, 1728, 1741, 1747, 1762, 1779, 1783, 1802, 1823, 1828, 1830, 1846, 1847, 1849, 1868, 1879, 1885, 1887, 1898, 1904, 1906, 1930, 1949, 1983, 1995, 2004, 2011, 2013, 2016, 2039, 2122, 2135, 2143, 2145, 2147, 2157, 2172, 2191, 2228, 2280, 2344, 2346, 2404, 2405, 2443, 2445, 2446, 2447, 2448, 2454, 2455, 2476, 2502, 2519, 2521, 2542, 2588, 2614, 2635, 2639, 2646, 2696, 2722, 2742, 2747, 2754, 2797, 2799, 2820, 2834, 2880, 2881, 2885, 2893, 2938, 2960, 2964, 2999, 3008, 3015, 3017, 3073, 3107, 3128, 3157, 3167, 3168, 3177, 3194, 3217, 3233, 3235, 3252, 3266, 3290, 3308, 3357, 3360, 3361, 3368, 3374, 3379, 3385, 3394, 3397, 3404, 3433, 3459, 3465, 3499, 3507, 3537, 3551, 3594, 3613, 3668, 3674, 3676, 3692, 3703, 3710, 3711, 3730, 3738, 3748, 3752, 3760, 3763, 3765, 3787, 3806, 3808, 3827, 3830, 3856, 3857, 3866, 3884, 3889, 3891, 3896, 3908, 3914, 3921, 3949, 3968, 3985, 4011, 4013, 4047, 4064, 4075, 4081, 4086, 4103, 4118, 4136, 4137, 4139, 4160, 4211, 4214, 4223, 4253, 4258, 4260, 4277, 4278, 4299, 4331, 4335, 4343, 4344, 4347, 4353, 4377, 4383, 4389, 4398, 4430, 4446, 4455, 4458, 4461, 4463, 4466, 4471, 4472, 4473, 4477, 4497, 4499, 4513, 4517, 4531, 4539, 4565, 4574, 4588, 4600, 4605, 4606, 4620, 4638, 4648, 4649, 4654, 4659, 4668, 4674, 4677, 4692, 4710, 4732, 4736, 4740, 4747, 4752, 4777, 4783, 4789, 4799, 4802, 4819, 4833, 4839, 4858, 4867, 4880, 4888, 4893, 4900, 4939, 4944, 4958, 4974, 4978, 5040, 5045, 5096, 5108, 5113, 5123, 5133, 5136, 5162, 5172, 5180, 5181, 5196, 5212, 5228, 5238, 5294, 5297, 5372, 5378, 5399, 5419, 5431, 5450, 5452, 5464, 5465, 5474, 5486, 5493, 5538, 5541, 5543, 5561, 5571, 5586, 5589, 5594, 5635, 5638, 5648, 5661, 5664, 5670, 5676, 5709, 5715, 5732, 5735, 5761, 5771, 5779, 5796, 5804, 5829, 5843, 5864, 5877, 5909, 5922, 5958, 5960, 5963, 5965, 5986, 6003, 6007, 6017, 6024, 6032, 6058, 6061, 6070, 6091, 6150, 6163, 6166, 6177, 6211, 6239, 6242, 6245, 6251, 6253, 6258, 6262, 6295, 6297, 6303, 6307, 6308, 6322, 6326, 6351, 6416, 6438, 6443, 6451, 6486, 6508, 6514, 6550, 6612, 6617, 6623, 6630, 6640, 6646, 6658, 6668, 6693, 6699, 6705, 6712, 6744, 6751, 6754, 6759, 6761, 6774, 6798, 6806, 6818, 6835, 6867, 6874, 6897, 6910, 6921, 6925, 6945, 6971, 6972, 6984, 7004, 7005, 7006, 7007, 7009, 7021, 7023, 7026, 7029, 7043, 7046, 7078, 7081, 7083, 7099, 7102, 7103, 7115, 7152, 7199, 7258, 7273, 7280, 7289, 7293, 7316, 7342, 7343, 7346, 7360, 7371, 7399, 7401, 7410, 7411, 7419, 7439, 7452, 7455, 7458, 7503, 7516, 7525, 7539, 7554, 7598, 7599, 7606, 7611, 7619, 7623, 7635, 7658, 7667, 7684, 7693, 7695, 7699, 7707, 7716, 7723, 7730, 7734, 7744, 7757, 7769, 7790, 7794, 7801, 7810, 7851, 7856, 7897, 7908, 7966, 7981, 7982, 7983, 7988, 7999, 8005, 8058, 8063, 8090, 8102, 8105, 8109, 8124, 8135, 8145, 8166, 8179, 8186, 8195, 8226, 8245, 8271, 8280, 8284, 8290, 8304, 8331, 8345, 8353, 8363, 8386, 8390, 8406, 8411, 8442, 8443, 8446, 8475, 8483, 8503, 8514, 8532, 8543, 8546, 8552, 8576, 8583, 8589, 8596, 8605, 8609, 8629, 8645, 8647, 8654, 8723, 8736, 8738, 8756, 8762, 8793, 8803, 8807, 8812, 8844, 8865, 8876, 8906, 8916, 8929, 8938, 8943, 8982, 8996, 9002, 9009, 9018, 9021, 9054, 9077, 9083, 9086, 9090, 9135, 9167, 9182, 9192, 9246, 9260, 9262, 9266, 9270, 9278, 9306, 9316, 9342, 9377, 9427, 9431, 9474, 9502, 9519, 9531, 9548, 9569, 9600, 9605, 9621, 9627, 9643, 9651, 9661, 9669, 9674, 9691, 9700, 9703, 9705, 9728, 9729, 9731, 9742, 9747, 9770, 9773, 9775, 9778, 9782, 9785, 9826, 9853, 9863, 9883, 9888, 9899, 9906, 9908, 9920, 9942, 9946, 9967, 9984, 9991, 10000, 10003, 10006, 10013, 10023, 10077, 10085, 10091, 10105, 10111, 10162, 10164, 10201, 10211, 10224, 10230, 10231, 10252, 10260, 10261, 10262, 10272, 10278, 10286, 10337, 10359, 10386, 10387, 10411, 10428, 10444, 10449, 10458, 10460, 10477, 10488, 10489, 10491, 10498, 10519, 10522, 10524, 10527, 10539, 10548, 10577, 10586, 10601, 10604, 10645, 10647, 10670, 10672, 10682, 10688, 10717, 10720, 10729, 10741, 10750, 10751, 10758, 10769, 10783, 10784, 10849, 10854, 10860, 10882, 10936, 10947, 10964, 10983, 11019, 11053, 11062, 11133, 11137, 11139, 11145, 11146, 11148, 11167, 11169, 11184, 11187, 11194, 11206, 11207, 11218, 11231, 11253, 11272, 11294, 11300, 11311, 11321, 11325, 11326, 11328, 11372, 11381, 11382, 11386, 11397, 11423, 11430, 11434, 11437, 11454, 11456, 11463, 11468, 11486, 11493, 11520, 11557, 11561, 11565, 11593, 11595, 11596, 11604, 11615, 11636, 11650, 11655, 11662, 11686, 11692, 11702, 11728, 11734, 11743, 11769, 11779, 11812, 11814, 11821, 11835, 11843, 11844, 11859, 11864, 11870, 11880, 11907, 11910, 11946, 11950, 11964, 11981, 11993, 12031, 12036, 12047, 12056, 12063, 12064, 12073, 12075, 12119, 12173, 12176, 12182, 12187, 12199, 12219, 12238, 12239, 12246, 12255, 12259, 12262, 12268, 12294, 12296, 12299, 12300, 12331, 12339, 12349, 12354, 12356, 12377, 12398, 12423, 12433, 12437, 12442, 12448, 12464, 12470, 12478, 12489, 12496, 12498, 12576, 12591, 12598, 12614, 12615, 12641, 12646, 12675, 12698, 12705, 12756, 12767, 12772, 12786, 12814, 12858, 12877, 12882, 12901, 12914, 12915, 12940, 12941, 12942, 12949, 12953, 12983, 12986, 13008, 13013, 13015, 13017, 13024, 13037, 13045, 13047, 13050, 13054, 13055, 13062, 13066, 13089, 13091, 13102, 13104, 13114, 13127, 13175, 13181, 13188, 13189, 13213, 13221, 13239, 13242, 13264, 13267, 13293, 13296, 13298, 13304, 13317, 13355, 13356, 13360, 13364, 13365, 13367, 13398, 13401, 13419, 13436, 13440, 13443, 13451, 13460, 13475, 13485, 13486, 13514, 13515, 13535, 13543, 13544, 13546, 13551, 13564, 13568, 13571, 13574, 13581, 13586, 13597, 13614, 13615, 13644, 13661, 13673, 13677, 13698, 13703, 13713, 13736, 13740, 13756, 13758, 13773, 13795, 13798, 13804, 13856, 13857, 13874, 13886, 13896, 13923, 13929, 13954, 13959, 13962, 13968, 13983, 13990, 13991, 13996, 14002, 14004, 14052, 14054, 14080, 14090, 14102, 14115, 14117, 14122, 14145, 14163, 14197, 14208, 14217, 14223, 14229, 14230, 14233, 14236, 14239, 14240, 14259, 14288, 14304, 14314, 14331, 14359, 14367, 14380, 14390, 14401, 14434, 14457, 14505, 14511, 14519, 14523, 14526, 14534, 14569, 14603, 14663, 14677, 14686, 14701, 14718, 14737, 14748, 14762, 14767, 14814, 14848, 14902, 14914, 14925, 14932, 14961, 14986, 15003, 15012, 15016, 15021, 15023, 15024, 15027, 15029, 15037, 15044, 15070, 15078, 15081, 15093, 15105, 15107, 15123, 15128, 15142, 15161, 15197, 15200, 15203, 15207, 15234, 15237, 15252, 15254, 15303, 15366, 15369, 15379, 15381, 15400, 15402, 15415, 15418, 15428, 15439, 15469, 15470, 15490, 15501, 15508, 15524, 15533, 15534, 15579, 15645, 15648, 15665, 15706, 15710, 15714, 15722, 15744, 15749, 15752, 15764, 15783, 15786, 15871, 15911, 15920, 15929, 15937, 15941, 15945, 15956, 15979, 15982, 16013, 16014, 16055, 16056, 16074, 16105, 16127, 16152, 16167, 16173, 16176, 16178, 16185, 16207, 16214, 16215, 16247, 16257, 16312, 16335, 16371, 16378, 16385, 16402, 16434, 16450, 16462, 16473, 16506, 16508, 16527, 16539, 16553, 16573, 16640, 16644, 16670, 16672, 16677, 16686, 16689, 16696, 16711, 16712, 16737, 16755, 16762, 16773, 16808, 16811, 16817, 16858, 16861, 16870, 16875, 16890, 16900, 16911, 16916, 16917, 16945, 16950, 16962, 16977, 16982, 16993, 17006, 17026, 17040, 17045, 17067, 17077, 17081, 17082, 17083, 17087, 17122, 17131, 17133, 17165, 17196, 17207, 17217, 17232, 17237, 17239, 17251, 17266, 17269, 17289, 17303, 17306, 17316, 17326, 17349, 17378, 17389, 17394, 17405, 17413, 17418, 17423, 17439, 17447, 17456, 17487, 17491, 17523, 17533, 17535, 17572, 17591, 17639, 17645, 17648, 17697, 17709, 17722, 17727, 17733, 17775, 17777, 17800, 17805, 17821, 17835, 17853, 17862, 17876, 17886, 17907, 17916, 17926, 17966, 17971, 17980, 17981, 17994, 17996, 18003, 18013, 18038, 18044, 18063, 18074, 18079, 18084, 18091, 18102, 18109, 18113, 18130, 18141, 18144, 18182, 18223, 18300, 18302, 18322, 18353, 18362, 18366, 18372, 18377, 18387, 18388, 18458, 18476, 18486, 18508, 18511, 18535, 18544, 18564, 18565, 18570, 18600, 18606, 18620, 18628, 18656, 18664, 18680, 18689, 18718, 18729, 18754, 18771, 18796, 18807, 18809, 18833, 18845, 18875, 18886, 18890, 18891, 18895, 18903, 18931, 18933, 18972, 19002, 19003, 19028, 19045, 19079, 19109, 19117, 19131, 19132, 19146, 19154, 19166, 19180, 19207, 19236, 19280, 19288, 19289, 19303, 19317, 19341, 19361, 19369, 19377, 19387, 19416, 19425, 19429, 19430, 19431, 19445, 19458, 19472, 19473, 19477, 19478, 19484, 19532, 19561, 19571, 19598, 19604, 19617, 19652, 19673, 19688, 19689, 19708, 19711, 19727, 19744, 19747, 19752, 19761, 19774, 19787, 19800, 19841, 19844, 19846, 19867, 19875, 19907, 19908, 19943, 19957, 19961, 19965, 19989, 19990, 19992, 20006, 20012, 20017, 20062, 20086, 20096, 20142, 20152, 20176, 20218, 20248, 20249, 20267, 20280, 20285, 20292, 20301, 20305, 20315, 20318, 20339, 20343, 20350, 20355, 20366, 20395, 20407, 20451, 20454, 20462, 20472, 20475, 20476, 20483, 20488, 20491, 20501, 20508, 20519, 20545, 20557, 20559, 20564, 20573, 20574, 20575, 20589, 20591, 20601, 20602, 20609, 20612, 20637, 20670, 20689, 20726, 20733, 20739, 20767, 20770, 20771, 20773, 20816, 20822, 20823, 20840, 20869, 20871, 20874, 20886, 20889, 20906, 20913, 20916, 20928, 20975, 20986, 20991, 20996, 21020, 21047, 21085, 21088, 21093, 21097, 21105, 21106, 21140, 21158, 21183, 21186, 21208, 21233, 21240, 21248, 21252, 21263, 21266, 21283, 21288, 21290, 21308, 21319, 21353, 21356, 21359, 21386, 21391, 21397, 21433, 21442, 21444, 21454, 21466, 21467, 21476, 21486, 21492, 21500, 21520, 21575, 21595, 21604, 21610, 21645, 21648, 21661, 21718, 21729, 21755, 21772, 21777, 21794, 21797, 21803, 21829, 21830, 21873, 21874, 21948, 21955, 21956, 21959, 21962, 22000, 22002, 22009, 22032, 22041, 22077, 22084, 22090, 22127, 22148, 22177, 22184, 22188, 22196, 22239, 22247, 22248, 22249, 22277, 22293, 22309, 22315, 22317, 22320, 22374, 22404, 22420, 22429, 22441, 22450, 22452, 22455, 22459, 22498, 22508, 22553, 22560, 22561, 22583, 22584, 22620, 22630, 22656, 22659, 22666, 22704, 22753, 22756, 22761, 22773, 22776, 22798, 22804, 22810, 22827, 22830, 22850, 22869, 22900, 22912, 22917, 22959, 22969, 22976, 22980, 22985, 22991, 23008, 23074, 23089, 23102, 23150, 23154, 23159, 23200, 23202, 23214, 23230, 23265, 23303, 23309, 23344, 23368, 23378, 23394, 23401, 23410, 23448, 23458, 23479, 23488, 23506, 23522, 23525, 23533, 23543, 23557, 23564, 23569, 23573, 23577, 23583, 23597, 23601, 23603, 23622, 23628, 23629, 23644, 23659, 23663, 23664, 23667, 23672, 23685, 23696, 23711, 23727, 23737, 23780, 23783, 23813, 23836, 23857, 23870, 23905, 23923, 23929, 23938, 23944, 23996, 24000, 24007, 24017, 24041, 24060, 24062, 24069, 24082, 24105, 24111, 24140, 24149, 24157, 24173, 24176, 24177, 24200, 24205, 24210, 24217, 24228, 24231, 24275, 24292, 24293, 24354, 24355, 24364, 24369, 24377, 24412, 24414, 24454, 24461, 24486, 24494, 24503, 24514, 24519, 24547, 24549, 24551, 24577, 24585, 24588, 24594, 24602, 24620, 24626, 24653, 24658, 24661, 24693, 24705, 24745, 24747, 24764, 24768, 24776, 24802, 24805, 24821, 24830, 24845, 24860, 24869, 24873, 24900, 24958, 24966, 24967, 24970, 24979, 24982, 25020, 25039, 25048, 25054, 25059, 25063, 25081, 25082, 25087, 25089, 25096, 25098, 25126, 25129, 25141, 25143, 25144, 25146, 25166, 25172, 25177, 25178, 25188, 25201, 25218, 25248, 25270, 25275, 25278, 25288, 25297, 25312, 25318, 25323, 25333, 25336, 25348, 25368, 25389, 25421, 25434, 25467, 25469, 25488, 25511, 25522, 25529, 25532, 25536, 25544, 25545, 25552, 25559, 25574, 25585, 25586, 25601, 25628, 25660, 25672, 25683, 25697, 25723, 25730, 25732, 25741, 25786, 25797, 25798, 25831, 25835, 25855, 25863, 25913, 25938, 25966, 25969, 25972, 25985, 25987, 25990, 25998, 26007, 26013, 26019, 26027, 26035, 26046, 26051, 26060, 26079, 26089, 26124, 26136, 26140, 26142, 26158, 26160, 26165, 26177, 26179, 26196, 26204, 26210, 26213, 26233, 26243, 26267, 26275, 26276, 26290, 26296, 26299, 26302, 26315, 26334, 26336, 26386, 26388, 26410, 26422, 26429, 26435, 26457, 26475, 26481, 26485, 26501, 26511, 26515, 26528, 26539, 26549, 26562, 26566, 26593, 26601, 26622, 26729, 26733, 26754, 26769, 26808, 26834, 26878, 26893, 26895, 26911, 26914, 26917, 26920, 26933, 26950, 26960, 26990, 26994, 27004, 27020, 27026, 27060, 27065, 27066, 27074, 27113, 27138, 27142, 27153, 27154, 27178, 27183, 27194, 27204, 27212, 27218, 27226, 27230, 27239, 27246, 27252, 27302, 27311, 27358, 27377, 27382, 27383, 27386, 27387, 27388, 27389, 27396, 27400, 27401, 27493, 27536, 27537, 27544, 27558, 27562, 27577, 27611, 27632, 27638, 27655, 27668, 27677, 27680, 27723, 27748, 27763, 27774, 27778, 27786, 27810, 27825, 27859, 27874, 27887, 27891, 27906, 27909, 27918, 27921, 27927, 27931, 27949, 27955, 27958, 27966, 27972, 27979, 27981, 27982, 27983, 27992, 27996, 28034, 28049, 28057, 28071, 28074, 28094, 28116, 28119, 28128, 28165, 28181, 28193, 28204, 28256, 28267, 28274, 28296, 28303, 28311, 28312, 28321, 28338, 28339, 28359, 28364, 28366, 28367, 28444, 28475, 28492, 28493, 28496, 28499, 28502, 28505, 28509, 28511, 28512, 28520, 28531, 28537, 28539, 28554, 28566, 28568, 28583, 28587, 28596, 28600, 28601, 28611, 28637, 28667, 28701, 28706, 28707, 28733, 28739, 28745, 28765, 28773, 28776, 28778, 28809, 28839, 28857, 28860, 28867, 28874, 28876, 28879, 28899, 28904, 28914, 28944, 28977, 28982, 28984, 28987, 29024, 29034, 29035, 29055, 29056, 29063, 29078, 29081, 29096, 29106, 29114, 29116, 29120, 29143, 29166, 29169, 29172, 29173, 29189, 29192, 29219, 29222, 29242, 29279, 29312, 29318, 29331, 29351, 29386, 29391, 29405, 29406, 29420, 29426, 29433, 29470, 29507, 29513, 29547, 29562, 29571, 29579, 29592, 29622, 29633, 29636, 29643, 29673, 29686, 29687, 29716, 29727, 29739, 29756, 29759, 29794, 29805, 29824, 29827, 29841, 29863, 29898, 29918, 29933, 30005, 30059, 30070, 30090, 30097, 30107, 30115, 30146, 30168, 30187, 30235, 30243, 30245, 30269, 30272, 30282, 30304, 30315, 30340, 30350, 30382, 30415, 30424, 30440, 30505, 30511, 30516, 30547, 30563, 30568, 30578, 30581, 30585, 30604, 30608, 30633, 30658, 30659, 30731, 30746, 30757, 30768, 30785, 30788, 30888, 30891, 30923, 30933, 30938, 30958, 30972, 30974, 30979, 31024, 31038, 31050, 31055, 31066, 31068, 31079, 31091, 31134, 31136, 31151, 31191, 31258, 31278, 31294, 31303, 31358, 31382, 31388, 31423, 31424, 31429, 31460, 31474, 31475, 31478, 31515, 31520, 31562, 31567, 31587, 31593, 31604, 31606, 31616, 31637, 31638, 31653, 31679, 31700, 31703, 31705, 31710, 31712, 31730, 31733, 31746, 31756, 31762, 31764, 31765, 31823, 31836, 31847, 31888, 31897, 31918, 31930, 31966, 31971, 31991, 31995, 32012, 32037, 32049, 32058, 32060, 32062, 32064, 32104, 32105, 32131, 32138, 32146, 32169, 32173, 32175, 32181, 32198, 32210, 32237, 32246, 32253, 32261, 32267, 32271, 32290, 32319, 32324, 32350, 32368, 32393, 32402, 32403, 32414, 32418, 32479, 32483, 32509, 32513, 32517, 32535, 32548, 32592, 32603, 32605, 32628, 32637, 32642, 32643, 32664, 32691, 32780, 32783, 32795, 32797, 32799, 32800, 32803, 32808, 32818, 32820, 32825, 32827, 32841, 32870, 32876, 32883, 32898, 32899, 32911, 32916, 32918, 32920, 32936, 32943, 32945, 32967, 32974, 32976, 32978, 32999, 33018, 33026, 33035, 33049, 33053, 33067, 33070, 33097, 33117, 33125, 33127, 33135, 33161, 33167, 33172, 33174, 33183, 33185, 33198, 33204, 33265, 33273, 33278, 33353, 33354, 33371, 33372, 33400, 33433, 33466, 33481, 33483, 33487, 33502, 33503, 33528, 33535, 33551, 33554, 33567, 33568, 33590, 33619, 33635, 33682, 33697, 33721, 33736, 33749, 33755, 33760, 33763, 33773, 33793, 33801, 33848, 33889, 33906, 33914, 33926, 33928, 33931, 33936, 33941, 33942, 33963, 33982, 33986, 33989, 33995, 34017, 34061, 34090, 34094, 34099, 34120, 34122, 34123, 34147, 34164, 34172, 34181, 34218, 34232, 34238, 34254, 34258, 34276, 34299, 34302, 34312, 34339, 34351, 34354, 34368, 34390, 34395, 34420, 34448, 34462, 34467, 34470, 34481, 34503, 34510, 34521, 34540, 34546, 34591, 34595, 34603, 34606, 34611, 34637, 34664, 34665, 34678, 34696, 34701, 34703, 34708, 34723, 34726, 34737, 34744, 34754, 34763, 34769, 34775, 34786, 34794, 34839, 34840, 34860, 34863, 34879, 34888, 34894, 34911, 34923, 34925, 34938, 34946, 34949, 34951, 34981, 34991, 34999, 35019, 35021, 35026, 35028, 35063, 35081, 35122, 35145, 35152, 35153, 35156, 35176, 35183, 35189, 35191, 35196, 35206, 35211, 35224, 35225, 35277, 35287, 35322, 35325, 35366, 35386, 35398, 35401, 35407, 35409, 35410, 35422, 35428, 35469, 35474, 35489, 35513, 35519, 35522, 35523, 35539, 35558, 35560, 35570, 35571, 35581, 35593, 35598, 35607, 35613, 35632, 35638, 35649, 35661, 35662, 35677, 35699, 35700, 35707, 35737, 35740, 35748, 35755, 35772, 35778, 35803, 35809, 35832, 35862, 35863, 35864, 35869, 35872, 35897, 35898, 35900, 35932, 35960, 35962, 35963, 35970, 35992, 35996, 35997, 36028, 36036, 36042, 36075, 36105, 36112, 36125, 36152, 36184, 36194, 36206, 36219, 36223, 36228, 36245, 36249, 36250, 36251, 36269, 36273, 36303, 36309, 36339, 36401, 36408, 36493, 36507, 36530, 36547, 36548, 36554, 36577, 36588, 36594, 36628, 36630, 36642, 36654, 36661, 36663, 36667, 36675, 36680, 36693, 36703, 36715, 36748, 36749, 36757, 36791, 36805, 36812, 36834, 36852, 36858, 36876, 36886, 36895, 36897, 36910, 36918, 36940, 36960, 36968, 36974, 36976, 36978, 36985, 37004, 37006, 37007, 37013, 37014, 37019, 37044, 37069, 37080, 37084, 37101, 37164, 37170, 37172, 37202, 37204, 37250, 37287, 37289, 37384, 37388, 37423, 37424, 37431, 37464, 37466, 37467, 37472, 37478, 37491, 37534, 37541, 37606, 37609, 37610, 37639, 37641, 37649, 37659, 37685, 37734, 37738, 37746, 37749, 37764, 37770, 37782, 37784, 37793, 37798, 37799, 37804, 37805, 37809, 37822, 37834, 37861, 37888, 37919, 37938, 37943, 37956, 37962, 37973, 37992, 38016, 38038, 38044, 38049, 38059, 38062, 38069, 38146, 38173, 38188, 38191, 38203, 38209, 38219, 38230, 38300, 38310, 38315, 38323, 38338, 38355, 38361, 38365, 38377, 38380, 38401, 38438, 38473, 38478, 38490, 38492, 38493, 38506, 38510, 38553, 38562, 38585, 38587, 38605, 38610, 38613, 38622, 38635, 38640, 38648, 38652, 38667, 38681, 38683, 38695, 38696, 38706, 38710, 38711, 38718, 38732, 38742, 38765, 38785, 38787, 38788, 38800, 38802, 38815, 38827, 38839, 38848, 38861, 38870, 38892, 38902, 38910, 38929, 38955, 38983, 38990, 39011, 39012, 39022, 39057, 39092, 39114, 39122, 39131, 39133, 39136, 39190, 39199, 39228, 39230, 39255, 39301, 39308, 39325, 39338, 39339, 39362, 39368, 39373, 39391, 39400, 39431, 39446, 39459, 39465, 39493, 39497, 39510, 39511, 39524, 39561, 39599, 39633, 39635, 39643, 39654, 39658, 39714, 39724, 39731, 39760, 39811, 39816, 39819, 39821, 39831, 39868, 39871, 39874, 39875, 39894, 39907, 39916, 39930, 39983, 39985, 39987, 40011, 40021, 40028, 40056, 40060, 40073, 40086, 40109, 40157, 40179, 40189, 40204, 40263, 40268, 40275, 40334, 40338, 40342, 40352, 40364, 40410, 40425, 40426, 40433, 40441, 40444, 40447, 40474, 40485, 40498, 40505, 40506, 40507, 40554, 40578, 40595, 40605, 40609, 40626, 40630, 40645, 40659, 40675, 40678, 40688, 40694, 40705, 40709, 40724, 40744, 40747, 40766, 40769, 40790, 40841, 40848, 40853, 40858, 40863, 40873, 40877, 40898, 40911, 40926, 40941, 40947, 40954, 40965, 40975, 40976, 41008, 41029, 41049, 41082, 41084, 41085, 41110, 41131, 41147, 41151, 41166, 41177, 41186, 41210, 41216, 41220, 41229, 41238, 41251, 41259, 41262, 41274, 41280, 41282, 41314, 41316, 41335, 41339, 41367, 41370, 41395, 41399, 41410, 41432, 41464, 41500, 41528, 41531, 41546, 41547, 41593, 41614, 41649, 41665, 41680, 41683, 41694, 41709, 41717, 41729, 41732, 41741, 41753, 41786, 41809, 41811, 41823, 41841, 41846, 41858, 41872, 41882, 41892, 41899, 41904, 41906, 41912, 41924, 41969, 41979, 41982, 41994, 41997, 42029, 42035, 42042, 42048, 42106, 42109, 42110, 42117, 42123, 42140, 42141, 42173, 42174, 42199, 42205, 42216, 42246, 42253, 42255, 42279, 42284, 42304, 42319, 42363, 42371, 42424, 42452, 42457, 42469, 42471, 42533, 42556, 42561, 42603, 42606, 42630, 42632, 42642, 42645, 42650, 42665, 42674, 42682, 42683, 42686, 42698, 42714, 42740, 42749, 42756, 42764, 42778, 42785, 42801, 42815, 42823, 42835, 42867, 42869, 42900, 42919, 42924, 42939, 42959, 42969, 42971, 42975, 42988, 43019, 43043, 43060, 43066, 43089, 43102, 43118, 43126, 43132, 43154, 43179, 43200, 43208, 43213, 43236, 43253, 43267, 43276, 43292, 43302, 43323, 43329, 43346, 43348, 43353, 43358, 43398, 43406, 43414, 43417, 43419, 43425, 43439, 43469, 43470, 43488, 43498, 43509, 43512, 43515, 43536, 43545, 43574, 43580, 43587, 43618, 43619, 43635, 43636, 43638, 43670, 43677, 43679, 43684, 43692, 43693, 43713, 43721, 43739, 43747, 43766, 43783, 43803, 43819, 43849, 43854, 43868, 43881, 43888, 43894, 43910, 43912, 43956, 43992, 44018, 44054, 44074, 44080, 44110, 44114, 44129, 44149, 44162, 44188, 44191, 44199, 44202, 44227, 44230, 44244, 44259, 44264, 44278, 44285, 44289, 44299, 44301, 44331, 44354, 44367, 44369, 44376, 44381, 44404, 44431, 44439, 44466, 44472, 44486, 44505, 44506, 44513, 44515, 44516, 44539, 44554, 44558, 44564, 44575, 44583, 44584, 44586, 44633, 44637, 44659, 44666, 44695, 44719, 44741, 44743, 44746, 44754, 44757, 44759, 44771, 44798, 44809, 44813, 44818, 44832, 44839, 44858, 44880, 44883, 44894, 44898, 44912, 44933, 44964, 44965, 44968, 44975, 44985, 44989, 44992, 45005, 45020, 45026, 45028, 45082, 45097, 45099, 45100, 45110, 45139, 45151, 45158, 45162, 45182, 45195, 45210, 45264, 45275, 45298, 45318, 45322, 45348, 45369, 45392, 45414, 45445, 45448, 45453, 45457, 45459, 45478, 45487, 45517, 45530, 45531, 45538, 45551, 45595, 45600, 45605, 45622, 45658, 45671, 45694, 45698, 45712, 45733, 45747, 45753, 45759, 45774, 45780, 45794, 45817, 45833, 45852, 45858, 45893, 45899, 45908, 45920, 45941, 45977, 45983, 45984, 46004, 46009, 46017, 46018, 46019, 46021, 46042, 46075, 46087, 46095, 46096, 46100, 46122, 46128, 46159, 46170, 46198, 46211, 46218, 46222, 46223, 46242, 46255, 46272, 46273, 46279, 46300, 46303, 46331, 46346, 46351, 46354, 46429, 46435, 46438, 46444, 46457, 46463, 46498, 46516, 46520, 46533, 46534, 46536, 46539, 46563, 46569, 46578, 46587, 46605, 46615, 46631, 46632, 46637, 46649, 46652, 46654, 46659, 46705, 46714, 46737, 46740, 46753, 46758, 46760, 46771, 46790, 46795, 46806, 46808, 46872, 46873, 46877, 46909, 46917, 46938, 46965, 46981, 47002, 47012, 47019, 47053, 47058, 47098, 47104, 47109, 47123, 47130, 47132, 47141, 47149, 47174, 47191, 47201, 47216, 47221, 47230, 47238, 47246, 47276, 47292, 47306, 47313, 47333, 47346, 47349, 47359, 47366, 47387, 47421, 47438, 47444, 47457, 47460, 47465, 47473, 47486, 47490, 47499, 47509, 47514, 47520, 47539, 47547, 47582, 47588, 47592, 47602, 47604, 47611, 47613, 47637, 47671, 47674, 47678, 47684, 47687, 47702, 47713, 47715, 47744, 47760, 47773, 47804, 47827, 47832, 47847, 47856, 47865, 47873, 47882, 47891, 47897, 47911, 47927, 47936, 47948, 47952, 47955, 47967, 48001, 48005, 48035, 48049, 48093, 48113, 48125, 48126, 48174, 48222, 48241, 48245, 48251, 48254, 48271, 48280, 48290, 48360, 48364, 48388, 48406, 48419, 48422, 48424, 48443, 48451, 48454, 48477, 48520, 48521, 48537, 48590, 48634, 48638, 48669, 48677, 48683, 48703, 48713, 48716, 48722, 48736, 48752, 48757, 48760, 48764, 48774, 48784, 48798, 48816, 48828, 48835, 48836, 48883, 48896, 48898, 48907, 48908, 48917, 48922, 48931, 48944, 48963, 48980, 48986, 48993, 48994, 48996, 49004, 49016, 49026, 49048, 49054, 49084, 49093, 49109, 49117, 49118, 49144, 49213, 49218, 49230, 49244, 49247, 49281, 49292, 49297, 49298, 49312, 49315, 49337, 49396, 49399, 49401, 49414, 49432, 49443, 49493, 49504, 49510, 49520, 49524, 49532, 49565, 49580, 49590, 49621, 49625, 49660, 49672, 49691, 49693, 49712, 49718, 49729, 49733, 49742, 49756, 49760, 49804, 49808, 49816, 49845, 49856, 49905, 49907, 49917, 49920, 49934, 49935, 49941, 49967, 11, 15, 26, 31, 34, 35, 54, 77, 116, 124, 132, 134, 146, 147, 159, 171, 192, 232, 233, 243, 251, 256, 266, 267, 273, 309, 313, 314, 354, 357, 376, 387, 443, 449, 455, 467, 498, 503, 510, 511, 538, 540, 542, 552, 568, 597, 616, 660, 665, 688, 690, 717, 728, 737, 738, 758, 790, 796, 797, 798, 799, 872, 881, 887, 958, 960, 964, 966, 1022, 1051, 1052, 1060, 1088, 1127, 1147, 1181, 1185, 1194, 1206, 1220, 1232, 1245, 1260, 1276, 1312, 1314, 1316, 1335, 1397, 1404, 1415, 1421, 1431, 1432, 1441, 1483, 1493, 1515, 1519, 1542, 1546, 1550, 1551, 1561, 1587, 1595, 1619, 1623, 1637, 1681, 1704, 1707, 1734, 1746, 1751, 1762, 1779, 1783, 1823, 1828, 1842, 1846, 1847, 1849, 1868, 1912, 1949, 1955, 1989, 2000, 2011, 2039, 2047, 2048, 2070, 2084, 2107, 2143, 2147, 2172, 2173, 2182, 2228, 2283, 2344, 2346, 2359, 2366, 2382, 2405, 2414, 2423, 2432, 2441, 2447, 2448, 2454, 2455, 2519, 2521, 2542, 2576, 2602, 2607, 2611, 2614, 2634, 2646, 2696, 2722, 2747, 2748, 2799, 2813, 2824, 2834, 2853, 2881, 2885, 2897, 2912, 2914, 2919, 2938, 2960, 2964, 2974, 2999, 3008, 3017, 3058, 3110, 3126, 3128, 3133, 3149, 3165, 3167, 3168, 3194, 3235, 3273, 3290, 3308, 3337, 3339, 3357, 3360, 3361, 3368, 3372, 3374, 3386, 3394, 3433, 3465, 3475, 3486, 3497, 3505, 3507, 3520, 3534, 3537, 3543, 3564, 3587, 3620, 3645, 3703, 3704, 3711, 3715, 3752, 3760, 3763, 3765, 3780, 3806, 3827, 3830, 3863, 3866, 3884, 3889, 3891, 3896, 3908, 3914, 3922, 3969, 3971, 3989, 3993, 4039, 4047, 4056, 4086, 4118, 4214, 4253, 4260, 4277, 4278, 4291, 4299, 4313, 4335, 4344, 4347, 4353, 4357, 4360, 4430, 4455, 4458, 4461, 4471, 4473, 4477, 4499, 4513, 4565, 4567, 4574, 4591, 4600, 4606, 4648, 4649, 4654, 4659, 4668, 4692, 4706, 4712, 4740, 4741, 4752, 4755, 4777, 4783, 4787, 4789, 4799, 4800, 4810, 4814, 4819, 4858, 4880, 4888, 4893, 4900, 4931, 4947, 4958, 5044, 5045, 5102, 5123, 5136, 5140, 5150, 5162, 5168, 5172, 5196, 5212, 5228, 5238, 5241, 5269, 5316, 5356, 5360, 5372, 5399, 5403, 5412, 5464, 5465, 5474, 5486, 5522, 5538, 5541, 5561, 5571, 5586, 5589, 5609, 5629, 5635, 5641, 5648, 5661, 5664, 5676, 5723, 5738, 5770, 5771, 5779, 5795, 5796, 5877, 5909, 5922, 5957, 5960, 5965, 5986, 5989, 6005, 6007, 6024, 6058, 6061, 6087, 6091, 6095, 6099, 6119, 6143, 6150, 6151, 6177, 6233, 6239, 6242, 6247, 6251, 6258, 6273, 6297, 6326, 6343, 6360, 6384, 6416, 6493, 6508, 6511, 6524, 6572, 6623, 6630, 6646, 6658, 6664, 6677, 6705, 6729, 6744, 6759, 6761, 6798, 6818, 6820, 6860, 6867, 6874, 6886, 6910, 6930, 6943, 6947, 6952, 6971, 6984, 7004, 7009, 7014, 7021, 7023, 7026, 7043, 7049, 7078, 7099, 7102, 7129, 7199, 7280, 7282, 7293, 7316, 7360, 7368, 7371, 7372, 7401, 7404, 7407, 7410, 7411, 7419, 7433, 7452, 7458, 7525, 7539, 7596, 7598, 7635, 7652, 7667, 7684, 7695, 7699, 7707, 7723, 7734, 7744, 7749, 7750, 7757, 7765, 7769, 7777, 7785, 7794, 7804, 7810, 7851, 7897, 7922, 7924, 7926, 7940, 7979, 7982, 7988, 8063, 8090, 8096, 8105, 8109, 8119, 8127, 8135, 8140, 8176, 8210, 8239, 8245, 8271, 8280, 8331, 8334, 8345, 8347, 8353, 8390, 8406, 8418, 8442, 8443, 8446, 8475, 8483, 8495, 8503, 8535, 8537, 8543, 8552, 8566, 8583, 8584, 8589, 8605, 8609, 8618, 8629, 8637, 8643, 8645, 8647, 8654, 8723, 8736, 8738, 8762, 8793, 8803, 8810, 8840, 8844, 8868, 8878, 8882, 8885, 8916, 8924, 8946, 8958, 8962, 8981, 8982, 9002, 9009, 9013, 9015, 9026, 9054, 9068, 9084, 9090, 9140, 9209, 9236, 9246, 9266, 9270, 9294, 9306, 9312, 9321, 9342, 9375, 9377, 9474, 9477, 9502, 9516, 9533, 9548, 9551, 9558, 9576, 9600, 9605, 9621, 9661, 9667, 9669, 9674, 9675, 9728, 9729, 9741, 9742, 9747, 9769, 9778, 9782, 9785, 9791, 9826, 9844, 9853, 9863, 9888, 9899, 9901, 9906, 9910, 9950, 9959, 9991, 10000, 10006, 10015, 10020, 10047, 10055, 10085, 10091, 10162, 10173, 10211, 10260, 10261, 10262, 10267, 10278, 10357, 10359, 10363, 10386, 10387, 10406, 10411, 10444, 10449, 10458, 10477, 10488, 10489, 10491, 10498, 10506, 10508, 10510, 10545, 10548, 10586, 10604, 10647, 10665, 10672, 10680, 10688, 10719, 10783, 10811, 10846, 10883, 10898, 10947, 10960, 10964, 10983, 10991, 11004, 11019, 11044, 11062, 11079, 11118, 11137, 11146, 11187, 11189, 11193, 11194, 11206, 11218, 11231, 11280, 11285, 11300, 11309, 11321, 11326, 11328, 11366, 11382, 11431, 11443, 11454, 11463, 11468, 11475, 11480, 11482, 11486, 11488, 11520, 11565, 11592, 11593, 11595, 11596, 11614, 11640, 11645, 11650, 11655, 11662, 11686, 11692, 11708, 11734, 11740, 11756, 11774, 11801, 11820, 11843, 11844, 11859, 11907, 11964, 11981, 12015, 12020, 12031, 12036, 12047, 12063, 12080, 12132, 12139, 12173, 12176, 12228, 12246, 12283, 12294, 12296, 12300, 12331, 12333, 12349, 12384, 12395, 12397, 12398, 12433, 12470, 12478, 12489, 12498, 12522, 12533, 12566, 12598, 12604, 12620, 12635, 12641, 12655, 12656, 12659, 12675, 12698, 12705, 12717, 12721, 12728, 12743, 12756, 12786, 12804, 12814, 12865, 12877, 12882, 12907, 12914, 12940, 12941, 12942, 12953, 12983, 12986, 12988, 12998, 13008, 13013, 13015, 13017, 13037, 13045, 13050, 13054, 13062, 13079, 13089, 13091, 13102, 13104, 13114, 13155, 13175, 13181, 13184, 13213, 13221, 13232, 13239, 13264, 13277, 13298, 13304, 13355, 13365, 13367, 13378, 13401, 13405, 13409, 13419, 13431, 13451, 13475, 13486, 13506, 13514, 13535, 13544, 13566, 13568, 13586, 13603, 13622, 13625, 13637, 13638, 13666, 13677, 13679, 13707, 13713, 13736, 13745, 13758, 13775, 13782, 13798, 13804, 13807, 13824, 13851, 13856, 13857, 13886, 13890, 13929, 13954, 13957, 13959, 13983, 13992, 14002, 14004, 14054, 14069, 14090, 14102, 14115, 14117, 14145, 14160, 14197, 14208, 14223, 14224, 14229, 14233, 14235, 14239, 14257, 14259, 14291, 14304, 14331, 14357, 14367, 14368, 14380, 14385, 14412, 14421, 14495, 14521, 14523, 14526, 14534, 14536, 14620, 14643, 14698, 14701, 14712, 14737, 14748, 14762, 14814, 14819, 14897, 14919, 14924, 14925, 14933, 14974, 14986, 14987, 15012, 15016, 15024, 15027, 15034, 15037, 15041, 15044, 15085, 15091, 15093, 15178, 15203, 15207, 15235, 15252, 15257, 15263, 15265, 15296, 15300, 15301, 15303, 15340, 15366, 15379, 15381, 15397, 15400, 15402, 15418, 15428, 15490, 15648, 15665, 15687, 15699, 15712, 15715, 15764, 15770, 15808, 15809, 15820, 15843, 15867, 15887, 15896, 15901, 15906, 15911, 15920, 15929, 15937, 15956, 15963, 15966, 16009, 16014, 16056, 16070, 16074, 16091, 16127, 16166, 16185, 16216, 16220, 16225, 16301, 16312, 16335, 16350, 16378, 16385, 16402, 16422, 16438, 16441, 16450, 16500, 16506, 16533, 16537, 16539, 16553, 16593, 16640, 16670, 16672, 16679, 16689, 16712, 16737, 16755, 16762, 16793, 16802, 16808, 16875, 16888, 16890, 16892, 16900, 16911, 16916, 16917, 16932, 16945, 16962, 16977, 16980, 16982, 16993, 17006, 17039, 17045, 17067, 17082, 17131, 17165, 17176, 17178, 17193, 17200, 17201, 17207, 17217, 17232, 17242, 17251, 17253, 17286, 17303, 17306, 17318, 17322, 17405, 17418, 17426, 17447, 17479, 17507, 17519, 17523, 17526, 17529, 17535, 17572, 17591, 17627, 17639, 17645, 17683, 17693, 17710, 17722, 17733, 17736, 17762, 17775, 17777, 17800, 17811, 17861, 17862, 17866, 17878, 17897, 17925, 17930, 17966, 17971, 17981, 17994, 18003, 18010, 18025, 18038, 18063, 18079, 18084, 18091, 18102, 18143, 18144, 18148, 18150, 18152, 18169, 18172, 18182, 18300, 18322, 18353, 18366, 18372, 18377, 18388, 18396, 18411, 18447, 18458, 18508, 18511, 18561, 18564, 18565, 18570, 18600, 18606, 18680, 18682, 18771, 18775, 18796, 18809, 18845, 18890, 18895, 18924, 18931, 18933, 18955, 18965, 18972, 18992, 19002, 19045, 19051, 19059, 19079, 19120, 19131, 19132, 19146, 19149, 19154, 19166, 19172, 19180, 19184, 19236, 19247, 19260, 19264, 19280, 19289, 19312, 19352, 19355, 19410, 19424, 19430, 19458, 19472, 19484, 19487, 19504, 19516, 19521, 19532, 19539, 19561, 19563, 19571, 19574, 19688, 19708, 19711, 19722, 19744, 19752, 19761, 19774, 19787, 19794, 19800, 19804, 19822, 19838, 19846, 19864, 19920, 19933, 19945, 19952, 19957, 19965, 19966, 19989, 19996, 20006, 20020, 20062, 20072, 20124, 20142, 20150, 20176, 20204, 20218, 20248, 20249, 20250, 20272, 20305, 20315, 20318, 20345, 20352, 20355, 20359, 20362, 20364, 20370, 20392, 20395, 20401, 20407, 20449, 20451, 20475, 20488, 20491, 20501, 20508, 20519, 20545, 20557, 20559, 20564, 20574, 20588, 20589, 20591, 20592, 20601, 20602, 20608, 20625, 20670, 20689, 20717, 20726, 20733, 20739, 20773, 20785, 20822, 20871, 20886, 20887, 20889, 20906, 20913, 20916, 20923, 20928, 20960, 20994, 20996, 21020, 21044, 21065, 21085, 21090, 21140, 21158, 21186, 21193, 21208, 21228, 21240, 21248, 21252, 21263, 21266, 21278, 21283, 21288, 21308, 21353, 21386, 21397, 21398, 21415, 21422, 21433, 21442, 21444, 21449, 21454, 21500, 21510, 21520, 21582, 21588, 21595, 21610, 21661, 21689, 21709, 21729, 21741, 21772, 21777, 21829, 21830, 21874, 21946, 21948, 21955, 21956, 21959, 21966, 22002, 22016, 22029, 22050, 22069, 22077, 22085, 22090, 22115, 22127, 22129, 22148, 22159, 22169, 22172, 22177, 22188, 22192, 22196, 22233, 22247, 22248, 22249, 22275, 22277, 22293, 22300, 22320, 22323, 22329, 22339, 22374, 22391, 22418, 22420, 22429, 22436, 22451, 22452, 22455, 22460, 22468, 22498, 22521, 22538, 22553, 22560, 22562, 22583, 22590, 22630, 22656, 22659, 22666, 22697, 22704, 22756, 22776, 22798, 22827, 22830, 22850, 22889, 22896, 22900, 22902, 22912, 22916, 22917, 22922, 22931, 22965, 22969, 22976, 22980, 23008, 23054, 23059, 23064, 23071, 23074, 23089, 23102, 23150, 23154, 23174, 23186, 23199, 23200, 23225, 23230, 23247, 23260, 23303, 23309, 23317, 23341, 23360, 23368, 23373, 23378, 23385, 23411, 23431, 23440, 23458, 23479, 23498, 23506, 23553, 23556, 23557, 23564, 23569, 23594, 23598, 23601, 23642, 23644, 23646, 23655, 23659, 23663, 23672, 23682, 23685, 23696, 23700, 23737, 23783, 23798, 23813, 23822, 23825, 23836, 23923, 23938, 23944, 23957, 23996, 24017, 24060, 24069, 24082, 24105, 24111, 24125, 24155, 24157, 24173, 24177, 24214, 24220, 24228, 24271, 24275, 24285, 24299, 24315, 24355, 24375, 24377, 24412, 24414, 24434, 24447, 24461, 24474, 24486, 24503, 24514, 24519, 24549, 24551, 24560, 24594, 24598, 24602, 24620, 24626, 24627, 24632, 24633, 24647, 24651, 24658, 24661, 24662, 24693, 24699, 24700, 24710, 24744, 24755, 24768, 24770, 24810, 24830, 24853, 24876, 24899, 24909, 24935, 24956, 24966, 24967, 24994, 25048, 25054, 25063, 25081, 25082, 25087, 25090, 25093, 25109, 25126, 25129, 25144, 25146, 25172, 25178, 25188, 25237, 25238, 25282, 25283, 25288, 25297, 25312, 25323, 25333, 25337, 25344, 25348, 25363, 25380, 25384, 25412, 25421, 25434, 25444, 25467, 25486, 25488, 25508, 25511, 25529, 25536, 25541, 25544, 25552, 25566, 25654, 25660, 25683, 25697, 25723, 25725, 25731, 25732, 25741, 25774, 25808, 25831, 25835, 25863, 25880, 25913, 25938, 25966, 25969, 25972, 25990, 25998, 26013, 26035, 26060, 26075, 26079, 26097, 26140, 26151, 26158, 26160, 26165, 26168, 26175, 26177, 26196, 26204, 26213, 26226, 26239, 26243, 26267, 26275, 26276, 26288, 26302, 26312, 26315, 26334, 26336, 26351, 26394, 26422, 26429, 26435, 26465, 26501, 26511, 26515, 26516, 26564, 26566, 26601, 26622, 26714, 26754, 26759, 26781, 26784, 26788, 26808, 26840, 26878, 26879, 26895, 26920, 26937, 26946, 26992, 26994, 27004, 27026, 27065, 27074, 27075, 27111, 27113, 27138, 27153, 27154, 27188, 27202, 27204, 27226, 27230, 27246, 27257, 27345, 27356, 27358, 27364, 27383, 27386, 27387, 27392, 27477, 27493, 27537, 27544, 27551, 27558, 27593, 27613, 27632, 27660, 27695, 27732, 27748, 27774, 27776, 27785, 27786, 27836, 27875, 27887, 27890, 27909, 27915, 27920, 27928, 27949, 27955, 27966, 27972, 27995, 27996, 28008, 28009, 28049, 28057, 28061, 28071, 28074, 28119, 28128, 28136, 28138, 28165, 28172, 28204, 28210, 28211, 28256, 28267, 28274, 28276, 28290, 28301, 28305, 28321, 28339, 28347, 28359, 28366, 28373, 28411, 28414, 28433, 28444, 28447, 28475, 28492, 28505, 28512, 28520, 28537, 28566, 28583, 28600, 28611, 28629, 28667, 28680, 28707, 28715, 28737, 28745, 28783, 28809, 28814, 28839, 28857, 28860, 28867, 28876, 28885, 28914, 28944, 28970, 28977, 29029, 29034, 29035, 29063, 29078, 29087, 29106, 29114, 29116, 29120, 29133, 29139, 29166, 29169, 29172, 29189, 29219, 29222, 29242, 29245, 29260, 29278, 29279, 29290, 29318, 29351, 29385, 29386, 29391, 29405, 29430, 29433, 29440, 29448, 29449, 29547, 29562, 29584, 29592, 29633, 29636, 29673, 29687, 29690, 29759, 29762, 29800, 29824, 29827, 29846, 29900, 29902, 29933, 29969, 29987, 30033, 30059, 30066, 30069, 30090, 30097, 30115, 30137, 30141, 30146, 30153, 30159, 30168, 30186, 30187, 30245, 30258, 30269, 30282, 30285, 30315, 30340, 30341, 30350, 30359, 30380, 30382, 30386, 30424, 30426, 30477, 30505, 30516, 30563, 30568, 30578, 30581, 30585, 30595, 30604, 30608, 30618, 30631, 30633, 30647, 30648, 30658, 30659, 30682, 30697, 30728, 30737, 30746, 30765, 30785, 30843, 30902, 30933, 30948, 30954, 30974, 30979, 30985, 31019, 31030, 31038, 31039, 31050, 31055, 31068, 31081, 31094, 31108, 31129, 31190, 31197, 31203, 31209, 31222, 31236, 31258, 31262, 31292, 31294, 31358, 31364, 31374, 31388, 31396, 31421, 31424, 31435, 31460, 31521, 31542, 31562, 31567, 31572, 31587, 31593, 31595, 31623, 31637, 31638, 31639, 31679, 31686, 31697, 31700, 31703, 31705, 31710, 31721, 31730, 31748, 31750, 31762, 31764, 31806, 31823, 31827, 31836, 31847, 31888, 31897, 31914, 31917, 31930, 31942, 31962, 31971, 31981, 31991, 31995, 32031, 32049, 32058, 32079, 32121, 32173, 32181, 32198, 32199, 32203, 32210, 32215, 32228, 32246, 32253, 32261, 32271, 32274, 32310, 32316, 32324, 32350, 32367, 32368, 32382, 32394, 32401, 32402, 32411, 32414, 32421, 32439, 32444, 32459, 32465, 32467, 32483, 32513, 32548, 32592, 32605, 32608, 32612, 32616, 32628, 32637, 32642, 32664, 32772, 32782, 32799, 32808, 32818, 32825, 32827, 32841, 32850, 32860, 32870, 32875, 32876, 32890, 32898, 32899, 32911, 32915, 32916, 32918, 32920, 32945, 32947, 32967, 32974, 32976, 33018, 33026, 33035, 33042, 33045, 33053, 33067, 33117, 33125, 33135, 33150, 33161, 33172, 33174, 33184, 33204, 33205, 33211, 33223, 33265, 33273, 33298, 33310, 33371, 33392, 33400, 33422, 33442, 33458, 33464, 33483, 33487, 33500, 33502, 33503, 33535, 33551, 33554, 33567, 33568, 33619, 33635, 33640, 33641, 33675, 33677, 33735, 33736, 33750, 33760, 33773, 33789, 33799, 33821, 33844, 33845, 33861, 33886, 33888, 33889, 33913, 33914, 33931, 33940, 33941, 33963, 33995, 34017, 34021, 34034, 34061, 34088, 34094, 34164, 34172, 34173, 34232, 34255, 34258, 34299, 34316, 34334, 34339, 34354, 34358, 34365, 34390, 34395, 34426, 34462, 34470, 34503, 34509, 34523, 34527, 34546, 34591, 34603, 34606, 34611, 34623, 34635, 34644, 34664, 34678, 34701, 34708, 34726, 34737, 34744, 34754, 34763, 34770, 34772, 34775, 34814, 34837, 34852, 34860, 34863, 34870, 34893, 34895, 34902, 34911, 34917, 34923, 34934, 34938, 34946, 34992, 34999, 35019, 35021, 35022, 35063, 35071, 35081, 35099, 35107, 35122, 35170, 35206, 35211, 35225, 35246, 35260, 35268, 35287, 35305, 35322, 35386, 35401, 35407, 35418, 35489, 35513, 35522, 35523, 35570, 35571, 35581, 35593, 35603, 35617, 35632, 35638, 35661, 35672, 35740, 35744, 35746, 35748, 35751, 35755, 35772, 35803, 35824, 35828, 35835, 35864, 35872, 35897, 35920, 35932, 35956, 35960, 35981, 35992, 36015, 36028, 36036, 36052, 36075, 36097, 36105, 36152, 36173, 36174, 36181, 36206, 36219, 36228, 36246, 36249, 36250, 36251, 36253, 36273, 36309, 36318, 36351, 36388, 36396, 36408, 36493, 36507, 36515, 36530, 36531, 36559, 36577, 36594, 36602, 36628, 36630, 36650, 36661, 36663, 36667, 36680, 36693, 36716, 36717, 36718, 36737, 36749, 36760, 36764, 36791, 36799, 36805, 36819, 36834, 36852, 36860, 36866, 36876, 36895, 36897, 36906, 36909, 36918, 36934, 36940, 36949, 36960, 36964, 36968, 36974, 36976, 36978, 36985, 37004, 37006, 37014, 37018, 37026, 37044, 37084, 37092, 37146, 37154, 37162, 37164, 37172, 37287, 37297, 37298, 37300, 37309, 37310, 37320, 37321, 37384, 37388, 37392, 37423, 37424, 37467, 37472, 37499, 37510, 37529, 37534, 37537, 37549, 37592, 37609, 37610, 37655, 37661, 37680, 37731, 37741, 37749, 37770, 37777, 37782, 37784, 37798, 37804, 37809, 37834, 37847, 37853, 37861, 37862, 37875, 37882, 37888, 37938, 37943, 37949, 37956, 37958, 37964, 37996, 38038, 38059, 38074, 38145, 38173, 38191, 38209, 38230, 38300, 38310, 38315, 38336, 38338, 38342, 38380, 38397, 38401, 38411, 38428, 38432, 38442, 38455, 38464, 38469, 38484, 38492, 38493, 38510, 38519, 38553, 38562, 38585, 38587, 38588, 38604, 38615, 38633, 38635, 38652, 38654, 38673, 38675, 38683, 38690, 38706, 38732, 38765, 38785, 38787, 38804, 38815, 38824, 38827, 38839, 38855, 38888, 38892, 38895, 38896, 38902, 38910, 38929, 38936, 38955, 38990, 39000, 39012, 39022, 39057, 39076, 39086, 39114, 39136, 39140, 39181, 39184, 39187, 39266, 39296, 39308, 39325, 39338, 39339, 39349, 39368, 39378, 39381, 39391, 39407, 39420, 39446, 39449, 39458, 39465, 39479, 39493, 39510, 39530, 39544, 39561, 39572, 39635, 39643, 39649, 39654, 39658, 39691, 39696, 39724, 39731, 39732, 39757, 39794, 39811, 39819, 39831, 39835, 39868, 39871, 39874, 39879, 39885, 39890, 39916, 39940, 39965, 39972, 39983, 39987, 40006, 40039, 40054, 40109, 40179, 40182, 40189, 40190, 40258, 40263, 40305, 40319, 40338, 40352, 40364, 40367, 40384, 40393, 40399, 40418, 40425, 40433, 40441, 40485, 40506, 40507, 40554, 40566, 40578, 40595, 40609, 40614, 40626, 40630, 40632, 40656, 40675, 40688, 40692, 40705, 40724, 40737, 40750, 40790, 40804, 40837, 40845, 40858, 40873, 40877, 40879, 40890, 40896, 40898, 40911, 40926, 40941, 40954, 41023, 41024, 41036, 41057, 41064, 41084, 41085, 41100, 41131, 41135, 41144, 41177, 41188, 41251, 41259, 41280, 41301, 41329, 41335, 41346, 41360, 41367, 41399, 41404, 41410, 41432, 41468, 41515, 41528, 41531, 41546, 41593, 41614, 41709, 41725, 41753, 41766, 41768, 41809, 41815, 41839, 41841, 41846, 41872, 41876, 41882, 41897, 41899, 41924, 41969, 41979, 41984, 41995, 41997, 42005, 42029, 42042, 42044, 42048, 42110, 42123, 42130, 42141, 42199, 42205, 42232, 42255, 42282, 42302, 42338, 42363, 42371, 42424, 42450, 42452, 42515, 42530, 42533, 42556, 42561, 42606, 42621, 42623, 42630, 42636, 42650, 42665, 42675, 42681, 42683, 42686, 42698, 42713, 42714, 42728, 42736, 42749, 42783, 42795, 42814, 42835, 42869, 42891, 42900, 42924, 42933, 42936, 42975, 42988, 43010, 43023, 43030, 43043, 43066, 43102, 43118, 43121, 43126, 43142, 43159, 43196, 43208, 43214, 43245, 43271, 43276, 43292, 43316, 43340, 43344, 43346, 43373, 43406, 43417, 43419, 43425, 43439, 43469, 43483, 43509, 43512, 43517, 43519, 43522, 43534, 43535, 43545, 43561, 43566, 43574, 43587, 43682, 43693, 43739, 43747, 43758, 43761, 43771, 43783, 43797, 43803, 43807, 43820, 43839, 43851, 43898, 43910, 43917, 43959, 43982, 44018, 44031, 44032, 44037, 44054, 44066, 44080, 44112, 44149, 44164, 44168, 44191, 44199, 44202, 44230, 44231, 44255, 44259, 44264, 44278, 44289, 44299, 44301, 44343, 44353, 44354, 44356, 44367, 44404, 44417, 44419, 44422, 44439, 44466, 44472, 44473, 44513, 44516, 44519, 44539, 44548, 44554, 44558, 44564, 44574, 44575, 44603, 44604, 44637, 44640, 44652, 44659, 44666, 44675, 44713, 44719, 44741, 44743, 44754, 44762, 44790, 44791, 44794, 44798, 44809, 44818, 44839, 44858, 44876, 44883, 44897, 44898, 44899, 44917, 44961, 44971, 44975, 44989, 45016, 45026, 45072, 45081, 45097, 45127, 45139, 45151, 45158, 45162, 45195, 45237, 45264, 45265, 45295, 45318, 45369, 45392, 45409, 45414, 45421, 45429, 45459, 45468, 45470, 45476, 45479, 45505, 45530, 45531, 45543, 45545, 45551, 45563, 45595, 45600, 45630, 45658, 45684, 45686, 45687, 45722, 45733, 45739, 45759, 45780, 45794, 45796, 45858, 45893, 45908, 45913, 45920, 45932, 45941, 45966, 45977, 45983, 45984, 46009, 46017, 46018, 46021, 46042, 46075, 46087, 46095, 46100, 46113, 46122, 46128, 46140, 46159, 46167, 46170, 46176, 46182, 46198, 46211, 46218, 46223, 46242, 46255, 46272, 46279, 46286, 46300, 46303, 46351, 46354, 46364, 46370, 46384, 46389, 46416, 46435, 46457, 46463, 46467, 46482, 46498, 46520, 46533, 46534, 46536, 46537, 46554, 46574, 46595, 46607, 46631, 46637, 46654, 46659, 46705, 46714, 46718, 46753, 46758, 46760, 46767, 46771, 46790, 46806, 46808, 46867, 46873, 46890, 46909, 46927, 46941, 46950, 46955, 46964, 46969, 46997, 47002, 47012, 47019, 47020, 47052, 47059, 47076, 47098, 47104, 47150, 47174, 47197, 47198, 47201, 47216, 47217, 47230, 47238, 47244, 47276, 47285, 47295, 47338, 47349, 47359, 47366, 47387, 47409, 47412, 47438, 47444, 47446, 47457, 47474, 47486, 47490, 47496, 47504, 47514, 47520, 47557, 47582, 47585, 47602, 47604, 47611, 47613, 47638, 47671, 47674, 47676, 47684, 47713, 47744, 47760, 47804, 47827, 47832, 47838, 47856, 47865, 47870, 47873, 47876, 47882, 47891, 47927, 47936, 47942, 47947, 47952, 47955, 47974, 48001, 48004, 48005, 48007, 48029, 48043, 48049, 48083, 48174, 48213, 48222, 48241, 48244, 48254, 48280, 48381, 48386, 48388, 48421, 48424, 48443, 48451, 48454, 48464, 48480, 48490, 48521, 48537, 48582, 48593, 48608, 48622, 48638, 48677, 48683, 48703, 48722, 48757, 48764, 48798, 48835, 48836, 48850, 48883, 48893, 48901, 48907, 48917, 48922, 48955, 48963, 48980, 48993, 48996, 49004, 49010, 49026, 49048, 49093, 49101, 49117, 49118, 49206, 49213, 49218, 49230, 49281, 49292, 49293, 49308, 49323, 49337, 49340, 49396, 49401, 49415, 49443, 49459, 49501, 49510, 49520, 49524, 49548, 49565, 49580, 49621, 49625, 49660, 49697, 49742, 49763, 49778, 49790, 49804, 49808, 49815, 49816, 49845, 49855, 49856, 49955, 49961, 49967, 38, 48, 54, 57, 60, 63, 66, 67, 68, 88, 101, 108, 111, 115, 120, 129, 134, 157, 163, 176, 185, 188, 192, 198, 219, 220, 235, 237, 273, 276, 277, 311, 321, 333, 336, 345, 350, 351, 365, 373, 378, 391, 392, 420, 421, 427, 434, 441, 455, 478, 528, 531, 535, 543, 555, 569, 573, 582, 587, 597, 605, 617, 626, 634, 638, 659, 660, 682, 683, 685, 702, 708, 733, 755, 759, 766, 770, 791, 799, 810, 817, 848, 853, 864, 894, 952, 958, 962, 963, 967, 985, 1024, 1038, 1042, 1052, 1077, 1105, 1110, 1116, 1127, 1145, 1161, 1164, 1168, 1170, 1173, 1180, 1205, 1217, 1236, 1252, 1288, 1290, 1303, 1324, 1331, 1334, 1336, 1348, 1351, 1358, 1359, 1362, 1364, 1377, 1378, 1379, 1383, 1407, 1424, 1426, 1431, 1439, 1453, 1504, 1507, 1510, 1514, 1525, 1527, 1531, 1533, 1537, 1565, 1573, 1579, 1588, 1594, 1611, 1647, 1650, 1655, 1660, 1663, 1666, 1676, 1677, 1683, 1686, 1701, 1704, 1708, 1713, 1716, 1719, 1726, 1754, 1784, 1786, 1787, 1803, 1810, 1818, 1821, 1847, 1849, 1884, 1912, 1914, 1931, 1945, 1949, 1951, 1954, 1956, 1964, 1984, 1999, 2001, 2004, 2016, 2029, 2032, 2038, 2053, 2056, 2059, 2060, 2078, 2103, 2119, 2176, 2177, 2181, 2190, 2215, 2217, 2226, 2232, 2243, 2245, 2247, 2251, 2264, 2272, 2281, 2286, 2292, 2306, 2319, 2326, 2335, 2344, 2372, 2375, 2379, 2393, 2398, 2401, 2411, 2416, 2433, 2456, 2478, 2479, 2480, 2493, 2495, 2500, 2501, 2503, 2532, 2547, 2564, 2571, 2572, 2574, 2575, 2577, 2584, 2604, 2609, 2612, 2636, 2640, 2645, 2646, 2649, 2657, 2679, 2682, 2696, 2698, 2702, 2719, 2725, 2733, 2735, 2744, 2751, 2755, 2769, 2770, 2773, 2774, 2788, 2792, 2816, 2832, 2844, 2853, 2866, 2877, 2882, 2889, 2891, 2892, 2909, 2914, 2922, 2930, 2931, 2935, 2958, 2970, 2984, 2992, 3012, 3013, 3025, 3048, 3057, 3067, 3069, 3077, 3085, 3099, 3102, 3121, 3123, 3124, 3126, 3148, 3152, 3172, 3188, 3212, 3236, 3238, 3250, 3251, 3264, 3268, 3269, 3275, 3285, 3290, 3292, 3299, 3305, 3322, 3328, 3365, 3370, 3374, 3375, 3376, 3389, 3395, 3412, 3418, 3424, 3431, 3435, 3439, 3445, 3471, 3473, 3479, 3484, 3488, 3490, 3491, 3495, 3496, 3501, 3503, 3523, 3524, 3531, 3535, 3549, 3556, 3557, 3568, 3569, 3585, 3586, 3606, 3619, 3630, 3642, 3694, 3710, 3717, 3743, 3758, 3764, 3786, 3788, 3792, 3793, 3803, 3807, 3815, 3829, 3837, 3857, 3868, 3872, 3879, 3890, 3917, 3919, 3925, 3937, 3943, 3944, 3947, 3959, 3962, 3972, 3974, 3980, 3981, 3993, 4003, 4006, 4007, 4015, 4018, 4028, 4029, 4046, 4048, 4055, 4060, 4064, 4087, 4107, 4121, 4129, 4133, 4135, 4136, 4147, 4149, 4157, 4161, 4179, 4181, 4209, 4231, 4238, 4241, 4252, 4256, 4257, 4266, 4279, 4285, 4286, 4290, 4302, 4305, 4312, 4316, 4335, 4381, 4382, 4396, 4407, 4418, 4426, 4427, 4444, 4447, 4450, 4451, 4459, 4479, 4496, 4535, 4553, 4558, 4568, 4572, 4581, 4585, 4587, 4588, 4591, 4592, 4595, 4610, 4616, 4645, 4662, 4682, 4685, 4691, 4694, 4720, 4749, 4764, 4770, 4791, 4792, 4794, 4797, 4806, 4810, 4835, 4863, 4867, 4871, 4873, 4893, 4958, 4966, 4998, 5003, 5019, 5029, 5031, 5045, 5050, 5051, 5071, 5077, 5078, 5083, 5091, 5102, 5112, 5115, 5116, 5128, 5129, 5140, 5143, 5189, 5194, 5198, 5207, 5211, 5215, 5218, 5252, 5262, 5268, 5272, 5284, 5290, 5291, 5296, 5307, 5308, 5323, 5338, 5340, 5342, 5344, 5351, 5383, 5392, 5403, 5426, 5429, 5445, 5469, 5471, 5473, 5482, 5503, 5505, 5508, 5512, 5521, 5525, 5527, 5531, 5537, 5540, 5542, 5547, 5556, 5571, 5586, 5595, 5612, 5615, 5622, 5627, 5633, 5655, 5668, 5674, 5675, 5697, 5699, 5715, 5720, 5741, 5750, 5753, 5760, 5766, 5768, 5771, 5772, 5774, 5778, 5780, 5782, 5786, 5789, 5794, 5804, 5807, 5811, 5836, 5840, 5845, 5850, 5854, 5872, 5891, 5892, 5901, 5909, 5911, 5916, 5921, 5925, 5941, 5943, 5948, 5955, 5958, 5976, 5987, 5989, 5994, 5996, 5997, 6026, 6044, 6048, 6052, 6061, 6072, 6078, 6094, 6108, 6109, 6117, 6127, 6131, 6139, 6154, 6155, 6157, 6165, 6168, 6171, 6188, 6191, 6192, 6200, 6201, 6236, 6244, 6259, 6261, 6265, 6286, 6304, 6313, 6323, 6330, 6335, 6350, 6354, 6360, 6367, 6379, 6387, 6398, 6400, 6403, 6433, 6444, 6449, 6458, 6472, 6486, 6507, 6508, 6510, 6519, 6528, 6537, 6545, 6578, 6582, 6590, 6598, 6608, 6611, 6627, 6631, 6658, 6666, 6687, 6700, 6709, 6712, 6718, 6727, 6743, 6746, 6751, 6764, 6797, 6816, 6817, 6820, 6864, 6868, 6875, 6896, 6910, 6914, 6916, 6922, 6930, 6934, 6946, 6955, 6968, 6991, 6995, 6997, 6998, 7003, 7007, 7023, 7029, 7038, 7045, 7054, 7057, 7108, 7112, 7119, 7132, 7141, 7167, 7173, 7176, 7193, 7194, 7201, 7207, 7209, 7222, 7223, 7224, 7227, 7237, 7241, 7243, 7254, 7255, 7260, 7268, 7270, 7283, 7307, 7315, 7321, 7323, 7324, 7347, 7348, 7350, 7354, 7356, 7358, 7386, 7388, 7395, 7406, 7417, 7418, 7424, 7432, 7434, 7441, 7443, 7451, 7452, 7455, 7460, 7507, 7513, 7521, 7528, 7533, 7548, 7557, 7572, 7580, 7593, 7626, 7629, 7668, 7672, 7676, 7686, 7691, 7694, 7702, 7710, 7720, 7729, 7741, 7744, 7757, 7763, 7769, 7771, 7772, 7773, 7776, 7786, 7788, 7829, 7839, 7847, 7849, 7853, 7859, 7872, 7873, 7884, 7887, 7888, 7894, 7896, 7898, 7904, 7905, 7906, 7913, 7916, 7920, 7934, 7955, 7967, 7973, 7979, 7980, 7983, 8006, 8007, 8009, 8038, 8048, 8052, 8054, 8056, 8061, 8062, 8066, 8068, 8080, 8085, 8105, 8106, 8128, 8154, 8156, 8163, 8171, 8175, 8196, 8199, 8202, 8203, 8211, 8226, 8227, 8234, 8249, 8257, 8259, 8264, 8274, 8275, 8288, 8296, 8310, 8313, 8345, 8349, 8365, 8372, 8376, 8387, 8389, 8406, 8408, 8437, 8438, 8441, 8445, 8452, 8459, 8460, 8471, 8484, 8488, 8490, 8491, 8493, 8509, 8525, 8533, 8541, 8544, 8546, 8574, 8613, 8614, 8615, 8622, 8649, 8655, 8673, 8689, 8693, 8710, 8714, 8716, 8727, 8739, 8741, 8742, 8757, 8761, 8789, 8791, 8796, 8803, 8812, 8819, 8832, 8853, 8857, 8872, 8881, 8887, 8888, 8893, 8910, 8928, 8930, 8933, 8944, 8946, 8988, 9007, 9018, 9019, 9021, 9023, 9032, 9037, 9057, 9060, 9072, 9075, 9076, 9085, 9090, 9106, 9108, 9112, 9118, 9128, 9148, 9150, 9196, 9200, 9215, 9222, 9224, 9238, 9256, 9267, 9278, 9279, 9282, 9289, 9321, 9325, 9340, 9341, 9342, 9357, 9359, 9411, 9413, 9451, 9475, 9493, 9495, 9497, 9516, 9544, 9547, 9549, 9580, 9591, 9593, 9601, 9613, 9615, 9622, 9625, 9663, 9668, 9669, 9672, 9681, 9686, 9689, 9699, 9701, 9721, 9722, 9729, 9755, 9760, 9771, 9775, 9783, 9800, 9802, 9821, 9825, 9830, 9833, 9842, 9853, 9855, 9876, 9880, 9887, 9888, 9910, 9911, 9922, 9931, 9945, 9946, 9961, 9975, 9977, 10000, 10026, 10040, 10050, 10059, 10064, 10087, 10091, 10107, 10112, 10117, 10123, 10128, 10141, 10150, 10163, 10166, 10178, 10181, 10187, 10205, 10248, 10256, 10258, 10261, 10286, 10298, 10302, 10330, 10341, 10342, 10360, 10361, 10365, 10367, 10369, 10391, 10404, 10425, 10462, 10474, 10481, 10484, 10499, 10504, 10516, 10560, 10571, 10576, 10591, 10592, 10617, 10624, 10631, 10639, 10643, 10651, 10655, 10657, 10680, 10692, 10714, 10733, 10734, 10744, 10751, 10773, 10776, 10785, 10786, 10791, 10792, 10798, 10810, 10813, 10817, 10831, 10832, 10834, 10840, 10852, 10860, 10867, 10873, 10876, 10890, 10892, 10895, 10898, 10902, 10903, 10911, 10930, 10963, 10966, 10970, 10974, 10985, 10987, 10996, 10997, 11004, 11043, 11060, 11066, 11073, 11076, 11082, 11084, 11092, 11094, 11101, 11135, 11146, 11147, 11162, 11166, 11183, 11194, 11206, 11210, 11213, 11222, 11232, 11234, 11238, 11239, 11245, 11249, 11258, 11259, 11265, 11272, 11276, 11279, 11302, 11305, 11319, 11326, 11359, 11365, 11373, 11374, 11383, 11385, 11392, 11400, 11415, 11418, 11420, 11463, 11494, 11507, 11512, 11529, 11536, 11539, 11542, 11552, 11555, 11559, 11567, 11593, 11597, 11602, 11606, 11616, 11623, 11633, 11636, 11644, 11652, 11695, 11697, 11707, 11720, 11738, 11748, 11758, 11760, 11775, 11783, 11800, 11809, 11814, 11816, 11818, 11841, 11842, 11865, 11879, 11880, 11881, 11884, 11887, 11889, 11896, 11902, 11903, 11920, 11928, 11940, 11941, 11964, 11965, 11980, 11990, 11996, 11998, 12006, 12014, 12021, 12026, 12061, 12068, 12085, 12092, 12118, 12121, 12129, 12135, 12138, 12151, 12155, 12161, 12173, 12179, 12197, 12203, 12274, 12292, 12294, 12304, 12314, 12337, 12346, 12347, 12351, 12357, 12361, 12363, 12368, 12371, 12381, 12384, 12387, 12390, 12395, 12397, 12413, 12430, 12455, 12458, 12460, 12471, 12492, 12499, 12513, 12514, 12533, 12534, 12546, 12555, 12556, 12557, 12569, 12583, 12585, 12591, 12598, 12599, 12603, 12610, 12618, 12625, 12628, 12633, 12634, 12639, 12646, 12653, 12654, 12664, 12673, 12677, 12682, 12685, 12691, 12700, 12705, 12708, 12724, 12731, 12733, 12738, 12740, 12744, 12753, 12754, 12772, 12809, 12825, 12838, 12847, 12853, 12866, 12875, 12879, 12889, 12890, 12896, 12904, 12908, 12946, 12960, 12963, 12986, 12990, 12997, 13014, 13021, 13025, 13030, 13032, 13039, 13041, 13051, 13083, 13087, 13093, 13109, 13110, 13129, 13139, 13155, 13176, 13178, 13214, 13224, 13225, 13228, 13230, 13254, 13257, 13264, 13270, 13304, 13311, 13338, 13339, 13356, 13363, 13370, 13381, 13398, 13428, 13438, 13455, 13458, 13461, 13481, 13482, 13484, 13489, 13491, 13495, 13506, 13514, 13532, 13553, 13566, 13573, 13579, 13590, 13599, 13605, 13606, 13609, 13614, 13619, 13620, 13621, 13626, 13658, 13660, 13687, 13691, 13692, 13694, 13698, 13700, 13706, 13724, 13730, 13735, 13747, 13759, 13764, 13765, 13777, 13786, 13808, 13820, 13823, 13831, 13838, 13843, 13892, 13903, 13910, 13938, 13941, 13955, 13956, 13966, 13997, 14018, 14026, 14041, 14044, 14060, 14083, 14085, 14089, 14112, 14113, 14115, 14117, 14124, 14154, 14180, 14186, 14194, 14217, 14221, 14243, 14246, 14269, 14282, 14297, 14301, 14310, 14325, 14334, 14343, 14346, 14348, 14352, 14354, 14360, 14365, 14371, 14372, 14377, 14383, 14393, 14398, 14402, 14422, 14429, 14439, 14440, 14446, 14453, 14466, 14509, 14516, 14522, 14529, 14540, 14552, 14553, 14577, 14597, 14600, 14603, 14640, 14655, 14667, 14676, 14696, 14701, 14703, 14710, 14743, 14745, 14751, 14752, 14766, 14771, 14786, 14798, 14810, 14814, 14819, 14821, 14825, 14829, 14836, 14845, 14855, 14868, 14877, 14902, 14906, 14916, 14936, 14938, 14950, 14957, 14964, 14986, 14996, 15004, 15013, 15014, 15041, 15044, 15049, 15054, 15069, 15077, 15084, 15085, 15088, 15095, 15098, 15108, 15115, 15123, 15124, 15131, 15141, 15148, 15183, 15205, 15217, 15221, 15234, 15235, 15266, 15269, 15270, 15291, 15302, 15307, 15310, 15318, 15319, 15326, 15339, 15351, 15353, 15363, 15374, 15377, 15379, 15381, 15383, 15390, 15394, 15403, 15406, 15413, 15423, 15425, 15443, 15445, 15453, 15474, 15489, 15507, 15522, 15579, 15593, 15598, 15618, 15622, 15637, 15653, 15655, 15660, 15664, 15669, 15690, 15695, 15704, 15708, 15720, 15723, 15730, 15742, 15751, 15762, 15765, 15785, 15786, 15792, 15799, 15808, 15811, 15823, 15825, 15835, 15850, 15856, 15857, 15860, 15891, 15893, 15898, 15903, 15929, 15935, 15941, 15942, 15961, 15969, 15974, 15986, 15988, 15991, 15996, 15998, 16006, 16007, 16010, 16022, 16027, 16039, 16049, 16052, 16057, 16080, 16084, 16096, 16111, 16114, 16124, 16129, 16138, 16143, 16162, 16172, 16190, 16198, 16202, 16204, 16213, 16215, 16220, 16248, 16261, 16264, 16266, 16268, 16275, 16290, 16294, 16324, 16335, 16344, 16352, 16361, 16372, 16386, 16391, 16401, 16405, 16407, 16410, 16412, 16416, 16419, 16421, 16422, 16436, 16439, 16442, 16445, 16478, 16494, 16502, 16504, 16507, 16508, 16520, 16547, 16564, 16566, 16567, 16571, 16592, 16606, 16623, 16628, 16631, 16644, 16666, 16678, 16685, 16692, 16702, 16703, 16711, 16713, 16716, 16718, 16720, 16724, 16730, 16732, 16735, 16763, 16780, 16783, 16786, 16790, 16795, 16802, 16803, 16805, 16807, 16818, 16826, 16837, 16838, 16840, 16843, 16846, 16849, 16864, 16872, 16904, 16906, 16908, 16912, 16931, 16960, 16970, 17000, 17003, 17010, 17014, 17015, 17016, 17024, 17025, 17030, 17037, 17038, 17049, 17050, 17082, 17083, 17096, 17110, 17120, 17123, 17127, 17130, 17132, 17136, 17142, 17143, 17145, 17150, 17155, 17158, 17189, 17194, 17196, 17197, 17211, 17214, 17224, 17226, 17227, 17247, 17249, 17250, 17262, 17266, 17273, 17277, 17280, 17286, 17289, 17305, 17314, 17332, 17335, 17343, 17346, 17354, 17355, 17358, 17367, 17372, 17375, 17376, 17382, 17387, 17390, 17395, 17408, 17427, 17436, 17437, 17441, 17453, 17457, 17479, 17481, 17495, 17496, 17501, 17502, 17505, 17511, 17515, 17522, 17527, 17558, 17562, 17567, 17586, 17592, 17596, 17599, 17613, 17617, 17619, 17622, 17627, 17632, 17636, 17662, 17667, 17682, 17712, 17717, 17718, 17720, 17733, 17736, 17737, 17747, 17752, 17771, 17776, 17779, 17780, 17784, 17791, 17811, 17812, 17840, 17851, 17858, 17870, 17882, 17887, 17900, 17910, 17912, 17913, 17917, 17925, 17929, 17932, 17933, 17941, 17944, 17947, 17955, 17965, 17970, 17971, 17984, 18001, 18003, 18035, 18041, 18056, 18066, 18072, 18080, 18111, 18114, 18122, 18140, 18151, 18157, 18159, 18182, 18186, 18189, 18215, 18232, 18240, 18241, 18249, 18257, 18268, 18272, 18276, 18286, 18293, 18295, 18304, 18324, 18327, 18328, 18344, 18348, 18349, 18350, 18354, 18362, 18370, 18372, 18376, 18386, 18391, 18400, 18406, 18419, 18426, 18429, 18430, 18455, 18483, 18485, 18489, 18495, 18499, 18517, 18522, 18532, 18541, 18551, 18565, 18575, 18577, 18588, 18591, 18593, 18597, 18602, 18609, 18610, 18619, 18622, 18624, 18625, 18632, 18640, 18647, 18654, 18656, 18658, 18660, 18663, 18666, 18668, 18683, 18688, 18705, 18720, 18722, 18734, 18740, 18742, 18743, 18757, 18762, 18768, 18789, 18795, 18799, 18814, 18823, 18824, 18828, 18840, 18853, 18870, 18874, 18903, 18925, 18939, 18945, 18963, 18965, 18978, 19000, 19006, 19026, 19036, 19038, 19042, 19043, 19058, 19063, 19072, 19082, 19084, 19086, 19089, 19097, 19108, 19142, 19145, 19155, 19160, 19170, 19174, 19176, 19182, 19183, 19188, 19198, 19236, 19251, 19252, 19256, 19272, 19275, 19276, 19285, 19286, 19311, 19312, 19323, 19324, 19340, 19356, 19361, 19367, 19372, 19376, 19378, 19381, 19399, 19410, 19412, 19429, 19434, 19435, 19455, 19466, 19477, 19478, 19486, 19515, 19516, 19546, 19562, 19570, 19572, 19577, 19581, 19584, 19587, 19604, 19612, 19618, 19624, 19641, 19645, 19651, 19658, 19664, 19665, 19677, 19684, 19692, 19696, 19697, 19705, 19712, 19715, 19717, 19751, 19781, 19788, 19793, 19806, 19808, 19823, 19831, 19847, 19863, 19872, 19898, 19904, 19929, 19935, 19949, 19954, 19966, 19990, 20002, 20007, 20009, 20026, 20034, 20038, 20039, 20040, 20041, 20050, 20062, 20093, 20095, 20101, 20110, 20111, 20116, 20126, 20140, 20167, 20175, 20176, 20182, 20191, 20196, 20218, 20226, 20228, 20230, 20243, 20267, 20277, 20288, 20290, 20316, 20326, 20331, 20334, 20336, 20340, 20359, 20368, 20371, 20376, 20379, 20386, 20390, 20395, 20404, 20429, 20430, 20450, 20460, 20464, 20475, 20490, 20499, 20508, 20513, 20538, 20559, 20560, 20564, 20567, 20594, 20638, 20656, 20666, 20672, 20674, 20675, 20676, 20694, 20713, 20746, 20753, 20773, 20774, 20775, 20776, 20780, 20783, 20787, 20797, 20808, 20836, 20840, 20854, 20855, 20868, 20884, 20885, 20900, 20902, 20907, 20920, 20929, 20939, 20955, 20968, 20972, 20973, 20991, 20996, 20998, 21007, 21009, 21012, 21018, 21032, 21033, 21040, 21042, 21049, 21051, 21056, 21072, 21077, 21087, 21091, 21094, 21101, 21102, 21103, 21112, 21139, 21140, 21153, 21158, 21165, 21194, 21199, 21220, 21234, 21241, 21271, 21274, 21276, 21308, 21324, 21325, 21353, 21369, 21378, 21383, 21388, 21391, 21398, 21407, 21422, 21425, 21429, 21436, 21438, 21440, 21450, 21452, 21457, 21474, 21475, 21481, 21489, 21500, 21504, 21521, 21530, 21531, 21538, 21556, 21561, 21566, 21580, 21587, 21590, 21593, 21611, 21627, 21650, 21660, 21664, 21671, 21676, 21687, 21689, 21703, 21722, 21727, 21734, 21735, 21736, 21747, 21748, 21752, 21756, 21758, 21760, 21762, 21775, 21786, 21792, 21800, 21802, 21807, 21815, 21816, 21817, 21821, 21841, 21844, 21858, 21859, 21868, 21870, 21878, 21886, 21894, 21896, 21911, 21919, 21922, 21948, 21950, 21958, 21962, 21974, 21979, 21989, 21994, 22005, 22007, 22020, 22021, 22044, 22053, 22068, 22076, 22078, 22079, 22086, 22111, 22118, 22123, 22125, 22129, 22130, 22131, 22136, 22178, 22204, 22206, 22207, 22208, 22211, 22221, 22233, 22241, 22245, 22255, 22279, 22285, 22290, 22301, 22314, 22323, 22334, 22350, 22361, 22363, 22365, 22371, 22419, 22429, 22437, 22438, 22447, 22460, 22461, 22474, 22477, 22490, 22506, 22521, 22532, 22533, 22537, 22544, 22546, 22549, 22552, 22569, 22604, 22628, 22634, 22643, 22650, 22662, 22682, 22689, 22692, 22698, 22700, 22706, 22707, 22715, 22722, 22734, 22736, 22741, 22747, 22749, 22761, 22770, 22791, 22810, 22821, 22828, 22829, 22830, 22833, 22850, 22858, 22869, 22871, 22876, 22880, 22893, 22913, 22920, 22925, 22926, 22934, 22943, 22956, 22980, 22986, 22997, 23003, 23012, 23019, 23026, 23039, 23040, 23041, 23045, 23046, 23051, 23052, 23053, 23056, 23058, 23072, 23131, 23141, 23156, 23157, 23186, 23187, 23190, 23195, 23203, 23204, 23205, 23210, 23219, 23232, 23236, 23240, 23260, 23262, 23291, 23306, 23322, 23341, 23344, 23349, 23350, 23365, 23368, 23371, 23382, 23386, 23399, 23402, 23406, 23408, 23416, 23420, 23430, 23431, 23456, 23467, 23482, 23487, 23495, 23502, 23519, 23520, 23537, 23539, 23540, 23547, 23550, 23559, 23562, 23572, 23603, 23617, 23624, 23628, 23635, 23636, 23651, 23664, 23667, 23674, 23676, 23694, 23704, 23714, 23718, 23727, 23732, 23747, 23759, 23768, 23771, 23774, 23785, 23809, 23821, 23828, 23834, 23856, 23860, 23863, 23875, 23914, 23917, 23922, 23935, 23951, 23965, 23972, 23975, 23977, 23989, 23995, 24002, 24016, 24020, 24023, 24026, 24028, 24033, 24037, 24039, 24049, 24050, 24054, 24073, 24074, 24076, 24078, 24085, 24091, 24105, 24112, 24142, 24153, 24164, 24165, 24191, 24205, 24221, 24225, 24227, 24236, 24237, 24239, 24252, 24253, 24270, 24287, 24292, 24297, 24299, 24321, 24323, 24338, 24341, 24347, 24355, 24369, 24371, 24383, 24387, 24406, 24419, 24421, 24432, 24433, 24434, 24438, 24448, 24454, 24464, 24495, 24498, 24509, 24520, 24546, 24555, 24556, 24585, 24599, 24601, 24602, 24603, 24609, 24616, 24618, 24623, 24625, 24629, 24630, 24632, 24640, 24642, 24644, 24652, 24657, 24662, 24675, 24689, 24696, 24705, 24725, 24730, 24743, 24759, 24761, 24764, 24766, 24773, 24804, 24825, 24831, 24832, 24840, 24850, 24852, 24864, 24867, 24869, 24885, 24891, 24895, 24902, 24904, 24920, 24925, 24927, 24930, 24932, 24959, 24964, 24989, 25006, 25017, 25024, 25027, 25032, 25034, 25055, 25071, 25072, 25073, 25079, 25092, 25103, 25109, 25111, 25123, 25126, 25137, 25150, 25156, 25160, 25161, 25180, 25181, 25185, 25199, 25207, 25216, 25217, 25218, 25219, 25221, 25255, 25256, 25282, 25303, 25304, 25306, 25315, 25319, 25331, 25335, 25337, 25344, 25354, 25369, 25376, 25393, 25410, 25417, 25418, 25419, 25420, 25422, 25429, 25433, 25443, 25459, 25461, 25463, 25466, 25471, 25484, 25490, 25495, 25504, 25516, 25517, 25544, 25577, 25580, 25586, 25588, 25596, 25601, 25606, 25608, 25620, 25629, 25630, 25641, 25647, 25650, 25654, 25671, 25683, 25686, 25700, 25709, 25725, 25728, 25733, 25750, 25762, 25764, 25767, 25781, 25784, 25794, 25819, 25827, 25829, 25830, 25837, 25841, 25854, 25855, 25862, 25873, 25885, 25889, 25890, 25891, 25912, 25918, 25922, 25927, 25930, 25934, 25946, 25956, 25960, 25985, 26001, 26023, 26027, 26029, 26049, 26050, 26056, 26057, 26059, 26081, 26084, 26085, 26087, 26097, 26098, 26110, 26120, 26125, 26160, 26165, 26169, 26184, 26202, 26213, 26216, 26226, 26229, 26237, 26253, 26261, 26266, 26267, 26278, 26283, 26285, 26289, 26304, 26306, 26312, 26313, 26330, 26337, 26354, 26362, 26372, 26373, 26375, 26390, 26399, 26414, 26420, 26428, 26433, 26440, 26447, 26458, 26470, 26482, 26492, 26495, 26499, 26505, 26515, 26516, 26524, 26546, 26571, 26586, 26590, 26595, 26596, 26603, 26647, 26652, 26675, 26676, 26678, 26690, 26695, 26701, 26715, 26720, 26725, 26743, 26744, 26753, 26756, 26763, 26797, 26808, 26809, 26814, 26815, 26820, 26823, 26833, 26845, 26876, 26879, 26881, 26889, 26903, 26923, 26946, 26947, 26970, 26977, 26994, 26995, 27008, 27024, 27026, 27037, 27039, 27050, 27059, 27082, 27105, 27121, 27122, 27157, 27160, 27161, 27180, 27197, 27206, 27214, 27215, 27218, 27223, 27234, 27236, 27237, 27241, 27247, 27248, 27252, 27264, 27287, 27291, 27313, 27316, 27317, 27320, 27367, 27370, 27372, 27375, 27381, 27392, 27404, 27409, 27422, 27429, 27434, 27435, 27438, 27440, 27457, 27459, 27460, 27464, 27485, 27486, 27489, 27499, 27525, 27528, 27539, 27541, 27560, 27582, 27583, 27629, 27637, 27646, 27652, 27659, 27666, 27673, 27684, 27690, 27694, 27698, 27725, 27727, 27744, 27748, 27753, 27754, 27761, 27774, 27778, 27788, 27789, 27797, 27815, 27822, 27824, 27825, 27838, 27845, 27849, 27859, 27890, 27892, 27895, 27901, 27907, 27921, 27929, 27956, 27958, 27970, 27974, 27985, 28004, 28042, 28045, 28049, 28061, 28079, 28093, 28099, 28127, 28133, 28147, 28154, 28156, 28161, 28162, 28166, 28176, 28187, 28210, 28213, 28221, 28249, 28252, 28257, 28258, 28261, 28262, 28277, 28286, 28315, 28338, 28342, 28349, 28360, 28380, 28401, 28412, 28427, 28438, 28441, 28443, 28450, 28454, 28471, 28479, 28481, 28484, 28497, 28503, 28511, 28533, 28542, 28547, 28560, 28564, 28568, 28576, 28578, 28585, 28615, 28641, 28647, 28651, 28655, 28669, 28682, 28684, 28693, 28705, 28715, 28722, 28736, 28749, 28760, 28800, 28807, 28811, 28814, 28824, 28852, 28866, 28870, 28883, 28885, 28888, 28890, 28907, 28913, 28914, 28917, 28945, 28957, 28961, 28964, 28969, 28981, 28988, 28990, 28994, 28998, 29029, 29034, 29036, 29048, 29054, 29063, 29092, 29093, 29103, 29105, 29109, 29112, 29120, 29133, 29144, 29158, 29186, 29191, 29197, 29203, 29209, 29227, 29228, 29231, 29233, 29239, 29265, 29278, 29289, 29295, 29326, 29329, 29350, 29355, 29357, 29367, 29369, 29389, 29408, 29429, 29436, 29461, 29462, 29479, 29490, 29510, 29512, 29547, 29561, 29575, 29577, 29579, 29592, 29617, 29619, 29624, 29631, 29636, 29653, 29655, 29657, 29659, 29674, 29680, 29686, 29687, 29688, 29722, 29735, 29739, 29746, 29766, 29780, 29784, 29801, 29809, 29811, 29824, 29832, 29842, 29844, 29846, 29850, 29856, 29861, 29871, 29876, 29890, 29891, 29901, 29913, 29923, 29924, 29931, 29933, 29935, 29960, 29965, 29966, 29974, 29975, 29979, 29981, 29991, 29996, 29997, 29999, 30013, 30031, 30033, 30056, 30063, 30080, 30083, 30086, 30090, 30100, 30113, 30116, 30119, 30131, 30136, 30147, 30159, 30164, 30178, 30185, 30186, 30187, 30189, 30203, 30210, 30230, 30233, 30238, 30246, 30249, 30253, 30264, 30273, 30279, 30296, 30333, 30341, 30356, 30359, 30371, 30381, 30387, 30410, 30423, 30425, 30431, 30440, 30444, 30473, 30497, 30519, 30522, 30536, 30540, 30541, 30545, 30546, 30554, 30557, 30583, 30610, 30611, 30613, 30621, 30622, 30634, 30655, 30711, 30713, 30715, 30720, 30726, 30728, 30729, 30743, 30747, 30748, 30750, 30762, 30763, 30769, 30771, 30772, 30791, 30803, 30822, 30825, 30832, 30864, 30870, 30873, 30875, 30882, 30884, 30892, 30893, 30896, 30908, 30913, 30916, 30922, 30935, 30937, 30953, 30976, 30982, 30996, 30997, 30998, 31014, 31018, 31024, 31035, 31066, 31076, 31097, 31104, 31108, 31127, 31129, 31131, 31141, 31145, 31146, 31148, 31149, 31159, 31166, 31169, 31171, 31178, 31192, 31202, 31211, 31220, 31231, 31234, 31236, 31242, 31261, 31282, 31289, 31324, 31326, 31363, 31375, 31376, 31377, 31388, 31389, 31435, 31436, 31456, 31459, 31463, 31476, 31491, 31498, 31501, 31506, 31510, 31522, 31534, 31545, 31553, 31554, 31557, 31559, 31560, 31584, 31588, 31604, 31605, 31609, 31619, 31644, 31670, 31676, 31679, 31695, 31698, 31711, 31726, 31741, 31751, 31754, 31758, 31773, 31774, 31775, 31780, 31820, 31827, 31830, 31840, 31843, 31848, 31861, 31863, 31866, 31876, 31889, 31899, 31908, 31916, 31917, 31918, 31956, 31967, 31971, 31974, 31977, 31986, 31991, 31993, 32002, 32010, 32023, 32024, 32026, 32030, 32056, 32094, 32095, 32136, 32143, 32164, 32172, 32179, 32217, 32222, 32242, 32244, 32246, 32250, 32258, 32279, 32293, 32300, 32302, 32304, 32318, 32320, 32335, 32338, 32347, 32365, 32375, 32382, 32392, 32393, 32403, 32450, 32461, 32475, 32478, 32501, 32504, 32511, 32512, 32514, 32524, 32527, 32532, 32544, 32549, 32563, 32564, 32580, 32612, 32613, 32622, 32623, 32630, 32636, 32640, 32651, 32654, 32656, 32661, 32681, 32692, 32701, 32705, 32711, 32720, 32728, 32730, 32737, 32747, 32765, 32771, 32773, 32780, 32786, 32802, 32803, 32811, 32841, 32842, 32857, 32866, 32869, 32873, 32883, 32890, 32899, 32907, 32913, 32917, 32919, 32946, 32957, 32958, 32963, 32999, 33009, 33011, 33012, 33016, 33023, 33031, 33033, 33038, 33039, 33041, 33070, 33092, 33095, 33100, 33107, 33109, 33112, 33118, 33122, 33138, 33148, 33157, 33170, 33174, 33176, 33181, 33188, 33199, 33222, 33230, 33246, 33249, 33261, 33264, 33267, 33277, 33281, 33284, 33302, 33309, 33318, 33321, 33322, 33335, 33337, 33339, 33382, 33389, 33392, 33411, 33418, 33433, 33436, 33449, 33455, 33456, 33464, 33470, 33474, 33478, 33481, 33483, 33509, 33513, 33526, 33532, 33540, 33544, 33548, 33558, 33562, 33564, 33577, 33595, 33598, 33606, 33625, 33635, 33673, 33681, 33684, 33706, 33708, 33715, 33716, 33730, 33731, 33744, 33745, 33757, 33770, 33784, 33786, 33787, 33789, 33799, 33810, 33811, 33856, 33862, 33866, 33870, 33872, 33876, 33880, 33882, 33888, 33898, 33925, 33940, 33941, 33948, 33952, 33954, 33961, 33967, 33987, 33989, 33992, 34005, 34016, 34027, 34063, 34070, 34072, 34104, 34110, 34125, 34129, 34135, 34139, 34171, 34189, 34213, 34219, 34223, 34242, 34251, 34299, 34309, 34337, 34356, 34359, 34366, 34367, 34372, 34375, 34390, 34401, 34406, 34416, 34426, 34440, 34444, 34472, 34475, 34480, 34482, 34494, 34542, 34558, 34585, 34600, 34601, 34606, 34623, 34640, 34646, 34664, 34676, 34685, 34691, 34707, 34717, 34738, 34739, 34753, 34759, 34765, 34771, 34802, 34805, 34816, 34817, 34818, 34820, 34821, 34828, 34831, 34834, 34851, 34860, 34865, 34868, 34870, 34872, 34873, 34874, 34875, 34876, 34879, 34886, 34896, 34897, 34902, 34911, 34928, 34929, 34931, 34932, 34933, 34936, 34949, 34957, 34968, 34974, 34975, 34977, 34983, 35010, 35015, 35022, 35028, 35029, 35050, 35056, 35061, 35067, 35070, 35083, 35086, 35089, 35094, 35097, 35106, 35114, 35116, 35121, 35140, 35146, 35151, 35155, 35156, 35160, 35165, 35166, 35197, 35218, 35229, 35254, 35258, 35264, 35270, 35271, 35282, 35289, 35309, 35317, 35319, 35326, 35332, 35337, 35342, 35348, 35350, 35362, 35371, 35407, 35416, 35421, 35428, 35445, 35447, 35450, 35501, 35510, 35518, 35524, 35539, 35544, 35560, 35570, 35572, 35576, 35587, 35600, 35605, 35655, 35659, 35660, 35680, 35690, 35691, 35708, 35751, 35757, 35763, 35773, 35798, 35803, 35806, 35828, 35843, 35865, 35889, 35894, 35914, 35945, 35951, 35952, 35953, 35966, 35995, 35998, 36005, 36013, 36015, 36020, 36021, 36055, 36062, 36065, 36067, 36076, 36078, 36086, 36088, 36100, 36109, 36115, 36119, 36140, 36143, 36145, 36149, 36153, 36163, 36175, 36183, 36185, 36191, 36192, 36208, 36213, 36215, 36220, 36223, 36255, 36262, 36280, 36297, 36302, 36319, 36324, 36327, 36335, 36337, 36385, 36390, 36391, 36392, 36393, 36395, 36411, 36422, 36433, 36448, 36452, 36470, 36471, 36487, 36507, 36513, 36535, 36543, 36546, 36579, 36580, 36629, 36639, 36645, 36658, 36670, 36671, 36677, 36678, 36701, 36707, 36713, 36723, 36727, 36728, 36745, 36748, 36751, 36765, 36770, 36775, 36780, 36790, 36802, 36804, 36816, 36818, 36821, 36826, 36831, 36838, 36845, 36855, 36857, 36860, 36873, 36879, 36880, 36895, 36907, 36912, 36916, 36917, 36928, 36957, 36966, 36969, 36972, 36973, 36976, 36992, 37004, 37007, 37009, 37012, 37034, 37043, 37049, 37058, 37059, 37064, 37073, 37076, 37101, 37102, 37136, 37140, 37145, 37156, 37159, 37178, 37187, 37192, 37200, 37206, 37212, 37215, 37223, 37239, 37269, 37294, 37301, 37307, 37309, 37310, 37327, 37343, 37385, 37396, 37399, 37409, 37416, 37420, 37424, 37433, 37450, 37463, 37467, 37468, 37474, 37476, 37490, 37491, 37493, 37499, 37501, 37520, 37523, 37539, 37564, 37568, 37594, 37604, 37605, 37609, 37615, 37616, 37621, 37622, 37630, 37632, 37635, 37640, 37641, 37646, 37667, 37694, 37696, 37701, 37711, 37717, 37737, 37746, 37750, 37753, 37767, 37792, 37801, 37804, 37818, 37821, 37825, 37827, 37832, 37833, 37843, 37865, 37870, 37892, 37905, 37909, 37917, 37927, 37928, 37941, 37946, 37949, 37974, 37977, 37982, 37999, 38009, 38018, 38019, 38031, 38035, 38056, 38088, 38090, 38095, 38102, 38109, 38111, 38121, 38128, 38132, 38142, 38152, 38153, 38162, 38164, 38180, 38181, 38189, 38194, 38212, 38232, 38235, 38270, 38271, 38310, 38316, 38329, 38332, 38342, 38350, 38352, 38369, 38405, 38410, 38423, 38439, 38440, 38444, 38449, 38451, 38456, 38472, 38474, 38478, 38481, 38486, 38509, 38510, 38517, 38519, 38533, 38560, 38562, 38570, 38594, 38598, 38628, 38630, 38636, 38637, 38654, 38665, 38667, 38668, 38670, 38680, 38689, 38696, 38711, 38734, 38741, 38752, 38768, 38787, 38794, 38798, 38807, 38810, 38824, 38826, 38840, 38842, 38858, 38869, 38876, 38879, 38881, 38895, 38897, 38905, 38907, 38908, 38924, 38927, 38928, 38936, 38939, 38943, 38944, 38961, 38972, 38984, 38991, 38993, 38995, 39004, 39022, 39069, 39072, 39087, 39095, 39103, 39112, 39120, 39123, 39127, 39132, 39134, 39140, 39145, 39152, 39162, 39163, 39175, 39185, 39220, 39221, 39242, 39247, 39252, 39261, 39263, 39270, 39271, 39276, 39281, 39295, 39319, 39321, 39325, 39339, 39347, 39352, 39363, 39369, 39389, 39410, 39420, 39432, 39436, 39475, 39483, 39493, 39494, 39495, 39496, 39503, 39508, 39514, 39521, 39536, 39538, 39543, 39554, 39569, 39575, 39580, 39581, 39604, 39611, 39612, 39616, 39623, 39653, 39671, 39672, 39675, 39724, 39733, 39737, 39738, 39746, 39747, 39757, 39765, 39775, 39810, 39816, 39820, 39827, 39841, 39864, 39867, 39873, 39882, 39890, 39902, 39904, 39917, 39919, 39939, 39950, 39962, 39964, 39968, 39975, 39996, 40014, 40019, 40024, 40034, 40037, 40043, 40047, 40049, 40063, 40069, 40071, 40077, 40080, 40081, 40082, 40083, 40091, 40099, 40106, 40116, 40117, 40121, 40124, 40125, 40149, 40170, 40172, 40176, 40183, 40195, 40215, 40216, 40227, 40234, 40237, 40262, 40265, 40274, 40294, 40298, 40320, 40324, 40329, 40339, 40369, 40374, 40390, 40395, 40397, 40424, 40440, 40441, 40452, 40466, 40473, 40492, 40501, 40506, 40509, 40535, 40541, 40548, 40554, 40558, 40560, 40566, 40567, 40581, 40589, 40601, 40613, 40619, 40623, 40627, 40636, 40640, 40652, 40668, 40682, 40683, 40689, 40693, 40711, 40714, 40723, 40724, 40726, 40736, 40737, 40746, 40757, 40764, 40770, 40777, 40790, 40800, 40801, 40812, 40831, 40836, 40852, 40853, 40854, 40866, 40877, 40894, 40895, 40897, 40905, 40913, 40915, 40918, 40920, 40926, 40932, 40948, 40954, 40961, 40964, 40969, 40970, 40972, 40973, 40987, 40991, 41015, 41021, 41031, 41032, 41038, 41062, 41063, 41067, 41068, 41071, 41079, 41083, 41087, 41099, 41101, 41107, 41115, 41122, 41123, 41148, 41155, 41157, 41158, 41161, 41163, 41165, 41166, 41199, 41206, 41211, 41212, 41222, 41226, 41242, 41245, 41246, 41253, 41268, 41275, 41278, 41295, 41308, 41315, 41330, 41343, 41363, 41378, 41379, 41387, 41388, 41392, 41393, 41395, 41414, 41416, 41426, 41430, 41437, 41442, 41447, 41453, 41456, 41462, 41474, 41477, 41508, 41509, 41512, 41516, 41543, 41556, 41594, 41597, 41643, 41646, 41647, 41658, 41660, 41661, 41666, 41672, 41709, 41735, 41750, 41765, 41784, 41794, 41796, 41798, 41803, 41804, 41829, 41831, 41844, 41847, 41859, 41862, 41869, 41872, 41875, 41876, 41878, 41914, 41919, 41938, 41941, 41956, 41970, 41991, 42013, 42018, 42022, 42028, 42040, 42056, 42089, 42094, 42097, 42100, 42103, 42106, 42124, 42133, 42151, 42164, 42177, 42189, 42199, 42208, 42214, 42217, 42218, 42230, 42233, 42239, 42241, 42251, 42256, 42258, 42273, 42284, 42296, 42322, 42338, 42351, 42362, 42364, 42370, 42388, 42389, 42426, 42434, 42440, 42450, 42464, 42471, 42473, 42476, 42482, 42500, 42505, 42507, 42508, 42530, 42553, 42561, 42575, 42592, 42618, 42621, 42640, 42643, 42650, 42660, 42665, 42667, 42697, 42703, 42706, 42719, 42722, 42729, 42736, 42744, 42746, 42747, 42749, 42768, 42788, 42789, 42798, 42800, 42809, 42810, 42811, 42824, 42826, 42843, 42851, 42853, 42855, 42864, 42873, 42891, 42904, 42907, 42916, 42920, 42931, 42938, 42944, 42950, 42951, 42958, 42961, 42963, 42969, 42971, 42995, 43006, 43010, 43013, 43025, 43026, 43035, 43051, 43055, 43071, 43079, 43085, 43091, 43099, 43102, 43152, 43164, 43167, 43168, 43173, 43185, 43193, 43214, 43222, 43229, 43235, 43240, 43252, 43253, 43278, 43286, 43287, 43294, 43308, 43331, 43332, 43335, 43337, 43338, 43353, 43361, 43362, 43376, 43405, 43414, 43488, 43497, 43507, 43516, 43524, 43539, 43540, 43543, 43548, 43549, 43561, 43569, 43583, 43587, 43595, 43596, 43600, 43607, 43611, 43620, 43622, 43635, 43642, 43666, 43673, 43677, 43683, 43684, 43685, 43690, 43693, 43695, 43700, 43727, 43736, 43742, 43744, 43747, 43752, 43760, 43765, 43775, 43777, 43802, 43809, 43812, 43813, 43828, 43835, 43846, 43856, 43858, 43876, 43892, 43900, 43910, 43911, 43916, 43925, 43931, 43934, 43940, 43941, 43963, 43971, 43972, 43974, 43976, 43992, 44010, 44020, 44028, 44065, 44076, 44092, 44096, 44105, 44113, 44124, 44125, 44141, 44155, 44157, 44159, 44169, 44175, 44176, 44181, 44197, 44206, 44209, 44216, 44240, 44241, 44248, 44250, 44253, 44259, 44271, 44274, 44275, 44288, 44290, 44305, 44328, 44341, 44349, 44350, 44352, 44357, 44396, 44405, 44407, 44408, 44438, 44444, 44449, 44470, 44474, 44475, 44481, 44484, 44496, 44511, 44519, 44525, 44528, 44530, 44538, 44544, 44562, 44568, 44569, 44579, 44585, 44593, 44594, 44598, 44611, 44612, 44621, 44654, 44700, 44710, 44720, 44749, 44767, 44775, 44784, 44786, 44787, 44791, 44804, 44807, 44809, 44835, 44848, 44856, 44857, 44880, 44887, 44913, 44946, 44975, 44982, 45014, 45015, 45019, 45020, 45048, 45059, 45065, 45079, 45085, 45089, 45091, 45092, 45121, 45146, 45167, 45177, 45178, 45179, 45202, 45203, 45208, 45212, 45219, 45226, 45243, 45258, 45262, 45278, 45280, 45283, 45289, 45302, 45306, 45325, 45337, 45348, 45353, 45372, 45423, 45426, 45428, 45441, 45449, 45458, 45467, 45472, 45473, 45493, 45497, 45507, 45517, 45537, 45548, 45560, 45571, 45579, 45583, 45603, 45608, 45611, 45639, 45646, 45648, 45658, 45659, 45672, 45676, 45678, 45685, 45699, 45712, 45736, 45754, 45756, 45758, 45760, 45768, 45770, 45772, 45776, 45805, 45807, 45819, 45821, 45833, 45835, 45838, 45844, 45846, 45852, 45857, 45866, 45870, 45884, 45889, 45901, 45915, 45923, 45960, 45964, 45974, 45981, 45984, 45987, 45991, 45998, 46000, 46011, 46018, 46027, 46058, 46059, 46061, 46066, 46067, 46074, 46080, 46081, 46082, 46091, 46100, 46104, 46107, 46110, 46113, 46129, 46140, 46146, 46165, 46177, 46183, 46191, 46192, 46208, 46215, 46217, 46220, 46235, 46246, 46263, 46264, 46266, 46302, 46317, 46323, 46339, 46342, 46355, 46383, 46385, 46390, 46405, 46410, 46417, 46418, 46420, 46425, 46432, 46436, 46441, 46455, 46463, 46474, 46488, 46494, 46505, 46516, 46527, 46530, 46531, 46538, 46541, 46543, 46547, 46552, 46559, 46562, 46568, 46582, 46601, 46607, 46614, 46646, 46650, 46669, 46672, 46681, 46691, 46693, 46702, 46706, 46746, 46747, 46756, 46760, 46762, 46766, 46771, 46783, 46790, 46798, 46803, 46808, 46813, 46814, 46822, 46825, 46832, 46841, 46844, 46847, 46851, 46854, 46862, 46866, 46880, 46881, 46885, 46896, 46899, 46906, 46932, 46937, 46938, 46939, 46946, 46950, 46954, 46955, 46958, 46959, 46975, 47006, 47011, 47047, 47068, 47100, 47104, 47105, 47122, 47129, 47135, 47150, 47172, 47176, 47207, 47220, 47221, 47225, 47231, 47254, 47257, 47259, 47278, 47315, 47335, 47340, 47359, 47369, 47370, 47377, 47385, 47386, 47395, 47402, 47412, 47425, 47430, 47431, 47444, 47458, 47460, 47463, 47469, 47470, 47479, 47481, 47489, 47493, 47494, 47498, 47499, 47511, 47514, 47515, 47518, 47535, 47547, 47555, 47561, 47565, 47570, 47573, 47584, 47585, 47594, 47595, 47599, 47624, 47627, 47630, 47655, 47670, 47674, 47675, 47678, 47690, 47696, 47708, 47711, 47721, 47725, 47728, 47735, 47736, 47739, 47750, 47764, 47767, 47778, 47779, 47784, 47797, 47815, 47834, 47843, 47858, 47865, 47866, 47875, 47878, 47886, 47887, 47889, 47893, 47896, 47904, 47924, 47929, 47931, 47940, 47951, 47954, 47957, 47960, 47966, 47988, 48061, 48068, 48077, 48082, 48085, 48103, 48106, 48109, 48120, 48128, 48177, 48179, 48180, 48197, 48206, 48212, 48226, 48235, 48241, 48243, 48244, 48251, 48252, 48254, 48274, 48302, 48309, 48317, 48319, 48330, 48336, 48340, 48351, 48358, 48359, 48379, 48404, 48409, 48412, 48416, 48418, 48423, 48428, 48430, 48441, 48452, 48455, 48462, 48514, 48515, 48517, 48520, 48524, 48528, 48535, 48536, 48553, 48558, 48568, 48579, 48592, 48607, 48624, 48638, 48643, 48644, 48654, 48666, 48671, 48673, 48686, 48690, 48695, 48724, 48725, 48729, 48732, 48733, 48736, 48741, 48742, 48758, 48761, 48769, 48792, 48799, 48821, 48829, 48831, 48834, 48842, 48844, 48854, 48869, 48885, 48886, 48906, 48909, 48925, 48938, 48943, 48945, 48981, 48992, 48998, 49000, 49017, 49025, 49032, 49038, 49055, 49058, 49062, 49065, 49079, 49090, 49093, 49097, 49099, 49104, 49120, 49134, 49137, 49139, 49140, 49143, 49162, 49165, 49173, 49177, 49195, 49205, 49208, 49219, 49228, 49230, 49250, 49251, 49253, 49261, 49269, 49281, 49285, 49298, 49307, 49316, 49327, 49332, 49343, 49351, 49367, 49368, 49376, 49382, 49397, 49410, 49419, 49431, 49432, 49437, 49446, 49452, 49458, 49473, 49480, 49485, 49488, 49494, 49497, 49502, 49504, 49521, 49522, 49543, 49547, 49549, 49555, 49569, 49583, 49591, 49594, 49599, 49620, 49637, 49664, 49669, 49679, 49681, 49692, 49701, 49710, 49712, 49714, 49721, 49726, 49728, 49734, 49737, 49744, 49753, 49770, 49779, 49780, 49788, 49789, 49797, 49802, 49804, 49812, 49829, 49836, 49856, 49861, 49881, 49885, 49891, 49893, 49895, 49900, 49912, 49919, 49923, 49953, 49960, 49965]\n"
          ]
        }
      ],
      "source": [
        "#OUTLIERS COMPLET INDEX LIST\n",
        "index_list=[]\n",
        "for ft in ['amount','longitude_of_pickup','latitude_of_pickup','longitude_of_dropoff','latitude_of_dropoff','no_of_passenger']:\n",
        "  index_list.extend(outlier_detector(ft))\n",
        "print('index_list : ',index_list)"
      ]
    },
    {
      "cell_type": "code",
      "execution_count": null,
      "metadata": {
        "id": "CfELkL4gsGFk"
      },
      "outputs": [],
      "source": [
        "#DEFINE A FUNCTION TO DELETE THE OUTLIERS\n",
        "def remove(df,ls):\n",
        "  df=df.drop(ls)\n",
        "  return df"
      ]
    },
    {
      "cell_type": "code",
      "execution_count": null,
      "metadata": {
        "id": "Pi3Lt4gCtWST"
      },
      "outputs": [],
      "source": [
        "df = remove(df,index_list)"
      ]
    },
    {
      "cell_type": "code",
      "execution_count": null,
      "metadata": {
        "colab": {
          "base_uri": "https://localhost:8080/",
          "height": 206
        },
        "id": "XDSNAGpdu3pV",
        "outputId": "37a476b1-5e5f-489d-fde2-a2379d49286b"
      },
      "outputs": [
        {
          "output_type": "execute_result",
          "data": {
            "text/plain": [
              "  unique_id  amount      date_time_of_pickup  longitude_of_pickup  \\\n",
              "1   52:16.0    16.9  2010-01-05 16:52:16 UTC           -74.016048   \n",
              "2   35:00.0     5.7  2011-08-18 00:35:00 UTC           -73.982738   \n",
              "3   30:42.0     7.7  2012-04-21 04:30:42 UTC           -73.987130   \n",
              "4   51:00.0     5.3  2010-03-09 07:51:00 UTC           -73.968095   \n",
              "5   50:45.0    12.1  2011-01-06 09:50:45 UTC           -74.000964   \n",
              "\n",
              "   latitude_of_pickup  longitude_of_dropoff  latitude_of_dropoff  \\\n",
              "1           40.711303            -73.979268            40.782004   \n",
              "2           40.761270            -73.991242            40.750562   \n",
              "3           40.733143            -73.991567            40.758092   \n",
              "4           40.768008            -73.956655            40.783762   \n",
              "5           40.731630            -73.972892            40.758233   \n",
              "\n",
              "   no_of_passenger  \n",
              "1                1  \n",
              "2                2  \n",
              "3                1  \n",
              "4                1  \n",
              "5                1  "
            ],
            "text/html": [
              "\n",
              "  <div id=\"df-83715a66-15c6-4e91-beeb-be479ba60c22\">\n",
              "    <div class=\"colab-df-container\">\n",
              "      <div>\n",
              "<style scoped>\n",
              "    .dataframe tbody tr th:only-of-type {\n",
              "        vertical-align: middle;\n",
              "    }\n",
              "\n",
              "    .dataframe tbody tr th {\n",
              "        vertical-align: top;\n",
              "    }\n",
              "\n",
              "    .dataframe thead th {\n",
              "        text-align: right;\n",
              "    }\n",
              "</style>\n",
              "<table border=\"1\" class=\"dataframe\">\n",
              "  <thead>\n",
              "    <tr style=\"text-align: right;\">\n",
              "      <th></th>\n",
              "      <th>unique_id</th>\n",
              "      <th>amount</th>\n",
              "      <th>date_time_of_pickup</th>\n",
              "      <th>longitude_of_pickup</th>\n",
              "      <th>latitude_of_pickup</th>\n",
              "      <th>longitude_of_dropoff</th>\n",
              "      <th>latitude_of_dropoff</th>\n",
              "      <th>no_of_passenger</th>\n",
              "    </tr>\n",
              "  </thead>\n",
              "  <tbody>\n",
              "    <tr>\n",
              "      <th>1</th>\n",
              "      <td>52:16.0</td>\n",
              "      <td>16.9</td>\n",
              "      <td>2010-01-05 16:52:16 UTC</td>\n",
              "      <td>-74.016048</td>\n",
              "      <td>40.711303</td>\n",
              "      <td>-73.979268</td>\n",
              "      <td>40.782004</td>\n",
              "      <td>1</td>\n",
              "    </tr>\n",
              "    <tr>\n",
              "      <th>2</th>\n",
              "      <td>35:00.0</td>\n",
              "      <td>5.7</td>\n",
              "      <td>2011-08-18 00:35:00 UTC</td>\n",
              "      <td>-73.982738</td>\n",
              "      <td>40.761270</td>\n",
              "      <td>-73.991242</td>\n",
              "      <td>40.750562</td>\n",
              "      <td>2</td>\n",
              "    </tr>\n",
              "    <tr>\n",
              "      <th>3</th>\n",
              "      <td>30:42.0</td>\n",
              "      <td>7.7</td>\n",
              "      <td>2012-04-21 04:30:42 UTC</td>\n",
              "      <td>-73.987130</td>\n",
              "      <td>40.733143</td>\n",
              "      <td>-73.991567</td>\n",
              "      <td>40.758092</td>\n",
              "      <td>1</td>\n",
              "    </tr>\n",
              "    <tr>\n",
              "      <th>4</th>\n",
              "      <td>51:00.0</td>\n",
              "      <td>5.3</td>\n",
              "      <td>2010-03-09 07:51:00 UTC</td>\n",
              "      <td>-73.968095</td>\n",
              "      <td>40.768008</td>\n",
              "      <td>-73.956655</td>\n",
              "      <td>40.783762</td>\n",
              "      <td>1</td>\n",
              "    </tr>\n",
              "    <tr>\n",
              "      <th>5</th>\n",
              "      <td>50:45.0</td>\n",
              "      <td>12.1</td>\n",
              "      <td>2011-01-06 09:50:45 UTC</td>\n",
              "      <td>-74.000964</td>\n",
              "      <td>40.731630</td>\n",
              "      <td>-73.972892</td>\n",
              "      <td>40.758233</td>\n",
              "      <td>1</td>\n",
              "    </tr>\n",
              "  </tbody>\n",
              "</table>\n",
              "</div>\n",
              "      <button class=\"colab-df-convert\" onclick=\"convertToInteractive('df-83715a66-15c6-4e91-beeb-be479ba60c22')\"\n",
              "              title=\"Convert this dataframe to an interactive table.\"\n",
              "              style=\"display:none;\">\n",
              "        \n",
              "  <svg xmlns=\"http://www.w3.org/2000/svg\" height=\"24px\"viewBox=\"0 0 24 24\"\n",
              "       width=\"24px\">\n",
              "    <path d=\"M0 0h24v24H0V0z\" fill=\"none\"/>\n",
              "    <path d=\"M18.56 5.44l.94 2.06.94-2.06 2.06-.94-2.06-.94-.94-2.06-.94 2.06-2.06.94zm-11 1L8.5 8.5l.94-2.06 2.06-.94-2.06-.94L8.5 2.5l-.94 2.06-2.06.94zm10 10l.94 2.06.94-2.06 2.06-.94-2.06-.94-.94-2.06-.94 2.06-2.06.94z\"/><path d=\"M17.41 7.96l-1.37-1.37c-.4-.4-.92-.59-1.43-.59-.52 0-1.04.2-1.43.59L10.3 9.45l-7.72 7.72c-.78.78-.78 2.05 0 2.83L4 21.41c.39.39.9.59 1.41.59.51 0 1.02-.2 1.41-.59l7.78-7.78 2.81-2.81c.8-.78.8-2.07 0-2.86zM5.41 20L4 18.59l7.72-7.72 1.47 1.35L5.41 20z\"/>\n",
              "  </svg>\n",
              "      </button>\n",
              "      \n",
              "  <style>\n",
              "    .colab-df-container {\n",
              "      display:flex;\n",
              "      flex-wrap:wrap;\n",
              "      gap: 12px;\n",
              "    }\n",
              "\n",
              "    .colab-df-convert {\n",
              "      background-color: #E8F0FE;\n",
              "      border: none;\n",
              "      border-radius: 50%;\n",
              "      cursor: pointer;\n",
              "      display: none;\n",
              "      fill: #1967D2;\n",
              "      height: 32px;\n",
              "      padding: 0 0 0 0;\n",
              "      width: 32px;\n",
              "    }\n",
              "\n",
              "    .colab-df-convert:hover {\n",
              "      background-color: #E2EBFA;\n",
              "      box-shadow: 0px 1px 2px rgba(60, 64, 67, 0.3), 0px 1px 3px 1px rgba(60, 64, 67, 0.15);\n",
              "      fill: #174EA6;\n",
              "    }\n",
              "\n",
              "    [theme=dark] .colab-df-convert {\n",
              "      background-color: #3B4455;\n",
              "      fill: #D2E3FC;\n",
              "    }\n",
              "\n",
              "    [theme=dark] .colab-df-convert:hover {\n",
              "      background-color: #434B5C;\n",
              "      box-shadow: 0px 1px 3px 1px rgba(0, 0, 0, 0.15);\n",
              "      filter: drop-shadow(0px 1px 2px rgba(0, 0, 0, 0.3));\n",
              "      fill: #FFFFFF;\n",
              "    }\n",
              "  </style>\n",
              "\n",
              "      <script>\n",
              "        const buttonEl =\n",
              "          document.querySelector('#df-83715a66-15c6-4e91-beeb-be479ba60c22 button.colab-df-convert');\n",
              "        buttonEl.style.display =\n",
              "          google.colab.kernel.accessAllowed ? 'block' : 'none';\n",
              "\n",
              "        async function convertToInteractive(key) {\n",
              "          const element = document.querySelector('#df-83715a66-15c6-4e91-beeb-be479ba60c22');\n",
              "          const dataTable =\n",
              "            await google.colab.kernel.invokeFunction('convertToInteractive',\n",
              "                                                     [key], {});\n",
              "          if (!dataTable) return;\n",
              "\n",
              "          const docLinkHtml = 'Like what you see? Visit the ' +\n",
              "            '<a target=\"_blank\" href=https://colab.research.google.com/notebooks/data_table.ipynb>data table notebook</a>'\n",
              "            + ' to learn more about interactive tables.';\n",
              "          element.innerHTML = '';\n",
              "          dataTable['output_type'] = 'display_data';\n",
              "          await google.colab.output.renderOutput(dataTable, element);\n",
              "          const docLink = document.createElement('div');\n",
              "          docLink.innerHTML = docLinkHtml;\n",
              "          element.appendChild(docLink);\n",
              "        }\n",
              "      </script>\n",
              "    </div>\n",
              "  </div>\n",
              "  "
            ]
          },
          "metadata": {},
          "execution_count": 14
        }
      ],
      "source": [
        "df.head()"
      ]
    },
    {
      "cell_type": "code",
      "execution_count": null,
      "metadata": {
        "id": "5NgXtcH8OoZM"
      },
      "outputs": [],
      "source": [
        "#Now data set is free from outliers and now removing duplicates\n",
        "df.drop_duplicates(inplace=True)"
      ]
    },
    {
      "cell_type": "code",
      "execution_count": null,
      "metadata": {
        "id": "Fa_NLnrT9a9t"
      },
      "outputs": [],
      "source": [
        "# we will drop date/time column as it is not userfull for our data analysis\n",
        "lables=['unique_id','date_time_of_pickup']\n",
        "df=df.drop(lables,axis = 1)"
      ]
    },
    {
      "cell_type": "code",
      "execution_count": null,
      "metadata": {
        "colab": {
          "base_uri": "https://localhost:8080/"
        },
        "id": "USdVdgZGQYfF",
        "outputId": "d1e2870d-00de-4af3-f72d-6e89d0dbe2d6"
      },
      "outputs": [
        {
          "output_type": "stream",
          "name": "stdout",
          "text": [
            "<class 'pandas.core.frame.DataFrame'>\n",
            "Int64Index: 37795 entries, 1 to 49999\n",
            "Data columns (total 6 columns):\n",
            " #   Column                Non-Null Count  Dtype  \n",
            "---  ------                --------------  -----  \n",
            " 0   amount                37795 non-null  float64\n",
            " 1   longitude_of_pickup   37795 non-null  float64\n",
            " 2   latitude_of_pickup    37795 non-null  float64\n",
            " 3   longitude_of_dropoff  37795 non-null  float64\n",
            " 4   latitude_of_dropoff   37795 non-null  float64\n",
            " 5   no_of_passenger       37795 non-null  int64  \n",
            "dtypes: float64(5), int64(1)\n",
            "memory usage: 2.0 MB\n"
          ]
        }
      ],
      "source": [
        "df.info()"
      ]
    },
    {
      "cell_type": "code",
      "execution_count": null,
      "metadata": {
        "id": "FPDfGgDgSI1P"
      },
      "outputs": [],
      "source": [
        "#here our traget feature is 'amount'\n",
        "x=df.drop(['amount'],axis=1)\n",
        "y=df['amount']"
      ]
    },
    {
      "cell_type": "code",
      "execution_count": null,
      "metadata": {
        "colab": {
          "base_uri": "https://localhost:8080/",
          "height": 423
        },
        "id": "smFU73EjUKkZ",
        "outputId": "e2f1922f-31b1-4f8c-b102-ecb3c5878b7e"
      },
      "outputs": [
        {
          "output_type": "execute_result",
          "data": {
            "text/plain": [
              "       longitude_of_pickup  latitude_of_pickup  longitude_of_dropoff  \\\n",
              "1               -74.016048           40.711303            -73.979268   \n",
              "2               -73.982738           40.761270            -73.991242   \n",
              "3               -73.987130           40.733143            -73.991567   \n",
              "4               -73.968095           40.768008            -73.956655   \n",
              "5               -74.000964           40.731630            -73.972892   \n",
              "...                    ...                 ...                   ...   \n",
              "49995           -73.999973           40.748531            -74.016899   \n",
              "49996           -73.984756           40.768211            -73.987366   \n",
              "49997           -74.002698           40.739428            -73.998108   \n",
              "49998           -73.946062           40.777567            -73.953450   \n",
              "49999           -73.932603           40.763805            -73.932603   \n",
              "\n",
              "       latitude_of_dropoff  no_of_passenger  \n",
              "1                40.782004                1  \n",
              "2                40.750562                2  \n",
              "3                40.758092                1  \n",
              "4                40.783762                1  \n",
              "5                40.758233                1  \n",
              "...                    ...              ...  \n",
              "49995            40.705993                1  \n",
              "49996            40.760597                1  \n",
              "49997            40.759483                1  \n",
              "49998            40.779687                2  \n",
              "49999            40.763805                1  \n",
              "\n",
              "[37795 rows x 5 columns]"
            ],
            "text/html": [
              "\n",
              "  <div id=\"df-084c8eac-dfc9-4376-b64f-c4179843a8bd\">\n",
              "    <div class=\"colab-df-container\">\n",
              "      <div>\n",
              "<style scoped>\n",
              "    .dataframe tbody tr th:only-of-type {\n",
              "        vertical-align: middle;\n",
              "    }\n",
              "\n",
              "    .dataframe tbody tr th {\n",
              "        vertical-align: top;\n",
              "    }\n",
              "\n",
              "    .dataframe thead th {\n",
              "        text-align: right;\n",
              "    }\n",
              "</style>\n",
              "<table border=\"1\" class=\"dataframe\">\n",
              "  <thead>\n",
              "    <tr style=\"text-align: right;\">\n",
              "      <th></th>\n",
              "      <th>longitude_of_pickup</th>\n",
              "      <th>latitude_of_pickup</th>\n",
              "      <th>longitude_of_dropoff</th>\n",
              "      <th>latitude_of_dropoff</th>\n",
              "      <th>no_of_passenger</th>\n",
              "    </tr>\n",
              "  </thead>\n",
              "  <tbody>\n",
              "    <tr>\n",
              "      <th>1</th>\n",
              "      <td>-74.016048</td>\n",
              "      <td>40.711303</td>\n",
              "      <td>-73.979268</td>\n",
              "      <td>40.782004</td>\n",
              "      <td>1</td>\n",
              "    </tr>\n",
              "    <tr>\n",
              "      <th>2</th>\n",
              "      <td>-73.982738</td>\n",
              "      <td>40.761270</td>\n",
              "      <td>-73.991242</td>\n",
              "      <td>40.750562</td>\n",
              "      <td>2</td>\n",
              "    </tr>\n",
              "    <tr>\n",
              "      <th>3</th>\n",
              "      <td>-73.987130</td>\n",
              "      <td>40.733143</td>\n",
              "      <td>-73.991567</td>\n",
              "      <td>40.758092</td>\n",
              "      <td>1</td>\n",
              "    </tr>\n",
              "    <tr>\n",
              "      <th>4</th>\n",
              "      <td>-73.968095</td>\n",
              "      <td>40.768008</td>\n",
              "      <td>-73.956655</td>\n",
              "      <td>40.783762</td>\n",
              "      <td>1</td>\n",
              "    </tr>\n",
              "    <tr>\n",
              "      <th>5</th>\n",
              "      <td>-74.000964</td>\n",
              "      <td>40.731630</td>\n",
              "      <td>-73.972892</td>\n",
              "      <td>40.758233</td>\n",
              "      <td>1</td>\n",
              "    </tr>\n",
              "    <tr>\n",
              "      <th>...</th>\n",
              "      <td>...</td>\n",
              "      <td>...</td>\n",
              "      <td>...</td>\n",
              "      <td>...</td>\n",
              "      <td>...</td>\n",
              "    </tr>\n",
              "    <tr>\n",
              "      <th>49995</th>\n",
              "      <td>-73.999973</td>\n",
              "      <td>40.748531</td>\n",
              "      <td>-74.016899</td>\n",
              "      <td>40.705993</td>\n",
              "      <td>1</td>\n",
              "    </tr>\n",
              "    <tr>\n",
              "      <th>49996</th>\n",
              "      <td>-73.984756</td>\n",
              "      <td>40.768211</td>\n",
              "      <td>-73.987366</td>\n",
              "      <td>40.760597</td>\n",
              "      <td>1</td>\n",
              "    </tr>\n",
              "    <tr>\n",
              "      <th>49997</th>\n",
              "      <td>-74.002698</td>\n",
              "      <td>40.739428</td>\n",
              "      <td>-73.998108</td>\n",
              "      <td>40.759483</td>\n",
              "      <td>1</td>\n",
              "    </tr>\n",
              "    <tr>\n",
              "      <th>49998</th>\n",
              "      <td>-73.946062</td>\n",
              "      <td>40.777567</td>\n",
              "      <td>-73.953450</td>\n",
              "      <td>40.779687</td>\n",
              "      <td>2</td>\n",
              "    </tr>\n",
              "    <tr>\n",
              "      <th>49999</th>\n",
              "      <td>-73.932603</td>\n",
              "      <td>40.763805</td>\n",
              "      <td>-73.932603</td>\n",
              "      <td>40.763805</td>\n",
              "      <td>1</td>\n",
              "    </tr>\n",
              "  </tbody>\n",
              "</table>\n",
              "<p>37795 rows × 5 columns</p>\n",
              "</div>\n",
              "      <button class=\"colab-df-convert\" onclick=\"convertToInteractive('df-084c8eac-dfc9-4376-b64f-c4179843a8bd')\"\n",
              "              title=\"Convert this dataframe to an interactive table.\"\n",
              "              style=\"display:none;\">\n",
              "        \n",
              "  <svg xmlns=\"http://www.w3.org/2000/svg\" height=\"24px\"viewBox=\"0 0 24 24\"\n",
              "       width=\"24px\">\n",
              "    <path d=\"M0 0h24v24H0V0z\" fill=\"none\"/>\n",
              "    <path d=\"M18.56 5.44l.94 2.06.94-2.06 2.06-.94-2.06-.94-.94-2.06-.94 2.06-2.06.94zm-11 1L8.5 8.5l.94-2.06 2.06-.94-2.06-.94L8.5 2.5l-.94 2.06-2.06.94zm10 10l.94 2.06.94-2.06 2.06-.94-2.06-.94-.94-2.06-.94 2.06-2.06.94z\"/><path d=\"M17.41 7.96l-1.37-1.37c-.4-.4-.92-.59-1.43-.59-.52 0-1.04.2-1.43.59L10.3 9.45l-7.72 7.72c-.78.78-.78 2.05 0 2.83L4 21.41c.39.39.9.59 1.41.59.51 0 1.02-.2 1.41-.59l7.78-7.78 2.81-2.81c.8-.78.8-2.07 0-2.86zM5.41 20L4 18.59l7.72-7.72 1.47 1.35L5.41 20z\"/>\n",
              "  </svg>\n",
              "      </button>\n",
              "      \n",
              "  <style>\n",
              "    .colab-df-container {\n",
              "      display:flex;\n",
              "      flex-wrap:wrap;\n",
              "      gap: 12px;\n",
              "    }\n",
              "\n",
              "    .colab-df-convert {\n",
              "      background-color: #E8F0FE;\n",
              "      border: none;\n",
              "      border-radius: 50%;\n",
              "      cursor: pointer;\n",
              "      display: none;\n",
              "      fill: #1967D2;\n",
              "      height: 32px;\n",
              "      padding: 0 0 0 0;\n",
              "      width: 32px;\n",
              "    }\n",
              "\n",
              "    .colab-df-convert:hover {\n",
              "      background-color: #E2EBFA;\n",
              "      box-shadow: 0px 1px 2px rgba(60, 64, 67, 0.3), 0px 1px 3px 1px rgba(60, 64, 67, 0.15);\n",
              "      fill: #174EA6;\n",
              "    }\n",
              "\n",
              "    [theme=dark] .colab-df-convert {\n",
              "      background-color: #3B4455;\n",
              "      fill: #D2E3FC;\n",
              "    }\n",
              "\n",
              "    [theme=dark] .colab-df-convert:hover {\n",
              "      background-color: #434B5C;\n",
              "      box-shadow: 0px 1px 3px 1px rgba(0, 0, 0, 0.15);\n",
              "      filter: drop-shadow(0px 1px 2px rgba(0, 0, 0, 0.3));\n",
              "      fill: #FFFFFF;\n",
              "    }\n",
              "  </style>\n",
              "\n",
              "      <script>\n",
              "        const buttonEl =\n",
              "          document.querySelector('#df-084c8eac-dfc9-4376-b64f-c4179843a8bd button.colab-df-convert');\n",
              "        buttonEl.style.display =\n",
              "          google.colab.kernel.accessAllowed ? 'block' : 'none';\n",
              "\n",
              "        async function convertToInteractive(key) {\n",
              "          const element = document.querySelector('#df-084c8eac-dfc9-4376-b64f-c4179843a8bd');\n",
              "          const dataTable =\n",
              "            await google.colab.kernel.invokeFunction('convertToInteractive',\n",
              "                                                     [key], {});\n",
              "          if (!dataTable) return;\n",
              "\n",
              "          const docLinkHtml = 'Like what you see? Visit the ' +\n",
              "            '<a target=\"_blank\" href=https://colab.research.google.com/notebooks/data_table.ipynb>data table notebook</a>'\n",
              "            + ' to learn more about interactive tables.';\n",
              "          element.innerHTML = '';\n",
              "          dataTable['output_type'] = 'display_data';\n",
              "          await google.colab.output.renderOutput(dataTable, element);\n",
              "          const docLink = document.createElement('div');\n",
              "          docLink.innerHTML = docLinkHtml;\n",
              "          element.appendChild(docLink);\n",
              "        }\n",
              "      </script>\n",
              "    </div>\n",
              "  </div>\n",
              "  "
            ]
          },
          "metadata": {},
          "execution_count": 19
        }
      ],
      "source": [
        "x"
      ]
    },
    {
      "cell_type": "code",
      "execution_count": null,
      "metadata": {
        "colab": {
          "base_uri": "https://localhost:8080/"
        },
        "id": "LQd7CNILUOkc",
        "outputId": "79a70bce-b604-455b-c281-00bdef711568"
      },
      "outputs": [
        {
          "output_type": "execute_result",
          "data": {
            "text/plain": [
              "1        16.9\n",
              "2         5.7\n",
              "3         7.7\n",
              "4         5.3\n",
              "5        12.1\n",
              "         ... \n",
              "49995    15.0\n",
              "49996     7.5\n",
              "49997     6.9\n",
              "49998     4.5\n",
              "49999    10.9\n",
              "Name: amount, Length: 37795, dtype: float64"
            ]
          },
          "metadata": {},
          "execution_count": 20
        }
      ],
      "source": [
        "y"
      ]
    },
    {
      "cell_type": "code",
      "execution_count": null,
      "metadata": {
        "id": "MjcNQI2KURfq"
      },
      "outputs": [],
      "source": [
        "# Spliting into training set and testing set\n",
        "\n",
        "x_train,x_test,y_train,y_test=train_test_split(x,y,test_size=0.2)"
      ]
    },
    {
      "cell_type": "code",
      "execution_count": null,
      "metadata": {
        "colab": {
          "base_uri": "https://localhost:8080/"
        },
        "id": "5st8HzsOU2yg",
        "outputId": "81fc3525-90f4-458a-d821-1002f210384d"
      },
      "outputs": [
        {
          "output_type": "execute_result",
          "data": {
            "text/plain": [
              "(30236, 5)"
            ]
          },
          "metadata": {},
          "execution_count": 22
        }
      ],
      "source": [
        "x_train.shape"
      ]
    },
    {
      "cell_type": "code",
      "execution_count": null,
      "metadata": {
        "colab": {
          "base_uri": "https://localhost:8080/"
        },
        "id": "0WTuzzlkVnTL",
        "outputId": "51f524de-c5fb-4309-fa08-2943c4b22180"
      },
      "outputs": [
        {
          "output_type": "execute_result",
          "data": {
            "text/plain": [
              "(30236,)"
            ]
          },
          "metadata": {},
          "execution_count": 23
        }
      ],
      "source": [
        "y_train.shape"
      ]
    },
    {
      "cell_type": "markdown",
      "metadata": {
        "id": "vsmEEv0lYhAt"
      },
      "source": [
        "LINEAR REGRESSION MODEL"
      ]
    },
    {
      "cell_type": "code",
      "execution_count": null,
      "metadata": {
        "colab": {
          "base_uri": "https://localhost:8080/"
        },
        "id": "DgJ1prmaWNuF",
        "outputId": "889c7214-9916-4832-c12b-db59d27f007f"
      },
      "outputs": [
        {
          "output_type": "execute_result",
          "data": {
            "text/plain": [
              "LinearRegression()"
            ]
          },
          "metadata": {},
          "execution_count": 24
        }
      ],
      "source": [
        "model1=LinearRegression()\n",
        "model1.fit(x_train,y_train)"
      ]
    },
    {
      "cell_type": "code",
      "execution_count": null,
      "metadata": {
        "colab": {
          "base_uri": "https://localhost:8080/"
        },
        "id": "C1xMyjNSXScU",
        "outputId": "ae48b8d5-04a8-4c5c-cc49-809d4a9ed319"
      },
      "outputs": [
        {
          "output_type": "execute_result",
          "data": {
            "text/plain": [
              "array([8.48641095, 8.97223639, 8.64787304, ..., 9.10419385, 9.37975629,\n",
              "       8.91429106])"
            ]
          },
          "metadata": {},
          "execution_count": 25
        }
      ],
      "source": [
        "model1.predict(x_test)"
      ]
    },
    {
      "cell_type": "markdown",
      "metadata": {
        "id": "H4nB1RaQYW_J"
      },
      "source": [
        "LINEAR REGRESSION EVALUTION"
      ]
    },
    {
      "cell_type": "code",
      "execution_count": null,
      "metadata": {
        "colab": {
          "base_uri": "https://localhost:8080/"
        },
        "id": "mnftSkKbXpbW",
        "outputId": "96e81e20-4e3c-400e-8bc1-f2e3219c8307"
      },
      "outputs": [
        {
          "output_type": "execute_result",
          "data": {
            "text/plain": [
              "0.021153752132498038"
            ]
          },
          "metadata": {},
          "execution_count": 26
        }
      ],
      "source": [
        "model1.score(x_train,y_train)"
      ]
    },
    {
      "cell_type": "code",
      "execution_count": null,
      "metadata": {
        "colab": {
          "base_uri": "https://localhost:8080/"
        },
        "id": "D97JszNsX9Rk",
        "outputId": "3c76fcf7-b252-4186-f5d7-ee30dfaab118"
      },
      "outputs": [
        {
          "output_type": "execute_result",
          "data": {
            "text/plain": [
              "0.021153099179289758"
            ]
          },
          "metadata": {},
          "execution_count": 27
        }
      ],
      "source": [
        "model1.score(x_test,y_test)"
      ]
    },
    {
      "cell_type": "markdown",
      "metadata": {
        "id": "wTXvGshIYsOc"
      },
      "source": [
        "KNN MODEL"
      ]
    },
    {
      "cell_type": "code",
      "execution_count": null,
      "metadata": {
        "colab": {
          "base_uri": "https://localhost:8080/"
        },
        "id": "LuHqqkPaY1Jh",
        "outputId": "9cfb4eed-8343-421c-b44e-433d1686aa7d"
      },
      "outputs": [
        {
          "output_type": "execute_result",
          "data": {
            "text/plain": [
              "KNeighborsRegressor()"
            ]
          },
          "metadata": {},
          "execution_count": 28
        }
      ],
      "source": [
        "model2=KNeighborsRegressor()\n",
        "model2.fit(x_train,y_train)"
      ]
    },
    {
      "cell_type": "markdown",
      "metadata": {
        "id": "ZpwLxmWvZd4S"
      },
      "source": [
        "KNN EVALUTION"
      ]
    },
    {
      "cell_type": "code",
      "execution_count": null,
      "metadata": {
        "colab": {
          "base_uri": "https://localhost:8080/"
        },
        "id": "HwCwzISXZYYj",
        "outputId": "fc3cd2ab-8200-441d-85a0-c69f893ddbba"
      },
      "outputs": [
        {
          "output_type": "execute_result",
          "data": {
            "text/plain": [
              "0.7788865302238317"
            ]
          },
          "metadata": {},
          "execution_count": 29
        }
      ],
      "source": [
        "model2.score(x_train,y_train)"
      ]
    },
    {
      "cell_type": "code",
      "execution_count": null,
      "metadata": {
        "colab": {
          "base_uri": "https://localhost:8080/"
        },
        "id": "sSVSEKOCZwc_",
        "outputId": "1d321131-6ba9-4454-be27-d29cc88c6c4a"
      },
      "outputs": [
        {
          "output_type": "execute_result",
          "data": {
            "text/plain": [
              "0.6372624741939761"
            ]
          },
          "metadata": {},
          "execution_count": 30
        }
      ],
      "source": [
        "model2.score(x_test,y_test)"
      ]
    },
    {
      "cell_type": "markdown",
      "metadata": {
        "id": "82jhHOq4anDo"
      },
      "source": [
        "GRADIENT BOOST REGRESSION"
      ]
    },
    {
      "cell_type": "code",
      "execution_count": null,
      "metadata": {
        "colab": {
          "base_uri": "https://localhost:8080/"
        },
        "id": "iqflH6eSak2q",
        "outputId": "32f629ce-850c-4f49-d6c1-3c07269abd33"
      },
      "outputs": [
        {
          "output_type": "execute_result",
          "data": {
            "text/plain": [
              "GradientBoostingRegressor()"
            ]
          },
          "metadata": {},
          "execution_count": 31
        }
      ],
      "source": [
        "model3=GradientBoostingRegressor()\n",
        "model3.fit(x_train,y_train)"
      ]
    },
    {
      "cell_type": "markdown",
      "metadata": {
        "id": "8pFZBeV2cqBn"
      },
      "source": [
        "GRADIENT BOOST REGRESSION EVALUTION"
      ]
    },
    {
      "cell_type": "code",
      "execution_count": null,
      "metadata": {
        "colab": {
          "base_uri": "https://localhost:8080/"
        },
        "id": "g839a0kAc2Wc",
        "outputId": "8aebcee6-cd26-414d-be7c-bcff60b8c175"
      },
      "outputs": [
        {
          "output_type": "execute_result",
          "data": {
            "text/plain": [
              "0.5603832693058555"
            ]
          },
          "metadata": {},
          "execution_count": 32
        }
      ],
      "source": [
        "model3.score(x_train,y_train)"
      ]
    },
    {
      "cell_type": "code",
      "execution_count": null,
      "metadata": {
        "colab": {
          "base_uri": "https://localhost:8080/"
        },
        "id": "0JN7j3bSc_4v",
        "outputId": "c7dd8d8e-33f4-4b9d-daad-4a22f33debd2"
      },
      "outputs": [
        {
          "output_type": "execute_result",
          "data": {
            "text/plain": [
              "0.5220885651254774"
            ]
          },
          "metadata": {},
          "execution_count": 33
        }
      ],
      "source": [
        "model3.score(x_test,y_test)"
      ]
    },
    {
      "cell_type": "code",
      "execution_count": null,
      "metadata": {
        "colab": {
          "base_uri": "https://localhost:8080/",
          "height": 237
        },
        "id": "I7MYpFZqgWYy",
        "outputId": "310c28aa-0105-46b9-9033-baa860fd5e4b"
      },
      "outputs": [
        {
          "output_type": "execute_result",
          "data": {
            "text/plain": [
              "                        amount  longitude_of_pickup  latitude_of_pickup  \\\n",
              "amount                1.000000            -0.071564           -0.096823   \n",
              "longitude_of_pickup  -0.071564             1.000000            0.676612   \n",
              "latitude_of_pickup   -0.096823             0.676612            1.000000   \n",
              "longitude_of_dropoff  0.007480             0.404582            0.316545   \n",
              "latitude_of_dropoff  -0.096864             0.344985            0.513831   \n",
              "no_of_passenger       0.016455            -0.025638           -0.018305   \n",
              "\n",
              "                      longitude_of_dropoff  latitude_of_dropoff  \\\n",
              "amount                            0.007480            -0.096864   \n",
              "longitude_of_pickup               0.404582             0.344985   \n",
              "latitude_of_pickup                0.316545             0.513831   \n",
              "longitude_of_dropoff              1.000000             0.609004   \n",
              "latitude_of_dropoff               0.609004             1.000000   \n",
              "no_of_passenger                  -0.016883            -0.005585   \n",
              "\n",
              "                      no_of_passenger  \n",
              "amount                       0.016455  \n",
              "longitude_of_pickup         -0.025638  \n",
              "latitude_of_pickup          -0.018305  \n",
              "longitude_of_dropoff        -0.016883  \n",
              "latitude_of_dropoff         -0.005585  \n",
              "no_of_passenger              1.000000  "
            ],
            "text/html": [
              "\n",
              "  <div id=\"df-b38e65ae-aaf7-4961-9007-795d9e64bf1c\">\n",
              "    <div class=\"colab-df-container\">\n",
              "      <div>\n",
              "<style scoped>\n",
              "    .dataframe tbody tr th:only-of-type {\n",
              "        vertical-align: middle;\n",
              "    }\n",
              "\n",
              "    .dataframe tbody tr th {\n",
              "        vertical-align: top;\n",
              "    }\n",
              "\n",
              "    .dataframe thead th {\n",
              "        text-align: right;\n",
              "    }\n",
              "</style>\n",
              "<table border=\"1\" class=\"dataframe\">\n",
              "  <thead>\n",
              "    <tr style=\"text-align: right;\">\n",
              "      <th></th>\n",
              "      <th>amount</th>\n",
              "      <th>longitude_of_pickup</th>\n",
              "      <th>latitude_of_pickup</th>\n",
              "      <th>longitude_of_dropoff</th>\n",
              "      <th>latitude_of_dropoff</th>\n",
              "      <th>no_of_passenger</th>\n",
              "    </tr>\n",
              "  </thead>\n",
              "  <tbody>\n",
              "    <tr>\n",
              "      <th>amount</th>\n",
              "      <td>1.000000</td>\n",
              "      <td>-0.071564</td>\n",
              "      <td>-0.096823</td>\n",
              "      <td>0.007480</td>\n",
              "      <td>-0.096864</td>\n",
              "      <td>0.016455</td>\n",
              "    </tr>\n",
              "    <tr>\n",
              "      <th>longitude_of_pickup</th>\n",
              "      <td>-0.071564</td>\n",
              "      <td>1.000000</td>\n",
              "      <td>0.676612</td>\n",
              "      <td>0.404582</td>\n",
              "      <td>0.344985</td>\n",
              "      <td>-0.025638</td>\n",
              "    </tr>\n",
              "    <tr>\n",
              "      <th>latitude_of_pickup</th>\n",
              "      <td>-0.096823</td>\n",
              "      <td>0.676612</td>\n",
              "      <td>1.000000</td>\n",
              "      <td>0.316545</td>\n",
              "      <td>0.513831</td>\n",
              "      <td>-0.018305</td>\n",
              "    </tr>\n",
              "    <tr>\n",
              "      <th>longitude_of_dropoff</th>\n",
              "      <td>0.007480</td>\n",
              "      <td>0.404582</td>\n",
              "      <td>0.316545</td>\n",
              "      <td>1.000000</td>\n",
              "      <td>0.609004</td>\n",
              "      <td>-0.016883</td>\n",
              "    </tr>\n",
              "    <tr>\n",
              "      <th>latitude_of_dropoff</th>\n",
              "      <td>-0.096864</td>\n",
              "      <td>0.344985</td>\n",
              "      <td>0.513831</td>\n",
              "      <td>0.609004</td>\n",
              "      <td>1.000000</td>\n",
              "      <td>-0.005585</td>\n",
              "    </tr>\n",
              "    <tr>\n",
              "      <th>no_of_passenger</th>\n",
              "      <td>0.016455</td>\n",
              "      <td>-0.025638</td>\n",
              "      <td>-0.018305</td>\n",
              "      <td>-0.016883</td>\n",
              "      <td>-0.005585</td>\n",
              "      <td>1.000000</td>\n",
              "    </tr>\n",
              "  </tbody>\n",
              "</table>\n",
              "</div>\n",
              "      <button class=\"colab-df-convert\" onclick=\"convertToInteractive('df-b38e65ae-aaf7-4961-9007-795d9e64bf1c')\"\n",
              "              title=\"Convert this dataframe to an interactive table.\"\n",
              "              style=\"display:none;\">\n",
              "        \n",
              "  <svg xmlns=\"http://www.w3.org/2000/svg\" height=\"24px\"viewBox=\"0 0 24 24\"\n",
              "       width=\"24px\">\n",
              "    <path d=\"M0 0h24v24H0V0z\" fill=\"none\"/>\n",
              "    <path d=\"M18.56 5.44l.94 2.06.94-2.06 2.06-.94-2.06-.94-.94-2.06-.94 2.06-2.06.94zm-11 1L8.5 8.5l.94-2.06 2.06-.94-2.06-.94L8.5 2.5l-.94 2.06-2.06.94zm10 10l.94 2.06.94-2.06 2.06-.94-2.06-.94-.94-2.06-.94 2.06-2.06.94z\"/><path d=\"M17.41 7.96l-1.37-1.37c-.4-.4-.92-.59-1.43-.59-.52 0-1.04.2-1.43.59L10.3 9.45l-7.72 7.72c-.78.78-.78 2.05 0 2.83L4 21.41c.39.39.9.59 1.41.59.51 0 1.02-.2 1.41-.59l7.78-7.78 2.81-2.81c.8-.78.8-2.07 0-2.86zM5.41 20L4 18.59l7.72-7.72 1.47 1.35L5.41 20z\"/>\n",
              "  </svg>\n",
              "      </button>\n",
              "      \n",
              "  <style>\n",
              "    .colab-df-container {\n",
              "      display:flex;\n",
              "      flex-wrap:wrap;\n",
              "      gap: 12px;\n",
              "    }\n",
              "\n",
              "    .colab-df-convert {\n",
              "      background-color: #E8F0FE;\n",
              "      border: none;\n",
              "      border-radius: 50%;\n",
              "      cursor: pointer;\n",
              "      display: none;\n",
              "      fill: #1967D2;\n",
              "      height: 32px;\n",
              "      padding: 0 0 0 0;\n",
              "      width: 32px;\n",
              "    }\n",
              "\n",
              "    .colab-df-convert:hover {\n",
              "      background-color: #E2EBFA;\n",
              "      box-shadow: 0px 1px 2px rgba(60, 64, 67, 0.3), 0px 1px 3px 1px rgba(60, 64, 67, 0.15);\n",
              "      fill: #174EA6;\n",
              "    }\n",
              "\n",
              "    [theme=dark] .colab-df-convert {\n",
              "      background-color: #3B4455;\n",
              "      fill: #D2E3FC;\n",
              "    }\n",
              "\n",
              "    [theme=dark] .colab-df-convert:hover {\n",
              "      background-color: #434B5C;\n",
              "      box-shadow: 0px 1px 3px 1px rgba(0, 0, 0, 0.15);\n",
              "      filter: drop-shadow(0px 1px 2px rgba(0, 0, 0, 0.3));\n",
              "      fill: #FFFFFF;\n",
              "    }\n",
              "  </style>\n",
              "\n",
              "      <script>\n",
              "        const buttonEl =\n",
              "          document.querySelector('#df-b38e65ae-aaf7-4961-9007-795d9e64bf1c button.colab-df-convert');\n",
              "        buttonEl.style.display =\n",
              "          google.colab.kernel.accessAllowed ? 'block' : 'none';\n",
              "\n",
              "        async function convertToInteractive(key) {\n",
              "          const element = document.querySelector('#df-b38e65ae-aaf7-4961-9007-795d9e64bf1c');\n",
              "          const dataTable =\n",
              "            await google.colab.kernel.invokeFunction('convertToInteractive',\n",
              "                                                     [key], {});\n",
              "          if (!dataTable) return;\n",
              "\n",
              "          const docLinkHtml = 'Like what you see? Visit the ' +\n",
              "            '<a target=\"_blank\" href=https://colab.research.google.com/notebooks/data_table.ipynb>data table notebook</a>'\n",
              "            + ' to learn more about interactive tables.';\n",
              "          element.innerHTML = '';\n",
              "          dataTable['output_type'] = 'display_data';\n",
              "          await google.colab.output.renderOutput(dataTable, element);\n",
              "          const docLink = document.createElement('div');\n",
              "          docLink.innerHTML = docLinkHtml;\n",
              "          element.appendChild(docLink);\n",
              "        }\n",
              "      </script>\n",
              "    </div>\n",
              "  </div>\n",
              "  "
            ]
          },
          "metadata": {},
          "execution_count": 39
        }
      ],
      "source": [
        "#correlations between columns\n",
        "corr1 = df.corr()\n",
        "corr1"
      ]
    },
    {
      "cell_type": "code",
      "source": [
        "plt.figure(figsize=(8,8))\n",
        "sns.heatmap(corr1,annot=True,cmap=\"coolwarm\")"
      ],
      "metadata": {
        "colab": {
          "base_uri": "https://localhost:8080/",
          "height": 596
        },
        "id": "Rk247rOMpTw9",
        "outputId": "0ee21889-31be-4dec-d9c0-94e843aabac5"
      },
      "execution_count": null,
      "outputs": [
        {
          "output_type": "execute_result",
          "data": {
            "text/plain": [
              "<AxesSubplot:>"
            ]
          },
          "metadata": {},
          "execution_count": 44
        },
        {
          "output_type": "display_data",
          "data": {
            "text/plain": [
              "<Figure size 576x576 with 2 Axes>"
            ],
            "image/png": "[encoded data removed]"
          },
          "metadata": {
            "needs_background": "light"
          }
        }
      ]
    },
    {
      "cell_type": "markdown",
      "metadata": {
        "id": "1TOLNYCY21aR"
      },
      "source": [
        "----------------------------------------------------------------------------------------"
      ]
    },
    {
      "cell_type": "markdown",
      "metadata": {
        "id": "glY_s94mdFjN"
      },
      "source": [
        "HERE WE CAN SEE THAT ACCURACY OF OUR ODEL IS NOT THAT GOOD AS CORRELATION BETWEEN LATTIUDE OF PICKUP AND DROP AND LONGITUDE OF PICKUP AND DROP DOES NOT HAVE GOOD CORRELATION"
      ]
    },
    {
      "cell_type": "markdown",
      "metadata": {
        "id": "MUqMwC6kg3Nk"
      },
      "source": [
        "SO LET US CHECK FOR DELTA LONGITUDE AND DELTA LATITUDE"
      ]
    },
    {
      "cell_type": "code",
      "execution_count": null,
      "metadata": {
        "id": "JS05v1LBjuHZ"
      },
      "outputs": [],
      "source": [
        "df['longitude_of_pickup']=abs(df['longitude_of_pickup']-df['longitude_of_dropoff'])\n",
        "df['latitude_of_pickup']=abs(df['latitude_of_pickup']-df['latitude_of_dropoff'])\n",
        "column=['longitude_of_dropoff','latitude_of_dropoff']\n",
        "df.drop(column,axis=1,inplace=True)"
      ]
    },
    {
      "cell_type": "code",
      "source": [
        "df2 = df.rename(columns = {'longitude_of_pickup': 'Delta_longitude' , 'latitude_of_pickup': 'Delta_latitude'})"
      ],
      "metadata": {
        "id": "ksyx6uJIhTjT"
      },
      "execution_count": null,
      "outputs": []
    },
    {
      "cell_type": "code",
      "execution_count": null,
      "metadata": {
        "colab": {
          "base_uri": "https://localhost:8080/",
          "height": 206
        },
        "id": "Jy1U1guvmeKy",
        "outputId": "9aa2a650-a233-445b-b479-ee58f3db61e0"
      },
      "outputs": [
        {
          "output_type": "execute_result",
          "data": {
            "text/plain": [
              "   amount  Delta_longitude  Delta_latitude  no_of_passenger\n",
              "1    16.9         0.036780        0.070701                1\n",
              "2     5.7         0.008504        0.010708                2\n",
              "3     7.7         0.004437        0.024949                1\n",
              "4     5.3         0.011440        0.015754                1\n",
              "5    12.1         0.028072        0.026603                1"
            ],
            "text/html": [
              "\n",
              "  <div id=\"df-ecd1d55c-3510-48fc-a231-4fc995d6b48a\">\n",
              "    <div class=\"colab-df-container\">\n",
              "      <div>\n",
              "<style scoped>\n",
              "    .dataframe tbody tr th:only-of-type {\n",
              "        vertical-align: middle;\n",
              "    }\n",
              "\n",
              "    .dataframe tbody tr th {\n",
              "        vertical-align: top;\n",
              "    }\n",
              "\n",
              "    .dataframe thead th {\n",
              "        text-align: right;\n",
              "    }\n",
              "</style>\n",
              "<table border=\"1\" class=\"dataframe\">\n",
              "  <thead>\n",
              "    <tr style=\"text-align: right;\">\n",
              "      <th></th>\n",
              "      <th>amount</th>\n",
              "      <th>Delta_longitude</th>\n",
              "      <th>Delta_latitude</th>\n",
              "      <th>no_of_passenger</th>\n",
              "    </tr>\n",
              "  </thead>\n",
              "  <tbody>\n",
              "    <tr>\n",
              "      <th>1</th>\n",
              "      <td>16.9</td>\n",
              "      <td>0.036780</td>\n",
              "      <td>0.070701</td>\n",
              "      <td>1</td>\n",
              "    </tr>\n",
              "    <tr>\n",
              "      <th>2</th>\n",
              "      <td>5.7</td>\n",
              "      <td>0.008504</td>\n",
              "      <td>0.010708</td>\n",
              "      <td>2</td>\n",
              "    </tr>\n",
              "    <tr>\n",
              "      <th>3</th>\n",
              "      <td>7.7</td>\n",
              "      <td>0.004437</td>\n",
              "      <td>0.024949</td>\n",
              "      <td>1</td>\n",
              "    </tr>\n",
              "    <tr>\n",
              "      <th>4</th>\n",
              "      <td>5.3</td>\n",
              "      <td>0.011440</td>\n",
              "      <td>0.015754</td>\n",
              "      <td>1</td>\n",
              "    </tr>\n",
              "    <tr>\n",
              "      <th>5</th>\n",
              "      <td>12.1</td>\n",
              "      <td>0.028072</td>\n",
              "      <td>0.026603</td>\n",
              "      <td>1</td>\n",
              "    </tr>\n",
              "  </tbody>\n",
              "</table>\n",
              "</div>\n",
              "      <button class=\"colab-df-convert\" onclick=\"convertToInteractive('df-ecd1d55c-3510-48fc-a231-4fc995d6b48a')\"\n",
              "              title=\"Convert this dataframe to an interactive table.\"\n",
              "              style=\"display:none;\">\n",
              "        \n",
              "  <svg xmlns=\"http://www.w3.org/2000/svg\" height=\"24px\"viewBox=\"0 0 24 24\"\n",
              "       width=\"24px\">\n",
              "    <path d=\"M0 0h24v24H0V0z\" fill=\"none\"/>\n",
              "    <path d=\"M18.56 5.44l.94 2.06.94-2.06 2.06-.94-2.06-.94-.94-2.06-.94 2.06-2.06.94zm-11 1L8.5 8.5l.94-2.06 2.06-.94-2.06-.94L8.5 2.5l-.94 2.06-2.06.94zm10 10l.94 2.06.94-2.06 2.06-.94-2.06-.94-.94-2.06-.94 2.06-2.06.94z\"/><path d=\"M17.41 7.96l-1.37-1.37c-.4-.4-.92-.59-1.43-.59-.52 0-1.04.2-1.43.59L10.3 9.45l-7.72 7.72c-.78.78-.78 2.05 0 2.83L4 21.41c.39.39.9.59 1.41.59.51 0 1.02-.2 1.41-.59l7.78-7.78 2.81-2.81c.8-.78.8-2.07 0-2.86zM5.41 20L4 18.59l7.72-7.72 1.47 1.35L5.41 20z\"/>\n",
              "  </svg>\n",
              "      </button>\n",
              "      \n",
              "  <style>\n",
              "    .colab-df-container {\n",
              "      display:flex;\n",
              "      flex-wrap:wrap;\n",
              "      gap: 12px;\n",
              "    }\n",
              "\n",
              "    .colab-df-convert {\n",
              "      background-color: #E8F0FE;\n",
              "      border: none;\n",
              "      border-radius: 50%;\n",
              "      cursor: pointer;\n",
              "      display: none;\n",
              "      fill: #1967D2;\n",
              "      height: 32px;\n",
              "      padding: 0 0 0 0;\n",
              "      width: 32px;\n",
              "    }\n",
              "\n",
              "    .colab-df-convert:hover {\n",
              "      background-color: #E2EBFA;\n",
              "      box-shadow: 0px 1px 2px rgba(60, 64, 67, 0.3), 0px 1px 3px 1px rgba(60, 64, 67, 0.15);\n",
              "      fill: #174EA6;\n",
              "    }\n",
              "\n",
              "    [theme=dark] .colab-df-convert {\n",
              "      background-color: #3B4455;\n",
              "      fill: #D2E3FC;\n",
              "    }\n",
              "\n",
              "    [theme=dark] .colab-df-convert:hover {\n",
              "      background-color: #434B5C;\n",
              "      box-shadow: 0px 1px 3px 1px rgba(0, 0, 0, 0.15);\n",
              "      filter: drop-shadow(0px 1px 2px rgba(0, 0, 0, 0.3));\n",
              "      fill: #FFFFFF;\n",
              "    }\n",
              "  </style>\n",
              "\n",
              "      <script>\n",
              "        const buttonEl =\n",
              "          document.querySelector('#df-ecd1d55c-3510-48fc-a231-4fc995d6b48a button.colab-df-convert');\n",
              "        buttonEl.style.display =\n",
              "          google.colab.kernel.accessAllowed ? 'block' : 'none';\n",
              "\n",
              "        async function convertToInteractive(key) {\n",
              "          const element = document.querySelector('#df-ecd1d55c-3510-48fc-a231-4fc995d6b48a');\n",
              "          const dataTable =\n",
              "            await google.colab.kernel.invokeFunction('convertToInteractive',\n",
              "                                                     [key], {});\n",
              "          if (!dataTable) return;\n",
              "\n",
              "          const docLinkHtml = 'Like what you see? Visit the ' +\n",
              "            '<a target=\"_blank\" href=https://colab.research.google.com/notebooks/data_table.ipynb>data table notebook</a>'\n",
              "            + ' to learn more about interactive tables.';\n",
              "          element.innerHTML = '';\n",
              "          dataTable['output_type'] = 'display_data';\n",
              "          await google.colab.output.renderOutput(dataTable, element);\n",
              "          const docLink = document.createElement('div');\n",
              "          docLink.innerHTML = docLinkHtml;\n",
              "          element.appendChild(docLink);\n",
              "        }\n",
              "      </script>\n",
              "    </div>\n",
              "  </div>\n",
              "  "
            ]
          },
          "metadata": {},
          "execution_count": 47
        }
      ],
      "source": [
        "df2.head()"
      ]
    },
    {
      "cell_type": "code",
      "source": [
        "df2.describe()"
      ],
      "metadata": {
        "colab": {
          "base_uri": "https://localhost:8080/",
          "height": 300
        },
        "id": "4TMVobMFh6gc",
        "outputId": "5c67adae-85ec-4a61-d595-0b0711504a4e"
      },
      "execution_count": null,
      "outputs": [
        {
          "output_type": "execute_result",
          "data": {
            "text/plain": [
              "             amount  Delta_longitude  Delta_latitude  no_of_passenger\n",
              "count  37795.000000     37795.000000    37795.000000     37795.000000\n",
              "mean       8.713241         0.014161        0.016940         1.258950\n",
              "std        3.932530         0.011498        0.014147         0.546573\n",
              "min       -2.500000         0.000000        0.000000         0.000000\n",
              "25%        5.700000         0.005603        0.006563         1.000000\n",
              "50%        7.700000         0.011392        0.012948         1.000000\n",
              "75%       10.900000         0.019784        0.023505         1.000000\n",
              "max       22.100000         0.082855        0.098895         3.000000"
            ],
            "text/html": [
              "\n",
              "  <div id=\"df-fb744935-3d66-4e8d-bcff-264f2f511ac9\">\n",
              "    <div class=\"colab-df-container\">\n",
              "      <div>\n",
              "<style scoped>\n",
              "    .dataframe tbody tr th:only-of-type {\n",
              "        vertical-align: middle;\n",
              "    }\n",
              "\n",
              "    .dataframe tbody tr th {\n",
              "        vertical-align: top;\n",
              "    }\n",
              "\n",
              "    .dataframe thead th {\n",
              "        text-align: right;\n",
              "    }\n",
              "</style>\n",
              "<table border=\"1\" class=\"dataframe\">\n",
              "  <thead>\n",
              "    <tr style=\"text-align: right;\">\n",
              "      <th></th>\n",
              "      <th>amount</th>\n",
              "      <th>Delta_longitude</th>\n",
              "      <th>Delta_latitude</th>\n",
              "      <th>no_of_passenger</th>\n",
              "    </tr>\n",
              "  </thead>\n",
              "  <tbody>\n",
              "    <tr>\n",
              "      <th>count</th>\n",
              "      <td>37795.000000</td>\n",
              "      <td>37795.000000</td>\n",
              "      <td>37795.000000</td>\n",
              "      <td>37795.000000</td>\n",
              "    </tr>\n",
              "    <tr>\n",
              "      <th>mean</th>\n",
              "      <td>8.713241</td>\n",
              "      <td>0.014161</td>\n",
              "      <td>0.016940</td>\n",
              "      <td>1.258950</td>\n",
              "    </tr>\n",
              "    <tr>\n",
              "      <th>std</th>\n",
              "      <td>3.932530</td>\n",
              "      <td>0.011498</td>\n",
              "      <td>0.014147</td>\n",
              "      <td>0.546573</td>\n",
              "    </tr>\n",
              "    <tr>\n",
              "      <th>min</th>\n",
              "      <td>-2.500000</td>\n",
              "      <td>0.000000</td>\n",
              "      <td>0.000000</td>\n",
              "      <td>0.000000</td>\n",
              "    </tr>\n",
              "    <tr>\n",
              "      <th>25%</th>\n",
              "      <td>5.700000</td>\n",
              "      <td>0.005603</td>\n",
              "      <td>0.006563</td>\n",
              "      <td>1.000000</td>\n",
              "    </tr>\n",
              "    <tr>\n",
              "      <th>50%</th>\n",
              "      <td>7.700000</td>\n",
              "      <td>0.011392</td>\n",
              "      <td>0.012948</td>\n",
              "      <td>1.000000</td>\n",
              "    </tr>\n",
              "    <tr>\n",
              "      <th>75%</th>\n",
              "      <td>10.900000</td>\n",
              "      <td>0.019784</td>\n",
              "      <td>0.023505</td>\n",
              "      <td>1.000000</td>\n",
              "    </tr>\n",
              "    <tr>\n",
              "      <th>max</th>\n",
              "      <td>22.100000</td>\n",
              "      <td>0.082855</td>\n",
              "      <td>0.098895</td>\n",
              "      <td>3.000000</td>\n",
              "    </tr>\n",
              "  </tbody>\n",
              "</table>\n",
              "</div>\n",
              "      <button class=\"colab-df-convert\" onclick=\"convertToInteractive('df-fb744935-3d66-4e8d-bcff-264f2f511ac9')\"\n",
              "              title=\"Convert this dataframe to an interactive table.\"\n",
              "              style=\"display:none;\">\n",
              "        \n",
              "  <svg xmlns=\"http://www.w3.org/2000/svg\" height=\"24px\"viewBox=\"0 0 24 24\"\n",
              "       width=\"24px\">\n",
              "    <path d=\"M0 0h24v24H0V0z\" fill=\"none\"/>\n",
              "    <path d=\"M18.56 5.44l.94 2.06.94-2.06 2.06-.94-2.06-.94-.94-2.06-.94 2.06-2.06.94zm-11 1L8.5 8.5l.94-2.06 2.06-.94-2.06-.94L8.5 2.5l-.94 2.06-2.06.94zm10 10l.94 2.06.94-2.06 2.06-.94-2.06-.94-.94-2.06-.94 2.06-2.06.94z\"/><path d=\"M17.41 7.96l-1.37-1.37c-.4-.4-.92-.59-1.43-.59-.52 0-1.04.2-1.43.59L10.3 9.45l-7.72 7.72c-.78.78-.78 2.05 0 2.83L4 21.41c.39.39.9.59 1.41.59.51 0 1.02-.2 1.41-.59l7.78-7.78 2.81-2.81c.8-.78.8-2.07 0-2.86zM5.41 20L4 18.59l7.72-7.72 1.47 1.35L5.41 20z\"/>\n",
              "  </svg>\n",
              "      </button>\n",
              "      \n",
              "  <style>\n",
              "    .colab-df-container {\n",
              "      display:flex;\n",
              "      flex-wrap:wrap;\n",
              "      gap: 12px;\n",
              "    }\n",
              "\n",
              "    .colab-df-convert {\n",
              "      background-color: #E8F0FE;\n",
              "      border: none;\n",
              "      border-radius: 50%;\n",
              "      cursor: pointer;\n",
              "      display: none;\n",
              "      fill: #1967D2;\n",
              "      height: 32px;\n",
              "      padding: 0 0 0 0;\n",
              "      width: 32px;\n",
              "    }\n",
              "\n",
              "    .colab-df-convert:hover {\n",
              "      background-color: #E2EBFA;\n",
              "      box-shadow: 0px 1px 2px rgba(60, 64, 67, 0.3), 0px 1px 3px 1px rgba(60, 64, 67, 0.15);\n",
              "      fill: #174EA6;\n",
              "    }\n",
              "\n",
              "    [theme=dark] .colab-df-convert {\n",
              "      background-color: #3B4455;\n",
              "      fill: #D2E3FC;\n",
              "    }\n",
              "\n",
              "    [theme=dark] .colab-df-convert:hover {\n",
              "      background-color: #434B5C;\n",
              "      box-shadow: 0px 1px 3px 1px rgba(0, 0, 0, 0.15);\n",
              "      filter: drop-shadow(0px 1px 2px rgba(0, 0, 0, 0.3));\n",
              "      fill: #FFFFFF;\n",
              "    }\n",
              "  </style>\n",
              "\n",
              "      <script>\n",
              "        const buttonEl =\n",
              "          document.querySelector('#df-fb744935-3d66-4e8d-bcff-264f2f511ac9 button.colab-df-convert');\n",
              "        buttonEl.style.display =\n",
              "          google.colab.kernel.accessAllowed ? 'block' : 'none';\n",
              "\n",
              "        async function convertToInteractive(key) {\n",
              "          const element = document.querySelector('#df-fb744935-3d66-4e8d-bcff-264f2f511ac9');\n",
              "          const dataTable =\n",
              "            await google.colab.kernel.invokeFunction('convertToInteractive',\n",
              "                                                     [key], {});\n",
              "          if (!dataTable) return;\n",
              "\n",
              "          const docLinkHtml = 'Like what you see? Visit the ' +\n",
              "            '<a target=\"_blank\" href=https://colab.research.google.com/notebooks/data_table.ipynb>data table notebook</a>'\n",
              "            + ' to learn more about interactive tables.';\n",
              "          element.innerHTML = '';\n",
              "          dataTable['output_type'] = 'display_data';\n",
              "          await google.colab.output.renderOutput(dataTable, element);\n",
              "          const docLink = document.createElement('div');\n",
              "          docLink.innerHTML = docLinkHtml;\n",
              "          element.appendChild(docLink);\n",
              "        }\n",
              "      </script>\n",
              "    </div>\n",
              "  </div>\n",
              "  "
            ]
          },
          "metadata": {},
          "execution_count": 48
        }
      ]
    },
    {
      "cell_type": "code",
      "execution_count": null,
      "metadata": {
        "colab": {
          "base_uri": "https://localhost:8080/",
          "height": 174
        },
        "id": "AaGLV6SJp09w",
        "outputId": "f5ca7d95-00cb-4380-e612-d8b048e11086"
      },
      "outputs": [
        {
          "output_type": "execute_result",
          "data": {
            "text/plain": [
              "                   amount  Delta_longitude  Delta_latitude  no_of_passenger\n",
              "amount           1.000000         0.599494        0.725793         0.016455\n",
              "Delta_longitude  0.599494         1.000000        0.426946        -0.005209\n",
              "Delta_latitude   0.725793         0.426946        1.000000         0.009479\n",
              "no_of_passenger  0.016455        -0.005209        0.009479         1.000000"
            ],
            "text/html": [
              "\n",
              "  <div id=\"df-c794a801-f05d-4b53-a500-c5206e5d478e\">\n",
              "    <div class=\"colab-df-container\">\n",
              "      <div>\n",
              "<style scoped>\n",
              "    .dataframe tbody tr th:only-of-type {\n",
              "        vertical-align: middle;\n",
              "    }\n",
              "\n",
              "    .dataframe tbody tr th {\n",
              "        vertical-align: top;\n",
              "    }\n",
              "\n",
              "    .dataframe thead th {\n",
              "        text-align: right;\n",
              "    }\n",
              "</style>\n",
              "<table border=\"1\" class=\"dataframe\">\n",
              "  <thead>\n",
              "    <tr style=\"text-align: right;\">\n",
              "      <th></th>\n",
              "      <th>amount</th>\n",
              "      <th>Delta_longitude</th>\n",
              "      <th>Delta_latitude</th>\n",
              "      <th>no_of_passenger</th>\n",
              "    </tr>\n",
              "  </thead>\n",
              "  <tbody>\n",
              "    <tr>\n",
              "      <th>amount</th>\n",
              "      <td>1.000000</td>\n",
              "      <td>0.599494</td>\n",
              "      <td>0.725793</td>\n",
              "      <td>0.016455</td>\n",
              "    </tr>\n",
              "    <tr>\n",
              "      <th>Delta_longitude</th>\n",
              "      <td>0.599494</td>\n",
              "      <td>1.000000</td>\n",
              "      <td>0.426946</td>\n",
              "      <td>-0.005209</td>\n",
              "    </tr>\n",
              "    <tr>\n",
              "      <th>Delta_latitude</th>\n",
              "      <td>0.725793</td>\n",
              "      <td>0.426946</td>\n",
              "      <td>1.000000</td>\n",
              "      <td>0.009479</td>\n",
              "    </tr>\n",
              "    <tr>\n",
              "      <th>no_of_passenger</th>\n",
              "      <td>0.016455</td>\n",
              "      <td>-0.005209</td>\n",
              "      <td>0.009479</td>\n",
              "      <td>1.000000</td>\n",
              "    </tr>\n",
              "  </tbody>\n",
              "</table>\n",
              "</div>\n",
              "      <button class=\"colab-df-convert\" onclick=\"convertToInteractive('df-c794a801-f05d-4b53-a500-c5206e5d478e')\"\n",
              "              title=\"Convert this dataframe to an interactive table.\"\n",
              "              style=\"display:none;\">\n",
              "        \n",
              "  <svg xmlns=\"http://www.w3.org/2000/svg\" height=\"24px\"viewBox=\"0 0 24 24\"\n",
              "       width=\"24px\">\n",
              "    <path d=\"M0 0h24v24H0V0z\" fill=\"none\"/>\n",
              "    <path d=\"M18.56 5.44l.94 2.06.94-2.06 2.06-.94-2.06-.94-.94-2.06-.94 2.06-2.06.94zm-11 1L8.5 8.5l.94-2.06 2.06-.94-2.06-.94L8.5 2.5l-.94 2.06-2.06.94zm10 10l.94 2.06.94-2.06 2.06-.94-2.06-.94-.94-2.06-.94 2.06-2.06.94z\"/><path d=\"M17.41 7.96l-1.37-1.37c-.4-.4-.92-.59-1.43-.59-.52 0-1.04.2-1.43.59L10.3 9.45l-7.72 7.72c-.78.78-.78 2.05 0 2.83L4 21.41c.39.39.9.59 1.41.59.51 0 1.02-.2 1.41-.59l7.78-7.78 2.81-2.81c.8-.78.8-2.07 0-2.86zM5.41 20L4 18.59l7.72-7.72 1.47 1.35L5.41 20z\"/>\n",
              "  </svg>\n",
              "      </button>\n",
              "      \n",
              "  <style>\n",
              "    .colab-df-container {\n",
              "      display:flex;\n",
              "      flex-wrap:wrap;\n",
              "      gap: 12px;\n",
              "    }\n",
              "\n",
              "    .colab-df-convert {\n",
              "      background-color: #E8F0FE;\n",
              "      border: none;\n",
              "      border-radius: 50%;\n",
              "      cursor: pointer;\n",
              "      display: none;\n",
              "      fill: #1967D2;\n",
              "      height: 32px;\n",
              "      padding: 0 0 0 0;\n",
              "      width: 32px;\n",
              "    }\n",
              "\n",
              "    .colab-df-convert:hover {\n",
              "      background-color: #E2EBFA;\n",
              "      box-shadow: 0px 1px 2px rgba(60, 64, 67, 0.3), 0px 1px 3px 1px rgba(60, 64, 67, 0.15);\n",
              "      fill: #174EA6;\n",
              "    }\n",
              "\n",
              "    [theme=dark] .colab-df-convert {\n",
              "      background-color: #3B4455;\n",
              "      fill: #D2E3FC;\n",
              "    }\n",
              "\n",
              "    [theme=dark] .colab-df-convert:hover {\n",
              "      background-color: #434B5C;\n",
              "      box-shadow: 0px 1px 3px 1px rgba(0, 0, 0, 0.15);\n",
              "      filter: drop-shadow(0px 1px 2px rgba(0, 0, 0, 0.3));\n",
              "      fill: #FFFFFF;\n",
              "    }\n",
              "  </style>\n",
              "\n",
              "      <script>\n",
              "        const buttonEl =\n",
              "          document.querySelector('#df-c794a801-f05d-4b53-a500-c5206e5d478e button.colab-df-convert');\n",
              "        buttonEl.style.display =\n",
              "          google.colab.kernel.accessAllowed ? 'block' : 'none';\n",
              "\n",
              "        async function convertToInteractive(key) {\n",
              "          const element = document.querySelector('#df-c794a801-f05d-4b53-a500-c5206e5d478e');\n",
              "          const dataTable =\n",
              "            await google.colab.kernel.invokeFunction('convertToInteractive',\n",
              "                                                     [key], {});\n",
              "          if (!dataTable) return;\n",
              "\n",
              "          const docLinkHtml = 'Like what you see? Visit the ' +\n",
              "            '<a target=\"_blank\" href=https://colab.research.google.com/notebooks/data_table.ipynb>data table notebook</a>'\n",
              "            + ' to learn more about interactive tables.';\n",
              "          element.innerHTML = '';\n",
              "          dataTable['output_type'] = 'display_data';\n",
              "          await google.colab.output.renderOutput(dataTable, element);\n",
              "          const docLink = document.createElement('div');\n",
              "          docLink.innerHTML = docLinkHtml;\n",
              "          element.appendChild(docLink);\n",
              "        }\n",
              "      </script>\n",
              "    </div>\n",
              "  </div>\n",
              "  "
            ]
          },
          "metadata": {},
          "execution_count": 49
        }
      ],
      "source": [
        "#correlations between columns\n",
        "corr2 = df2.corr()\n",
        "corr2"
      ]
    },
    {
      "cell_type": "code",
      "source": [
        "plt.figure(figsize=(8,8))\n",
        "sns.heatmap(corr2,annot=True,cmap=\"coolwarm\")"
      ],
      "metadata": {
        "colab": {
          "base_uri": "https://localhost:8080/",
          "height": 505
        },
        "id": "OThDW0wJqZ6B",
        "outputId": "1ae7b028-e861-4bd6-95af-1c60beef3264"
      },
      "execution_count": null,
      "outputs": [
        {
          "output_type": "execute_result",
          "data": {
            "text/plain": [
              "<AxesSubplot:>"
            ]
          },
          "metadata": {},
          "execution_count": 50
        },
        {
          "output_type": "display_data",
          "data": {
            "text/plain": [
              "<Figure size 576x576 with 2 Axes>"
            ],
            "image/png": "[encoded data removed]"
          },
          "metadata": {
            "needs_background": "light"
          }
        }
      ]
    },
    {
      "cell_type": "code",
      "execution_count": null,
      "metadata": {
        "id": "ryqfiO8bm3vs"
      },
      "outputs": [],
      "source": [
        "# Here our target feature is 'amount'\n",
        "x_n=df2.drop(['amount'],axis=1)\n",
        "y_n=df2['amount']"
      ]
    },
    {
      "cell_type": "code",
      "execution_count": null,
      "metadata": {
        "id": "JKx6fnMvnQaq"
      },
      "outputs": [],
      "source": [
        "x_n_train,x_n_test,y_n_train,y_n_test=train_test_split(x_n,y_n,test_size=0.2)"
      ]
    },
    {
      "cell_type": "markdown",
      "metadata": {
        "id": "dduNRB5Umr1e"
      },
      "source": [
        "LINEAR REGRESSION"
      ]
    },
    {
      "cell_type": "code",
      "execution_count": null,
      "metadata": {
        "colab": {
          "base_uri": "https://localhost:8080/"
        },
        "id": "Dt2EDCfhmh-6",
        "outputId": "9bb40219-3c32-40e1-93ba-452e6f739553"
      },
      "outputs": [
        {
          "output_type": "execute_result",
          "data": {
            "text/plain": [
              "LinearRegression()"
            ]
          },
          "metadata": {},
          "execution_count": 53
        }
      ],
      "source": [
        "model4=LinearRegression()\n",
        "model4.fit(x_n_train,y_n_train)"
      ]
    },
    {
      "cell_type": "markdown",
      "metadata": {
        "id": "rNzUWZL8njvc"
      },
      "source": [
        "LINEAR REGRESSION EVALUTION"
      ]
    },
    {
      "cell_type": "code",
      "execution_count": null,
      "metadata": {
        "colab": {
          "base_uri": "https://localhost:8080/"
        },
        "id": "5s7rT90Enh-k",
        "outputId": "67494c18-0a19-40f2-8a43-ec9e318c855e"
      },
      "outputs": [
        {
          "output_type": "execute_result",
          "data": {
            "text/plain": [
              "0.6286049409133593"
            ]
          },
          "metadata": {},
          "execution_count": 54
        }
      ],
      "source": [
        "model4.score(x_n_train,y_n_train)"
      ]
    },
    {
      "cell_type": "code",
      "execution_count": null,
      "metadata": {
        "colab": {
          "base_uri": "https://localhost:8080/"
        },
        "id": "VtNOp-KPnzDu",
        "outputId": "80944ce0-855f-40c9-e420-b99804c969a0"
      },
      "outputs": [
        {
          "output_type": "execute_result",
          "data": {
            "text/plain": [
              "0.6330627427545099"
            ]
          },
          "metadata": {},
          "execution_count": 55
        }
      ],
      "source": [
        "model4.score(x_n_test,y_n_test)"
      ]
    },
    {
      "cell_type": "markdown",
      "metadata": {
        "id": "gBJRPFaen7pc"
      },
      "source": [
        "KNN MODEL"
      ]
    },
    {
      "cell_type": "code",
      "execution_count": null,
      "metadata": {
        "colab": {
          "base_uri": "https://localhost:8080/"
        },
        "id": "EGU8gU_YoA8c",
        "outputId": "a06f949e-bde8-4ead-a048-a7c78da34238"
      },
      "outputs": [
        {
          "output_type": "execute_result",
          "data": {
            "text/plain": [
              "KNeighborsRegressor()"
            ]
          },
          "metadata": {},
          "execution_count": 56
        }
      ],
      "source": [
        "model5=KNeighborsRegressor()\n",
        "model5.fit(x_n_train,y_n_train)"
      ]
    },
    {
      "cell_type": "markdown",
      "metadata": {
        "id": "g9zzdQmCoLpW"
      },
      "source": [
        "KNN EVALUTION"
      ]
    },
    {
      "cell_type": "code",
      "execution_count": null,
      "metadata": {
        "colab": {
          "base_uri": "https://localhost:8080/"
        },
        "id": "Hf2HpxKVoO6D",
        "outputId": "08241ffb-8007-4fb5-91a7-5b742847ce75"
      },
      "outputs": [
        {
          "output_type": "execute_result",
          "data": {
            "text/plain": [
              "0.7498953296852142"
            ]
          },
          "metadata": {},
          "execution_count": 57
        }
      ],
      "source": [
        "model5.score(x_n_train,y_n_train)"
      ]
    },
    {
      "cell_type": "code",
      "execution_count": null,
      "metadata": {
        "colab": {
          "base_uri": "https://localhost:8080/"
        },
        "id": "pLkm58WfofoA",
        "outputId": "561c526d-836d-4d75-9af8-aaa15d620707"
      },
      "outputs": [
        {
          "output_type": "execute_result",
          "data": {
            "text/plain": [
              "0.6360229259274642"
            ]
          },
          "metadata": {},
          "execution_count": 58
        }
      ],
      "source": [
        "model5.score(x_n_test,y_n_test)"
      ]
    },
    {
      "cell_type": "markdown",
      "metadata": {
        "id": "FCHNF1qYono6"
      },
      "source": [
        "GRADIENT BOOST REGRESSION"
      ]
    },
    {
      "cell_type": "code",
      "execution_count": null,
      "metadata": {
        "colab": {
          "base_uri": "https://localhost:8080/"
        },
        "id": "D6qr-47iowrn",
        "outputId": "d966b3fb-838e-415c-cbdf-ba6053a703fc"
      },
      "outputs": [
        {
          "output_type": "execute_result",
          "data": {
            "text/plain": [
              "GradientBoostingRegressor()"
            ]
          },
          "metadata": {},
          "execution_count": 59
        }
      ],
      "source": [
        "model6=GradientBoostingRegressor()\n",
        "model6.fit(x_n_train,y_n_train)"
      ]
    },
    {
      "cell_type": "markdown",
      "metadata": {
        "id": "l1XaM2pXo9zo"
      },
      "source": [
        "GRADIENT BOOST REGRESSION EVALUTION"
      ]
    },
    {
      "cell_type": "code",
      "execution_count": null,
      "metadata": {
        "colab": {
          "base_uri": "https://localhost:8080/"
        },
        "id": "FdwNKmLyo-u6",
        "outputId": "85f7fec8-3300-40fe-9bad-1c8551438503"
      },
      "outputs": [
        {
          "output_type": "execute_result",
          "data": {
            "text/plain": [
              "0.6978453050062949"
            ]
          },
          "metadata": {},
          "execution_count": 60
        }
      ],
      "source": [
        "model6.score(x_n_train,y_n_train)"
      ]
    },
    {
      "cell_type": "code",
      "execution_count": null,
      "metadata": {
        "colab": {
          "base_uri": "https://localhost:8080/"
        },
        "id": "srfW-95MpBpA",
        "outputId": "611d1e74-daf0-4d24-a907-20133812c5f3"
      },
      "outputs": [
        {
          "output_type": "execute_result",
          "data": {
            "text/plain": [
              "0.6855678584419119"
            ]
          },
          "metadata": {},
          "execution_count": 61
        }
      ],
      "source": [
        "model6.score(x_n_test,y_n_test)"
      ]
    },
    {
      "cell_type": "markdown",
      "metadata": {
        "id": "W1vWR-Itp699"
      },
      "source": [
        "NOW CORRELATION IS BETTER AND HENCE ALL MODELS HAVE BETTER SCORE THAN BEFORE."
      ]
    }
  ],
  "metadata": {
    "colab": {
      "provenance": []
    },
    "kernelspec": {
      "display_name": "Python 3",
      "name": "python3"
    },
    "language_info": {
      "name": "python"
    }
  },
  "nbformat": 4,
  "nbformat_minor": 0
}